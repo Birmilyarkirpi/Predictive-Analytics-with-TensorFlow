{
 "cells": [
  {
   "cell_type": "raw",
   "metadata": {},
   "source": [
    "import tensorflow as tf\n",
    "tf.nn.conv2d(input,\n",
    "             filter,\n",
    "             strides,\n",
    "             padding,\n",
    "             use_cudnn_on_gpu,\n",
    "             data_format,\n",
    "             name=None)"
   ]
  },
  {
   "cell_type": "raw",
   "metadata": {},
   "source": [
    "def conv_layer(data, weights, bias, strides=1):\n",
    " x = tf.nn.conv2d(x,\n",
    " weights,\n",
    " strides=[1, strides, strides, 1],\n",
    " padding='SAME')\n",
    " x = tf.nn.bias_add(x, bias)\n",
    " return tf.nn.relu(x)"
   ]
  },
  {
   "cell_type": "code",
   "execution_count": null,
   "metadata": {},
   "outputs": [],
   "source": []
  }
 ],
 "metadata": {
  "kernelspec": {
   "display_name": "Python 3",
   "language": "python",
   "name": "python3"
  },
  "language_info": {
   "codemirror_mode": {
    "name": "ipython",
    "version": 3
   },
   "file_extension": ".py",
   "mimetype": "text/x-python",
   "name": "python",
   "nbconvert_exporter": "python",
   "pygments_lexer": "ipython3",
   "version": "3.6.5"
  }
 },
 "nbformat": 4,
 "nbformat_minor": 2
}
