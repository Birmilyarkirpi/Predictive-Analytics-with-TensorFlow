{
 "cells": [
  {
   "cell_type": "markdown",
   "metadata": {},
   "source": [
    "Population and sample"
   ]
  },
  {
   "cell_type": "code",
   "execution_count": 1,
   "metadata": {},
   "outputs": [
    {
     "name": "stdout",
     "output_type": "stream",
     "text": [
      "[0, 1, 2, 3, 4, 5, 6, 7, 8, 9]\n",
      "[3, 1, 7, 2, 4]\n"
     ]
    }
   ],
   "source": [
    "import random\n",
    "\n",
    "l = list(range(0, 10))\n",
    "print(l)\n",
    "\n",
    "r = random.sample(l, 5)\n",
    "print(r)\n"
   ]
  },
  {
   "cell_type": "code",
   "execution_count": 2,
   "metadata": {},
   "outputs": [
    {
     "name": "stdout",
     "output_type": "stream",
     "text": [
      "3.5\n"
     ]
    }
   ],
   "source": [
    "import numpy as np\n",
    "\n",
    "numbers = [1, 2, 3, 4, 5, 6]\n",
    "num_array = np.array(numbers)\n",
    "exp = np.mean(num_array)\n",
    "print(exp)"
   ]
  },
  {
   "cell_type": "markdown",
   "metadata": {},
   "source": [
    "Central limit theorem"
   ]
  },
  {
   "cell_type": "code",
   "execution_count": 4,
   "metadata": {},
   "outputs": [
    {
     "data": {
      "image/png": "[encoded data removed]",
      "text/plain": [
       "<Figure size 432x288 with 1 Axes>"
      ]
     },
     "metadata": {},
     "output_type": "display_data"
    }
   ],
   "source": [
    "from numpy import random\n",
    "from matplotlib import pyplot as plt\n",
    "\n",
    "X = random.randint(10, size = 1000)\n",
    "\n",
    "plt.hist(X)\n",
    "plt.title(\"Frequency distribution\")\n",
    "plt.xlabel(\"Integers\")\n",
    "plt.ylabel(\"Value\")\n",
    "plt.show()"
   ]
  },
  {
   "cell_type": "code",
   "execution_count": 5,
   "metadata": {},
   "outputs": [
    {
     "data": {
      "image/png": "[encoded data removed]",
      "text/plain": [
       "<Figure size 432x288 with 1 Axes>"
      ]
     },
     "metadata": {},
     "output_type": "display_data"
    }
   ],
   "source": [
    "Y = random.normal(size=1000)\n",
    "\n",
    "plt.hist(Y)\n",
    "plt.title(\"Frequency distribution\")\n",
    "plt.xlabel(\"Integers\")\n",
    "plt.ylabel(\"Value\")\n",
    "plt.show()"
   ]
  },
  {
   "cell_type": "code",
   "execution_count": 6,
   "metadata": {},
   "outputs": [
    {
     "name": "stdout",
     "output_type": "stream",
     "text": [
      "Mean : 5.22\n",
      "Median : 5.0\n",
      "Mode : 3\n"
     ]
    }
   ],
   "source": [
    "import numpy as np\n",
    "from scipy import stats\n",
    "\n",
    "data = np.array([3, 5, 9, 2, 7, 3, 6, 9, 3])\n",
    "\n",
    "dt_mean = np.mean(data);\n",
    "print(\"Mean :\", round(dt_mean, 2))\n",
    "\n",
    "dt_median = np.median(data);\n",
    "print(\"Median :\", dt_median)\n",
    "\n",
    "dt_mode = stats.mode(data);\n",
    "print(\"Mode :\", dt_mode[0][0])"
   ]
  },
  {
   "cell_type": "markdown",
   "metadata": {},
   "source": [
    "Standard deviation and variance"
   ]
  },
  {
   "cell_type": "code",
   "execution_count": 7,
   "metadata": {},
   "outputs": [
    {
     "name": "stdout",
     "output_type": "stream",
     "text": [
      "Mean:  5.0\n",
      "Variance 162.5\n",
      "Standard deviation 12.747548783981962\n"
     ]
    }
   ],
   "source": [
    "import numpy as np\n",
    "from statistics import variance, stdev\n",
    "\n",
    "returns = [20, 10, -15, 5]\n",
    "ret_arr = np.array(returns)\n",
    "\n",
    "mean = np.mean(ret_arr)\n",
    "var = np.var(ret_arr)\n",
    "sd = np.std(ret_arr)\n",
    "\n",
    "print(\"Mean: \", mean)\n",
    "print(\"Variance\", var)\n",
    "print(\"Standard deviation\", sd)"
   ]
  },
  {
   "cell_type": "code",
   "execution_count": 8,
   "metadata": {},
   "outputs": [
    {
     "data": {
      "text/plain": [
       "array([[0.80333333, 1.53333333],\n",
       "       [1.53333333, 6.66666667]])"
      ]
     },
     "execution_count": 8,
     "metadata": {},
     "output_type": "execute_result"
    }
   ],
   "source": [
    "import numpy as np\n",
    "a = np.array([2.1, 2.5, 4.0, 3.6])\n",
    "b = np.array([8, 12, 14, 10])\n",
    "np.cov(a, b)"
   ]
  },
  {
   "cell_type": "code",
   "execution_count": 9,
   "metadata": {},
   "outputs": [
    {
     "name": "stdout",
     "output_type": "stream",
     "text": [
      "1.5333333333333332\n"
     ]
    }
   ],
   "source": [
    "cv = np.cov(a, b)[0][1]\n",
    "print(cv)"
   ]
  },
  {
   "cell_type": "code",
   "execution_count": 10,
   "metadata": {},
   "outputs": [],
   "source": [
    "import numpy as np\n",
    "a = np.array([2.1, 2.5, 4.0, 3.6])\n",
    "b = np.array([8, 12, 14, 10])"
   ]
  },
  {
   "cell_type": "code",
   "execution_count": 11,
   "metadata": {},
   "outputs": [
    {
     "data": {
      "text/plain": [
       "array([[1.        , 0.66257388],\n",
       "       [0.66257388, 1.        ]])"
      ]
     },
     "execution_count": 11,
     "metadata": {},
     "output_type": "execute_result"
    }
   ],
   "source": [
    "np.corrcoef(a, b)"
   ]
  },
  {
   "cell_type": "code",
   "execution_count": 12,
   "metadata": {},
   "outputs": [
    {
     "name": "stdout",
     "output_type": "stream",
     "text": [
      "0.6625738822030289\n"
     ]
    }
   ],
   "source": [
    "corr = np.corrcoef(a, b)[0, 1]\n",
    "print(corr)"
   ]
  },
  {
   "cell_type": "code",
   "execution_count": 14,
   "metadata": {},
   "outputs": [
    {
     "data": {
      "text/plain": [
       "(0.6625738822030289, 0.33742611779697107)"
      ]
     },
     "execution_count": 14,
     "metadata": {},
     "output_type": "execute_result"
    }
   ],
   "source": [
    "import scipy\n",
    "scipy.stats.pearsonr(a, b)"
   ]
  },
  {
   "cell_type": "markdown",
   "metadata": {},
   "source": [
    "Interquartile, range, and quartiles"
   ]
  },
  {
   "cell_type": "code",
   "execution_count": 15,
   "metadata": {},
   "outputs": [
    {
     "name": "stdout",
     "output_type": "stream",
     "text": [
      "Range: 69\n"
     ]
    }
   ],
   "source": [
    "import numpy as np\n",
    "from statistics import variance, stdev\n",
    "\n",
    "data_points = np.array([35, 56, 43, 59, 63, 79, 35, 41, 64, 43, 93, 60, 77, 24, 82])\n",
    "\n",
    "dt_rng = np.max(data_points, axis=0) - np.min(data_points, axis=0)\n",
    "print (\"Range:\", dt_rng)"
   ]
  },
  {
   "cell_type": "code",
   "execution_count": 16,
   "metadata": {},
   "outputs": [
    {
     "name": "stdout",
     "output_type": "stream",
     "text": [
      "Quantiles:\n",
      "20% 39.800000000000004\n",
      "80% 77.4\n",
      "100% 93.0\n"
     ]
    }
   ],
   "source": [
    "print(\"Quantiles:\")\n",
    "for val in [20, 80, 100]:\n",
    "    qntls = np.percentile(data_points,val)\n",
    "    print(str(val)+\"%\", qntls)"
   ]
  },
  {
   "cell_type": "code",
   "execution_count": 17,
   "metadata": {},
   "outputs": [
    {
     "name": "stdout",
     "output_type": "stream",
     "text": [
      "Inter quartile range: 28.5\n"
     ]
    }
   ],
   "source": [
    "q75, q25 = np.percentile(data_points, [75, 25])\n",
    "print(\"Inter quartile range:\", q75-q25)"
   ]
  },
  {
   "cell_type": "markdown",
   "metadata": {},
   "source": [
    "Hypothesis testing"
   ]
  },
  {
   "cell_type": "code",
   "execution_count": 18,
   "metadata": {},
   "outputs": [
    {
     "name": "stdout",
     "output_type": "stream",
     "text": [
      "11.846153846153847\n",
      "0.007929189847280927\n"
     ]
    }
   ],
   "source": [
    "from scipy.stats import chisquare\n",
    "\n",
    "x = [209, 280, 225, 248]\n",
    "chi_statistic, p_value = chisquare(x)\n",
    "print(chi_statistic)\n",
    "print(p_value)"
   ]
  },
  {
   "cell_type": "code",
   "execution_count": 19,
   "metadata": {},
   "outputs": [],
   "source": [
    "import pandas as pd\n",
    "from scipy import stats"
   ]
  },
  {
   "cell_type": "code",
   "execution_count": 20,
   "metadata": {},
   "outputs": [],
   "source": [
    "survey = pd.read_csv(\"survey.csv\")"
   ]
  },
  {
   "cell_type": "code",
   "execution_count": 21,
   "metadata": {},
   "outputs": [],
   "source": [
    "survey_tab = pd.crosstab(survey.Smoke, survey.Exer, margins = True)"
   ]
  },
  {
   "cell_type": "code",
   "execution_count": 22,
   "metadata": {},
   "outputs": [
    {
     "name": "stdout",
     "output_type": "stream",
     "text": [
      "P-value is:  0.483\n"
     ]
    },
    {
     "name": "stderr",
     "output_type": "stream",
     "text": [
      "c:\\users\\test.ppmumcpu0034\\appdata\\local\\programs\\python\\python36-32\\lib\\site-packages\\ipykernel_launcher.py:1: DeprecationWarning: \n",
      ".ix is deprecated. Please use\n",
      ".loc for label based indexing or\n",
      ".iloc for positional indexing\n",
      "\n",
      "See the documentation here:\n",
      "http://pandas.pydata.org/pandas-docs/stable/indexing.html#ix-indexer-is-deprecated\n",
      "  \"\"\"Entry point for launching an IPython kernel.\n"
     ]
    }
   ],
   "source": [
    "observed = survey_tab.ix[0:4,0:3]\n",
    "\n",
    "contg = stats.chi2_contingency(observed= observed)\n",
    "p_value = round(contg[1],3)\n",
    "print (\"P-value is: \",p_value)"
   ]
  },
  {
   "cell_type": "code",
   "execution_count": null,
   "metadata": {},
   "outputs": [],
   "source": []
  }
 ],
 "metadata": {
  "kernelspec": {
   "display_name": "Python 3",
   "language": "python",
   "name": "python3"
  },
  "language_info": {
   "codemirror_mode": {
    "name": "ipython",
    "version": 3
   },
   "file_extension": ".py",
   "mimetype": "text/x-python",
   "name": "python",
   "nbconvert_exporter": "python",
   "pygments_lexer": "ipython3",
   "version": "3.6.5"
  }
 },
 "nbformat": 4,
 "nbformat_minor": 2
}
