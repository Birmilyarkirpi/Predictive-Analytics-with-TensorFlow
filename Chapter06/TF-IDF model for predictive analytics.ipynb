{
 "cells": [
  {
   "cell_type": "code",
   "execution_count": 1,
   "metadata": {},
   "outputs": [],
   "source": [
    "import warnings\n",
    "warnings.filterwarnings(\"ignore\")"
   ]
  },
  {
   "cell_type": "code",
   "execution_count": 2,
   "metadata": {},
   "outputs": [],
   "source": [
    "import math\n",
    "from textblob import TextBlob as tb\n",
    "import numpy as np"
   ]
  },
  {
   "cell_type": "code",
   "execution_count": 3,
   "metadata": {},
   "outputs": [],
   "source": [
    "def tf(word, doc):\n",
    " return doc.words.count(word) / len(doc.words)"
   ]
  },
  {
   "cell_type": "code",
   "execution_count": 4,
   "metadata": {},
   "outputs": [],
   "source": [
    "def n_contain(word, doclist):\n",
    " return sum(1 for doc in doclist if word in blob.words)"
   ]
  },
  {
   "cell_type": "code",
   "execution_count": 5,
   "metadata": {},
   "outputs": [],
   "source": [
    "def idf(word, doclist):\n",
    " return math.log(len(doclist) / (1 + n_contain(word, doclist)))"
   ]
  },
  {
   "cell_type": "code",
   "execution_count": 6,
   "metadata": {},
   "outputs": [],
   "source": [
    "def tfidf(word, doc, doclist):\n",
    " return tf(word, doc) * idf(word, doclist)"
   ]
  },
  {
   "cell_type": "code",
   "execution_count": 7,
   "metadata": {},
   "outputs": [],
   "source": [
    "doc1 = tb(\"\"\"TensorFlow is an open source software library for machine learning across a range of tasks, and developed by Google to meet their needs for systems capable of building and training neural networks to detect and decipher patterns and correlations, analogous to the learning and reasoning which humans use\"\"\")\n",
    "doc2 = tb(\"\"\"It is currently used for both research and production at Google products,‍ often replacing the role of its closed-source predecessor, DistBelief. TensorFlow was originally developed by the Google Brain team for internal Google use before being released under the Apache 2.0 open source license on November 9, 2015\"\"\")\n",
    "doc3 = tb(\"\"\"Starting in 2011, Google Brain built DistBelief as a proprietary machine learning system based on deep learning neural networks. Its use grew rapidly across diverse Alphabet companies in both research and commercial applications\"\"\")\n",
    "blobList = [doc1, doc2, doc3]"
   ]
  },
  {
   "cell_type": "code",
   "execution_count": 8,
   "metadata": {},
   "outputs": [
    {
     "name": "stdout",
     "output_type": "stream",
     "text": [
      "[nltk_data] Downloading package punkt to\n",
      "[nltk_data]     C:\\Users\\Test.PPMUMCPU0034\\AppData\\Roaming\\nltk_data..\n",
      "[nltk_data]     .\n",
      "[nltk_data]   Package punkt is already up-to-date!\n",
      "Top words in document 1\n",
      "\tWord: TensorFlow, TF-IDF: -0.0059933765\n",
      "\tWord: is, TF-IDF: -0.0059933765\n",
      "\tWord: an, TF-IDF: -0.0059933765\n",
      "\tWord: open, TF-IDF: -0.0059933765\n",
      "\tWord: source, TF-IDF: -0.0059933765\n",
      "Top words in document 2\n",
      "\tWord: It, TF-IDF: -0.0058710627\n",
      "\tWord: is, TF-IDF: -0.0058710627\n",
      "\tWord: currently, TF-IDF: -0.0058710627\n",
      "\tWord: used, TF-IDF: -0.0058710627\n",
      "\tWord: both, TF-IDF: -0.0058710627\n",
      "Top words in document 3\n",
      "\tWord: Starting, TF-IDF: -0.0087176386\n",
      "\tWord: 2011, TF-IDF: -0.0087176386\n",
      "\tWord: Google, TF-IDF: -0.0087176386\n",
      "\tWord: Brain, TF-IDF: -0.0087176386\n",
      "\tWord: built, TF-IDF: -0.0087176386\n"
     ]
    }
   ],
   "source": [
    "import nltk\n",
    "nltk.download('punkt')\n",
    "for i, blob in enumerate(blobList):\n",
    "    print(\"Top words in document {}\".format(i+1))\n",
    "    scores = {word: tfidf(word, blob, blobList) for word in blob.words}\n",
    "    sorted_words = sorted(scores.items(), key=lambda x: x[1], reverse=True)\n",
    "    for word, score in sorted_words[:5]:\n",
    "        print(\"\\tWord: {}, TF-IDF: {}\".format(word, round(score, 10)))"
   ]
  },
  {
   "cell_type": "raw",
   "metadata": {},
   "source": [
    "TfidfVectorizer(analyzer='word', binary=False, decode_error='strict',dtype=<class 'numpy.int64'>, encoding='utf-8',\n",
    "input='content',lowercase=True, max_df=1.0, max_features=1000,\n",
    "min_df=1,ngram_range=(1, 1), norm='l2', preprocessor=None, smooth_idf=True,stop_words='english', strip_accents=None, sublinear_tf=False,\n",
    "token_pattern='(?u)\\\\b\\\\w\\\\w+\\\\b', tokenizer=<function tokenizer at 0x7f680a89e0d0>, use_idf=True,vocabulary=None)"
   ]
  },
  {
   "cell_type": "raw",
   "metadata": {},
   "source": [
    "tfidf = TfidfVectorizer(tokenizer=tokenizer, stop_words='english', max_features=max_features)"
   ]
  },
  {
   "cell_type": "raw",
   "metadata": {},
   "source": [
    "def tokenizer(text):\n",
    " words = nltk.word_tokenize(text)\n",
    " return words"
   ]
  },
  {
   "cell_type": "markdown",
   "metadata": {},
   "source": [
    "Implementing a TF-IDF model for spam\n",
    "prediction"
   ]
  },
  {
   "cell_type": "code",
   "execution_count": 9,
   "metadata": {},
   "outputs": [],
   "source": [
    "import tensorflow as tf # TensorFlow\n",
    "import matplotlib.pyplot as plt # For matplotlib for plotting \n",
    "import csv # For parsing and preprcessing CSV file \n",
    "import numpy as np # For the NumPy array \n",
    "import os # For the regular OS support\n",
    "import string # For string manipulation \n",
    "import requests # For handling HTTP request \n",
    "import io # For the I/O operation \n",
    "import nltk # For the nltk and its pre-trained toxkenizer models\n",
    "from nltk.corpus import stopwords # For removing stop-words\n",
    "from nltk import word_tokenize,sent_tokenize # For the nltk and its pre-trained toxkenizer models\n",
    "from zipfile import ZipFile # For handling zipped files \n",
    "from sklearn.model_selection import train_test_split\n",
    "from sklearn.feature_extraction.text import TfidfVectorizer # TF_IDF \n",
    "from tensorflow.python.framework import ops # For TensorFlow python framework \n",
    "ops.reset_default_graph() # reset the deafult graph setting \n",
    "\n",
    "from tensorflow.python.framework import ops\n",
    "import random\n"
   ]
  },
  {
   "cell_type": "code",
   "execution_count": 10,
   "metadata": {},
   "outputs": [],
   "source": [
    "sess = tf.Session()\n",
    "\n",
    "batch_size = 200\n",
    "max_features = 1000"
   ]
  },
  {
   "cell_type": "code",
   "execution_count": 11,
   "metadata": {},
   "outputs": [
    {
     "name": "stdout",
     "output_type": "stream",
     "text": [
      "showing info https://raw.githubusercontent.com/nltk/nltk_data/gh-pages/index.xml\n"
     ]
    },
    {
     "data": {
      "text/plain": [
       "True"
      ]
     },
     "execution_count": 11,
     "metadata": {},
     "output_type": "execute_result"
    }
   ],
   "source": [
    "import nltk\n",
    "nltk.download()"
   ]
  },
  {
   "cell_type": "code",
   "execution_count": 12,
   "metadata": {},
   "outputs": [],
   "source": [
    "save_file_name = os.path.join('C:/Users/Test.PPMUMCPU0034/Desktop/Tensorflow/Section 6/temp','temp_spam_data.csv')\n",
    "\n",
    "if not os.path.exists('C:/Users/Test.PPMUMCPU0034/Desktop/Tensorflow/Section 6/temp'):\n",
    "    os.makedirs('C:/Users/Test.PPMUMCPU0034/Desktop/Tensorflow/Section 6/temp')\n",
    "else:\n",
    "    zip_url = 'http://archive.ics.uci.edu/ml/machine-learning-databases/00228/smsspamcollection.zip'\n",
    "    r = requests.get(zip_url)\n",
    "    z = ZipFile(io.BytesIO(r.content))\n",
    "    file = z.read('SMSSpamCollection')\n",
    "    # Format Data\n",
    "    text_data = file.decode()\n",
    "    text_data = text_data.encode('ascii',errors='ignore')\n",
    "    text_data = text_data.decode().split('\\n')\n",
    "    text_data = [x.split('\\t') for x in text_data if len(x)>=1]\n",
    "    \n",
    "    # And write to csv\n",
    "    with open(save_file_name, 'w') as temp_output_file:\n",
    "        writer = csv.writer(temp_output_file)\n",
    "        writer.writerows(text_data)"
   ]
  },
  {
   "cell_type": "code",
   "execution_count": 13,
   "metadata": {},
   "outputs": [],
   "source": [
    "texts = [x[1] for x in text_data]\n",
    "target = [x[0] for x in text_data]"
   ]
  },
  {
   "cell_type": "code",
   "execution_count": 14,
   "metadata": {},
   "outputs": [],
   "source": [
    "target = [1. if x=='spam' else 0. for x in target]"
   ]
  },
  {
   "cell_type": "code",
   "execution_count": 15,
   "metadata": {},
   "outputs": [],
   "source": [
    "texts = [x.lower() for x in texts]"
   ]
  },
  {
   "cell_type": "code",
   "execution_count": 16,
   "metadata": {},
   "outputs": [],
   "source": [
    "texts = [''.join(c for c in x if c not in string.punctuation) for x in texts]"
   ]
  },
  {
   "cell_type": "code",
   "execution_count": 17,
   "metadata": {},
   "outputs": [],
   "source": [
    "texts = [''.join(c for c in x if c not in '0123456789') for x in texts]"
   ]
  },
  {
   "cell_type": "code",
   "execution_count": 18,
   "metadata": {},
   "outputs": [],
   "source": [
    "texts = [' '.join(x.split()) for x in texts]"
   ]
  },
  {
   "cell_type": "code",
   "execution_count": 19,
   "metadata": {},
   "outputs": [],
   "source": [
    "def tokenizer(text):\n",
    "    words = nltk.word_tokenize(text)\n",
    "    return words"
   ]
  },
  {
   "cell_type": "code",
   "execution_count": 20,
   "metadata": {},
   "outputs": [],
   "source": [
    "tfidf = TfidfVectorizer(tokenizer=tokenizer, stop_words='english', max_features=max_features)\n",
    "sparse_tfidf_texts = tfidf.fit_transform(texts)"
   ]
  },
  {
   "cell_type": "code",
   "execution_count": 21,
   "metadata": {},
   "outputs": [],
   "source": [
    "train_indices = np.random.choice(sparse_tfidf_texts.shape[0], round(0.75*sparse_tfidf_texts.shape[0]), replace=False)\n",
    "test_indices = np.array(list(set(range(sparse_tfidf_texts.shape[0])) - set(train_indices)))\n",
    "texts_train = sparse_tfidf_texts[train_indices]\n",
    "texts_test = sparse_tfidf_texts[test_indices]\n",
    "target_train = np.array([x for ix, x in enumerate(target) if ix in train_indices])\n",
    "target_test = np.array([x for ix, x in enumerate(target) if ix in test_indices])"
   ]
  },
  {
   "cell_type": "code",
   "execution_count": 22,
   "metadata": {},
   "outputs": [],
   "source": [
    "A = tf.Variable(tf.random_normal(shape=[max_features,1]))\n",
    "b = tf.Variable(tf.random_normal(shape=[1,1]))"
   ]
  },
  {
   "cell_type": "code",
   "execution_count": 23,
   "metadata": {},
   "outputs": [],
   "source": [
    "x_data = tf.placeholder(shape=[None, max_features], dtype=tf.float32)\n",
    "y_target = tf.placeholder(shape=[None, 1], dtype=tf.float32)"
   ]
  },
  {
   "cell_type": "code",
   "execution_count": 24,
   "metadata": {},
   "outputs": [],
   "source": [
    "model_output = tf.add(tf.matmul(x_data, A), b)"
   ]
  },
  {
   "cell_type": "code",
   "execution_count": 25,
   "metadata": {},
   "outputs": [],
   "source": [
    "loss = tf.reduce_mean(tf.nn.sigmoid_cross_entropy_with_logits(logits=model_output, labels=y_target))"
   ]
  },
  {
   "cell_type": "code",
   "execution_count": 26,
   "metadata": {},
   "outputs": [],
   "source": [
    "prediction = tf.round(tf.sigmoid(model_output))\n",
    "predictions_correct = tf.cast(tf.equal(prediction, y_target), tf.float32)\n",
    "accuracy = tf.reduce_mean(predictions_correct)"
   ]
  },
  {
   "cell_type": "code",
   "execution_count": 27,
   "metadata": {},
   "outputs": [],
   "source": [
    "train_op = tf.train.GradientDescentOptimizer(0.01)\n",
    "train_step = train_op.minimize(loss)"
   ]
  },
  {
   "cell_type": "code",
   "execution_count": 28,
   "metadata": {},
   "outputs": [],
   "source": [
    "init_op = tf.global_variables_initializer()\n",
    "sess.run(init_op)"
   ]
  },
  {
   "cell_type": "code",
   "execution_count": 29,
   "metadata": {},
   "outputs": [],
   "source": [
    "train_loss = []\n",
    "test_loss = []\n",
    "train_acc = []\n",
    "test_acc = []\n",
    "i_data = []"
   ]
  },
  {
   "cell_type": "code",
   "execution_count": 30,
   "metadata": {},
   "outputs": [
    {
     "name": "stdout",
     "output_type": "stream",
     "text": [
      "Iteration # 500. Train Loss (Test Loss): 0.45 (0.48). Train Acc (Test Acc): 0.82 (0.82)\n",
      "Iteration # 1000. Train Loss (Test Loss): 0.41 (0.46). Train Acc (Test Acc): 0.86 (0.84)\n",
      "Iteration # 1500. Train Loss (Test Loss): 0.45 (0.46). Train Acc (Test Acc): 0.84 (0.85)\n",
      "Iteration # 2000. Train Loss (Test Loss): 0.42 (0.46). Train Acc (Test Acc): 0.88 (0.86)\n",
      "Iteration # 2500. Train Loss (Test Loss): 0.38 (0.46). Train Acc (Test Acc): 0.88 (0.86)\n",
      "Iteration # 3000. Train Loss (Test Loss): 0.36 (0.46). Train Acc (Test Acc): 0.88 (0.86)\n",
      "Iteration # 3500. Train Loss (Test Loss): 0.43 (0.46). Train Acc (Test Acc): 0.86 (0.86)\n",
      "Iteration # 4000. Train Loss (Test Loss): 0.49 (0.46). Train Acc (Test Acc): 0.82 (0.86)\n",
      "Iteration # 4500. Train Loss (Test Loss): 0.45 (0.45). Train Acc (Test Acc): 0.84 (0.86)\n",
      "Iteration # 5000. Train Loss (Test Loss): 0.49 (0.45). Train Acc (Test Acc): 0.82 (0.86)\n",
      "Iteration # 5500. Train Loss (Test Loss): 0.46 (0.45). Train Acc (Test Acc): 0.85 (0.86)\n",
      "Iteration # 6000. Train Loss (Test Loss): 0.42 (0.45). Train Acc (Test Acc): 0.86 (0.86)\n",
      "Iteration # 6500. Train Loss (Test Loss): 0.42 (0.45). Train Acc (Test Acc): 0.86 (0.86)\n",
      "Iteration # 7000. Train Loss (Test Loss): 0.46 (0.45). Train Acc (Test Acc): 0.87 (0.86)\n",
      "Iteration # 7500. Train Loss (Test Loss): 0.47 (0.45). Train Acc (Test Acc): 0.82 (0.86)\n",
      "Iteration # 8000. Train Loss (Test Loss): 0.49 (0.45). Train Acc (Test Acc): 0.83 (0.86)\n",
      "Iteration # 8500. Train Loss (Test Loss): 0.49 (0.45). Train Acc (Test Acc): 0.84 (0.86)\n",
      "Iteration # 9000. Train Loss (Test Loss): 0.52 (0.45). Train Acc (Test Acc): 0.83 (0.86)\n",
      "Iteration # 9500. Train Loss (Test Loss): 0.57 (0.45). Train Acc (Test Acc): 0.80 (0.86)\n",
      "Iteration # 10000. Train Loss (Test Loss): 0.45 (0.45). Train Acc (Test Acc): 0.85 (0.86)\n"
     ]
    }
   ],
   "source": [
    "for i in range(10000):\n",
    "    rand_index = np.random.choice(texts_train.shape[0], size=batch_size)\n",
    "    rand_x = texts_train[rand_index].todense()\n",
    "    rand_y = np.transpose([target_train[rand_index]])\n",
    "    sess.run(train_step, feed_dict={x_data: rand_x, y_target: rand_y})\n",
    "    \n",
    "    # Only record loss and accuracy every 100 generations\n",
    "    if (i+1)%100==0:\n",
    "        i_data.append(i+1)\n",
    "        train_loss_temp = sess.run(loss, feed_dict={x_data: rand_x, y_target: rand_y})\n",
    "        train_loss.append(train_loss_temp)\n",
    "        \n",
    "        test_loss_temp = sess.run(loss, feed_dict={x_data: texts_test.todense(), y_target: target_test.reshape(-1,1)})\n",
    "        test_loss.append(test_loss_temp)\n",
    "        \n",
    "        train_acc_temp = sess.run(accuracy, feed_dict={x_data: rand_x, y_target: rand_y})\n",
    "        train_acc.append(train_acc_temp)\n",
    "    \n",
    "        test_acc_temp = sess.run(accuracy, feed_dict={x_data: texts_test.todense(), y_target: target_test.reshape(-1,1)})\n",
    "        test_acc.append(test_acc_temp)\n",
    "    if (i+1)%500==0:\n",
    "        acc_and_loss = [i+1, train_loss_temp, test_loss_temp, train_acc_temp, test_acc_temp]\n",
    "        acc_and_loss = [np.round(x,2) for x in acc_and_loss]\n",
    "        print('Iteration # {}. Train Loss (Test Loss): {:.2f} ({:.2f}). Train Acc (Test Acc): {:.2f} ({:.2f})'.format(*acc_and_loss))"
   ]
  },
  {
   "cell_type": "code",
   "execution_count": 31,
   "metadata": {},
   "outputs": [
    {
     "name": "stdout",
     "output_type": "stream",
     "text": [
      "\n",
      "Overall accuracy on the training set (%): 84.2699944972992\n",
      "Overall accuracy on the test set (%): 85.76399087905884\n"
     ]
    }
   ],
   "source": [
    "print('\\nOverall accuracy on the training set (%): {}'.format(np.mean(train_acc)*100.0))\n",
    "print('Overall accuracy on the test set (%): {}'.format(np.mean(test_acc)*100.0))"
   ]
  },
  {
   "cell_type": "code",
   "execution_count": 32,
   "metadata": {},
   "outputs": [
    {
     "data": {
      "image/png": "[encoded data removed]",
      "text/plain": [
       "<Figure size 432x288 with 1 Axes>"
      ]
     },
     "metadata": {},
     "output_type": "display_data"
    }
   ],
   "source": [
    "plt.plot(i_data, train_loss, 'k-', label='Training loss')\n",
    "plt.plot(i_data, test_loss, 'r--', label='Test loss', linewidth=4)\n",
    "plt.title('Cross entropy loss per iteration')\n",
    "plt.xlabel('Iteration')\n",
    "plt.ylabel('Cross entropy loss')\n",
    "plt.legend(loc='upper right')\n",
    "plt.show()"
   ]
  },
  {
   "cell_type": "code",
   "execution_count": 33,
   "metadata": {},
   "outputs": [
    {
     "data": {
      "image/png": "[encoded data removed]",
      "text/plain": [
       "<Figure size 432x288 with 1 Axes>"
      ]
     },
     "metadata": {},
     "output_type": "display_data"
    }
   ],
   "source": [
    "plt.plot(i_data, train_acc, 'k-', label='Accuracy on the training set')\n",
    "plt.plot(i_data, test_acc, 'r--', label='Accuracy on the test set', linewidth=4)\n",
    "plt.title('Accuracy on the train and test set')\n",
    "plt.xlabel('Generation')\n",
    "plt.ylabel('Accuracy')\n",
    "plt.legend(loc='lower right')\n",
    "plt.show()"
   ]
  },
  {
   "cell_type": "code",
   "execution_count": null,
   "metadata": {},
   "outputs": [],
   "source": []
  }
 ],
 "metadata": {
  "kernelspec": {
   "display_name": "Python 3",
   "language": "python",
   "name": "python3"
  },
  "language_info": {
   "codemirror_mode": {
    "name": "ipython",
    "version": 3
   },
   "file_extension": ".py",
   "mimetype": "text/x-python",
   "name": "python",
   "nbconvert_exporter": "python",
   "pygments_lexer": "ipython3",
   "version": "3.6.5"
  }
 },
 "nbformat": 4,
 "nbformat_minor": 2
}
