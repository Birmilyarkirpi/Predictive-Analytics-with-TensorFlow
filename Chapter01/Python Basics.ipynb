{
 "cells": [
  {
   "cell_type": "markdown",
   "metadata": {},
   "source": [
    "Python data types"
   ]
  },
  {
   "cell_type": "code",
   "execution_count": 1,
   "metadata": {},
   "outputs": [],
   "source": [
    "counter = 100.50"
   ]
  },
  {
   "cell_type": "code",
   "execution_count": 2,
   "metadata": {},
   "outputs": [],
   "source": [
    "age = 32"
   ]
  },
  {
   "cell_type": "code",
   "execution_count": 3,
   "metadata": {},
   "outputs": [],
   "source": [
    "name = \"Reza\""
   ]
  },
  {
   "cell_type": "code",
   "execution_count": 4,
   "metadata": {},
   "outputs": [],
   "source": [
    "x = y = z = 50"
   ]
  },
  {
   "cell_type": "code",
   "execution_count": 5,
   "metadata": {},
   "outputs": [],
   "source": [
    "x,y,z = 50,30,\"Reza\""
   ]
  },
  {
   "cell_type": "code",
   "execution_count": 6,
   "metadata": {},
   "outputs": [
    {
     "name": "stdout",
     "output_type": "stream",
     "text": [
      "x =  50\n",
      "y =  30\n",
      "z =  Reza\n"
     ]
    }
   ],
   "source": [
    "print (\"x = \",x)\n",
    "print (\"y = \",y)\n",
    "print (\"z = \",z)"
   ]
  },
  {
   "cell_type": "markdown",
   "metadata": {},
   "source": [
    "Using strings in Python"
   ]
  },
  {
   "cell_type": "code",
   "execution_count": 7,
   "metadata": {},
   "outputs": [
    {
     "name": "stdout",
     "output_type": "stream",
     "text": [
      "Hello, world!\n",
      "H\n",
      "llo\n",
      "Hello, world!Hello, world!\n",
      "Hello, world!TEST\n"
     ]
    }
   ],
   "source": [
    "message = 'Hello, world!'\n",
    "print(message)             \n",
    "print(message[0])          \n",
    "print(message[2:5])        \n",
    "print(message * 2)         \n",
    "print(message + \"TEST\")    "
   ]
  },
  {
   "cell_type": "markdown",
   "metadata": {},
   "source": [
    "Using lists in Python"
   ]
  },
  {
   "cell_type": "code",
   "execution_count": 8,
   "metadata": {},
   "outputs": [
    {
     "name": "stdout",
     "output_type": "stream",
     "text": [
      "['Ireland', 1985, 4.5, 'John Rambo']\n",
      "Ireland\n",
      "[1985, 4.5]\n",
      "[4.5, 'John Rambo']\n",
      "['Ireland', 1985, 4.5, 'John Rambo', 'Ireland', 1985, 4.5, 'John Rambo']\n",
      "['Ireland', 1985, 4.5, 'John Rambo', 'USA', 1982, 6.5, 'Sylvester Stallone']\n"
     ]
    }
   ],
   "source": [
    "list1 = [ 'Ireland', 1985 , 4.5, 'John Rambo']\n",
    "list2 = ['USA', 1982 , 6.5, 'Sylvester Stallone']\n",
    "print(list1)               \n",
    "print(list1[0])            \n",
    "print(list1[1:3])          \n",
    "print(list1[2:])           \n",
    "print(list1 * 2)           \n",
    "print(list1 + list2)       "
   ]
  },
  {
   "cell_type": "markdown",
   "metadata": {},
   "source": [
    "Using tuples in Python"
   ]
  },
  {
   "cell_type": "code",
   "execution_count": 9,
   "metadata": {},
   "outputs": [
    {
     "name": "stdout",
     "output_type": "stream",
     "text": [
      "('Ireland', 1985, 4.5, 'John Rambo')\n",
      "Ireland\n",
      "(1985, 4.5)\n",
      "(4.5, 'John Rambo')\n",
      "('Ireland', 1985, 4.5, 'John Rambo', 'Ireland', 1985, 4.5, 'John Rambo')\n",
      "('Ireland', 1985, 4.5, 'John Rambo', 'USA', 1982, 6.5, 'Sylvester Stallone')\n"
     ]
    }
   ],
   "source": [
    "tuple1 = ('Ireland', 1985, 4.5, 'John Rambo')\n",
    "tuple2 = ('USA', 1982, 6.5, 'Sylvester Stallone')\n",
    "print(tuple1)               \n",
    "print(tuple1[0])            \n",
    "print(tuple1[1:3])         \n",
    "print(tuple1[2:])           \n",
    "print(tuple1 * 2)           \n",
    "print(tuple1 + tuple2)      "
   ]
  },
  {
   "cell_type": "markdown",
   "metadata": {},
   "source": [
    "Using dictionary in Python"
   ]
  },
  {
   "cell_type": "code",
   "execution_count": 10,
   "metadata": {},
   "outputs": [],
   "source": [
    "mydict = {}"
   ]
  },
  {
   "cell_type": "code",
   "execution_count": 11,
   "metadata": {},
   "outputs": [],
   "source": [
    "mydict = {1: 'apple', 2: 'ball', 3: 'cat'}"
   ]
  },
  {
   "cell_type": "code",
   "execution_count": 12,
   "metadata": {},
   "outputs": [],
   "source": [
    "mydict = {'name': 'John Rambo', 'numbers': [2, 4, 3]}"
   ]
  },
  {
   "cell_type": "code",
   "execution_count": 13,
   "metadata": {},
   "outputs": [
    {
     "name": "stdout",
     "output_type": "stream",
     "text": [
      "{'name': 'John Rambo', 'numbers': [2, 4, 3]}\n"
     ]
    }
   ],
   "source": [
    "print(mydict)"
   ]
  },
  {
   "cell_type": "code",
   "execution_count": 14,
   "metadata": {},
   "outputs": [
    {
     "name": "stdout",
     "output_type": "stream",
     "text": [
      "John Rambo\n"
     ]
    }
   ],
   "source": [
    "print(mydict['name'])"
   ]
  },
  {
   "cell_type": "code",
   "execution_count": 15,
   "metadata": {},
   "outputs": [
    {
     "name": "stdout",
     "output_type": "stream",
     "text": [
      "[2, 4, 3]\n"
     ]
    }
   ],
   "source": [
    "print(mydict.get('numbers'))"
   ]
  },
  {
   "cell_type": "code",
   "execution_count": 16,
   "metadata": {},
   "outputs": [
    {
     "name": "stdout",
     "output_type": "stream",
     "text": [
      "{'name': 'John Max', 'numbers': [2, 4, 3]}\n"
     ]
    }
   ],
   "source": [
    "mydict['name'] = 'John Max'\n",
    "print(mydict)"
   ]
  },
  {
   "cell_type": "code",
   "execution_count": 17,
   "metadata": {},
   "outputs": [
    {
     "name": "stdout",
     "output_type": "stream",
     "text": [
      "{'name': 'John Max', 'numbers': [2, 4, 3], 'address': 'Aachen, Germany'}\n"
     ]
    }
   ],
   "source": [
    "mydict['address'] = 'Aachen, Germany'\n",
    "print(mydict)"
   ]
  },
  {
   "cell_type": "code",
   "execution_count": 18,
   "metadata": {},
   "outputs": [
    {
     "name": "stdout",
     "output_type": "stream",
     "text": [
      "{'name': 'John Max', 'numbers': [2, 4, 3]}\n"
     ]
    }
   ],
   "source": [
    "mydict.popitem()\n",
    "print(mydict)"
   ]
  },
  {
   "cell_type": "code",
   "execution_count": 19,
   "metadata": {},
   "outputs": [
    {
     "name": "stdout",
     "output_type": "stream",
     "text": [
      "{}\n"
     ]
    }
   ],
   "source": [
    "mydict.clear()\n",
    "print(mydict)"
   ]
  },
  {
   "cell_type": "markdown",
   "metadata": {},
   "source": [
    "Using sets in Python"
   ]
  },
  {
   "cell_type": "code",
   "execution_count": 20,
   "metadata": {},
   "outputs": [
    {
     "name": "stdout",
     "output_type": "stream",
     "text": [
      "{1, 2, 3, 4, 5}\n"
     ]
    }
   ],
   "source": [
    "mySet = {1, 2, 3, 4, 5}\n",
    "print(mySet)"
   ]
  },
  {
   "cell_type": "code",
   "execution_count": 21,
   "metadata": {},
   "outputs": [
    {
     "name": "stdout",
     "output_type": "stream",
     "text": [
      "{9, (1, 2, 3, 4, 5), 4.0, 'John R ambo'}\n"
     ]
    }
   ],
   "source": [
    "mySet = {4.0, \"John R ambo\", (1, 2, 3, 4, 5), 9}\n",
    "print(mySet)"
   ]
  },
  {
   "cell_type": "code",
   "execution_count": 22,
   "metadata": {},
   "outputs": [
    {
     "name": "stdout",
     "output_type": "stream",
     "text": [
      "{2.5, 4.0, 9, (1, 2, 3, 4, 5), 'John R ambo'}\n"
     ]
    }
   ],
   "source": [
    "mySet.add(2.5)\n",
    "print(mySet)"
   ]
  },
  {
   "cell_type": "code",
   "execution_count": 23,
   "metadata": {},
   "outputs": [
    {
     "name": "stdout",
     "output_type": "stream",
     "text": [
      "{2.5, 4.0, 7, 8, 9, (1, 2, 3, 4, 5), 'John R ambo'}\n"
     ]
    }
   ],
   "source": [
    "mySet.update([7,8,9])\n",
    "print(mySet)"
   ]
  },
  {
   "cell_type": "code",
   "execution_count": 24,
   "metadata": {},
   "outputs": [
    {
     "name": "stdout",
     "output_type": "stream",
     "text": [
      "{2.5, 4.0, 7, 9, (1, 2, 3, 4, 5), 'John R ambo'}\n"
     ]
    }
   ],
   "source": [
    "mySet.remove(8)\n",
    "print(mySet)"
   ]
  },
  {
   "cell_type": "code",
   "execution_count": 25,
   "metadata": {},
   "outputs": [
    {
     "name": "stdout",
     "output_type": "stream",
     "text": [
      "{2.5, 4.0, 9, (1, 2, 3, 4, 5), 'John R ambo'}\n"
     ]
    }
   ],
   "source": [
    "mySet.discard(7)\n",
    "print(mySet)"
   ]
  },
  {
   "cell_type": "markdown",
   "metadata": {},
   "source": [
    "Functions in Python"
   ]
  },
  {
   "cell_type": "code",
   "execution_count": 26,
   "metadata": {},
   "outputs": [],
   "source": [
    "def absolute_value(x):\n",
    "    if x >= 0:\n",
    "        return x\n",
    "    else:\n",
    "        return -x"
   ]
  },
  {
   "cell_type": "code",
   "execution_count": 27,
   "metadata": {},
   "outputs": [
    {
     "data": {
      "text/plain": [
       "10"
      ]
     },
     "execution_count": 27,
     "metadata": {},
     "output_type": "execute_result"
    }
   ],
   "source": [
    " absolute_value(10)"
   ]
  },
  {
   "cell_type": "code",
   "execution_count": 28,
   "metadata": {},
   "outputs": [
    {
     "data": {
      "text/plain": [
       "10"
      ]
     },
     "execution_count": 28,
     "metadata": {},
     "output_type": "execute_result"
    }
   ],
   "source": [
    "absolute_value(-10)"
   ]
  },
  {
   "cell_type": "markdown",
   "metadata": {},
   "source": [
    "Classes in Python"
   ]
  },
  {
   "cell_type": "code",
   "execution_count": 29,
   "metadata": {},
   "outputs": [
    {
     "name": "stdout",
     "output_type": "stream",
     "text": [
      "The absolute value of -10 is: 10\n",
      "20\n",
      "John Rambo\n"
     ]
    }
   ],
   "source": [
    "class MyAbsClass:\n",
    "    number = 20\n",
    "    name = \"John Rambo\"\n",
    "\n",
    "    def __init__(self, number=10):\n",
    "        self.real = number\n",
    "\n",
    "    def absolute_value(self, x):\n",
    "        if x >= 0:\n",
    "            return x\n",
    "        else:\n",
    "            return -x\n",
    "\n",
    "obj = MyAbsClass()\n",
    "value = obj.absolute_value(-10)\n",
    "print(\"The absolute value of -10 is: \"+ str(value))\n",
    "print(obj.number)\n",
    "print(obj.name)"
   ]
  },
  {
   "cell_type": "code",
   "execution_count": null,
   "metadata": {},
   "outputs": [],
   "source": []
  }
 ],
 "metadata": {
  "kernelspec": {
   "display_name": "Python 3",
   "language": "python",
   "name": "python3"
  },
  "language_info": {
   "codemirror_mode": {
    "name": "ipython",
    "version": 3
   },
   "file_extension": ".py",
   "mimetype": "text/x-python",
   "name": "python",
   "nbconvert_exporter": "python",
   "pygments_lexer": "ipython3",
   "version": "3.6.5"
  }
 },
 "nbformat": 4,
 "nbformat_minor": 2
}
