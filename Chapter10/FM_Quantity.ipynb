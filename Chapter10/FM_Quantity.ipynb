{
 "cells": [
  {
   "cell_type": "code",
   "execution_count": 1,
   "metadata": {},
   "outputs": [],
   "source": [
    "import warnings\n",
    "warnings.filterwarnings(\"ignore\")"
   ]
  },
  {
   "cell_type": "code",
   "execution_count": 2,
   "metadata": {},
   "outputs": [],
   "source": [
    "import pandas as pd\n",
    "from collections import Counter\n",
    "import tensorflow as tf\n",
    "from tffm import TFFMRegressor\n",
    "from sklearn.metrics import mean_squared_error\n",
    "from sklearn.model_selection import train_test_split\n",
    "import numpy as np"
   ]
  },
  {
   "cell_type": "code",
   "execution_count": 3,
   "metadata": {},
   "outputs": [],
   "source": [
    "buys = open('C:/Users/Test.PPMUMCPU0034/Desktop/Predictive Analytics/Section 10/yoochoose-buys.dat', 'r')\n",
    "clicks = open('C:/Users/Test.PPMUMCPU0034/Desktop/Predictive Analytics/Section 10/yoochoose-clicks.dat', 'r')"
   ]
  },
  {
   "cell_type": "code",
   "execution_count": 4,
   "metadata": {},
   "outputs": [
    {
     "name": "stdout",
     "output_type": "stream",
     "text": [
      "loading data....\n",
      "Data loaded..!!\n"
     ]
    }
   ],
   "source": [
    "print(\"loading data....\")\n",
    "initial_buys_df = pd.read_csv(buys, names=['Session ID', 'Timestamp', 'Item ID', 'Category', 'Quantity'],\n",
    "                              dtype={'Session ID': 'float32', 'Timestamp': 'str', 'Item ID': 'float32',\n",
    "                                     'Category': 'str'}) \n",
    "\n",
    "initial_clicks_df = pd.read_csv(clicks, names=['Session ID', 'Timestamp', 'Item ID', 'Category'],\n",
    "                                dtype={'Category': 'str'})\n",
    "print(\"Data loaded..!!\")"
   ]
  },
  {
   "cell_type": "code",
   "execution_count": 5,
   "metadata": {},
   "outputs": [],
   "source": [
    "initial_buys_df.set_index('Session ID', inplace=True)\n",
    "initial_clicks_df.set_index('Session ID', inplace=True)\n",
    "\n",
    "initial_buys_df = initial_buys_df.drop('Timestamp', 1)\n",
    "initial_clicks_df = initial_clicks_df.drop('Timestamp', 1)"
   ]
  },
  {
   "cell_type": "code",
   "execution_count": 6,
   "metadata": {},
   "outputs": [],
   "source": [
    "x = Counter(initial_buys_df.index).most_common(100000) \n",
    "top_k = dict(x).keys()                                \n",
    "\n",
    "initial_buys_df = initial_buys_df[initial_buys_df.index.isin(top_k)]  \n",
    "initial_clicks_df = initial_clicks_df[initial_clicks_df.index.isin(top_k)]"
   ]
  },
  {
   "cell_type": "code",
   "execution_count": 7,
   "metadata": {},
   "outputs": [],
   "source": [
    "initial_buys_df['_Session ID'] = initial_buys_df.index"
   ]
  },
  {
   "cell_type": "code",
   "execution_count": 8,
   "metadata": {},
   "outputs": [],
   "source": [
    "transformed_buys = pd.get_dummies(initial_buys_df)\n",
    "transformed_clicks = pd.get_dummies(initial_clicks_df)"
   ]
  },
  {
   "cell_type": "code",
   "execution_count": 9,
   "metadata": {},
   "outputs": [],
   "source": [
    "filtered_buys = transformed_buys.filter(regex=\"Item.*|Category.*\")\n",
    "filtered_clicks = transformed_clicks.filter(regex=\"Item.*|Category.*\")\n",
    "historical_buy_data = filtered_buys.groupby(filtered_buys.index).sum()\n",
    "historical_buy_data = historical_buy_data.rename(columns=lambda column_name: 'buy history:' + column_name)\n",
    "historical_click_data = filtered_clicks.groupby(filtered_clicks.index).sum()\n",
    "historical_click_data = historical_click_data.rename(columns=lambda column_name: 'click history:' + column_name)"
   ]
  },
  {
   "cell_type": "code",
   "execution_count": null,
   "metadata": {},
   "outputs": [],
   "source": []
  }
 ],
 "metadata": {
  "kernelspec": {
   "display_name": "Python 3",
   "language": "python",
   "name": "python3"
  },
  "language_info": {
   "codemirror_mode": {
    "name": "ipython",
    "version": 3
   },
   "file_extension": ".py",
   "mimetype": "text/x-python",
   "name": "python",
   "nbconvert_exporter": "python",
   "pygments_lexer": "ipython3",
   "version": "3.6.5"
  }
 },
 "nbformat": 4,
 "nbformat_minor": 2
}
