{
 "cells": [
  {
   "cell_type": "code",
   "execution_count": 1,
   "metadata": {},
   "outputs": [],
   "source": [
    "import warnings\n",
    "warnings.filterwarnings(\"ignore\")"
   ]
  },
  {
   "cell_type": "code",
   "execution_count": 2,
   "metadata": {},
   "outputs": [],
   "source": [
    "import tensorflow as tf\n",
    "import matplotlib.pyplot as plt\n",
    "import numpy as np\n",
    "import pickle\n",
    "import string\n",
    "import requests\n",
    "import collections\n",
    "import io\n",
    "import tarfile\n",
    "import urllib.request\n",
    "import preprocessor\n",
    "from nltk.corpus import stopwords\n",
    "from tensorflow.python.framework import ops\n",
    "import warnings\n",
    "import random\n",
    "import os\n",
    "import preprocessor"
   ]
  },
  {
   "cell_type": "code",
   "execution_count": 3,
   "metadata": {},
   "outputs": [],
   "source": [
    "data_folder_name = 'C:/Users/Test.PPMUMCPU0034/Desktop/Predictive Analytics/Section 6/temp'\n",
    "\n",
    "if not os.path.exists('C:/Users/Test.PPMUMCPU0034/Desktop/Predictive Analytics/Section 6/temp'):\n",
    "    os.makedirs('C:/Users/Test.PPMUMCPU0034/Desktop/Predictive Analytics/Section 6/temp')"
   ]
  },
  {
   "cell_type": "code",
   "execution_count": 4,
   "metadata": {},
   "outputs": [],
   "source": [
    "batch_size = 500\n",
    "embedding_size = 200\n",
    "vocabulary_size = 15000\n",
    "iterations= 5000\n",
    "learning_rate = 0.001\n",
    "num_sampled = int(batch_size/2)    \n",
    "window_size = 4 \n",
    "\n",
    "save_embeddings_every = 5000\n",
    "print_valid_every = 5000\n",
    "print_loss_every = 100"
   ]
  },
  {
   "cell_type": "code",
   "execution_count": 5,
   "metadata": {},
   "outputs": [],
   "source": [
    "stops = stopwords.words('english')"
   ]
  },
  {
   "cell_type": "code",
   "execution_count": 6,
   "metadata": {},
   "outputs": [],
   "source": [
    "valid_words = ['love', 'romance', 'sad', 'average', 'boring', 'entertaining', 'exciting', 'excellent', 'fantastic', 'action', 'thriller', 'horror', 'adventure', 'suspenseful']"
   ]
  },
  {
   "cell_type": "code",
   "execution_count": 7,
   "metadata": {},
   "outputs": [
    {
     "name": "stdout",
     "output_type": "stream",
     "text": [
      "Loading Data ... \n"
     ]
    }
   ],
   "source": [
    "print('Loading Data ... ')\n",
    "texts, target = preprocessor.load_movie_data()"
   ]
  },
  {
   "cell_type": "code",
   "execution_count": 8,
   "metadata": {},
   "outputs": [
    {
     "name": "stdout",
     "output_type": "stream",
     "text": [
      "Normalizing Text Data ... \n"
     ]
    }
   ],
   "source": [
    "print('Normalizing Text Data ... ')\n",
    "texts = preprocessor.normalize_text(texts, stops)"
   ]
  },
  {
   "cell_type": "code",
   "execution_count": 9,
   "metadata": {},
   "outputs": [],
   "source": [
    "target = [target[ix] for ix, x in enumerate(texts) if len(x.split()) > 3]\n",
    "texts = [x for x in texts if len(x.split()) > 3]  "
   ]
  },
  {
   "cell_type": "code",
   "execution_count": 10,
   "metadata": {},
   "outputs": [
    {
     "name": "stdout",
     "output_type": "stream",
     "text": [
      "Creating Dictionary ... \n"
     ]
    }
   ],
   "source": [
    "print('Creating Dictionary ... ')\n",
    "word_dictionary = preprocessor.build_dictionary(texts, vocabulary_size)\n",
    "word_dictionary_rev = dict(zip(word_dictionary.values(), word_dictionary.keys()))\n",
    "text_data = preprocessor.text_to_numbers(texts, word_dictionary)"
   ]
  },
  {
   "cell_type": "code",
   "execution_count": 11,
   "metadata": {},
   "outputs": [],
   "source": [
    "text_data = [x for x in text_data if len(x)>=(2*window_size+1)]"
   ]
  },
  {
   "cell_type": "code",
   "execution_count": 12,
   "metadata": {},
   "outputs": [],
   "source": [
    "valid_examples = [word_dictionary[x] for x in valid_words] "
   ]
  },
  {
   "cell_type": "code",
   "execution_count": 13,
   "metadata": {},
   "outputs": [
    {
     "name": "stdout",
     "output_type": "stream",
     "text": [
      "Creating Model ... \n"
     ]
    }
   ],
   "source": [
    "print('Creating Model ... ')\n",
    "embeddings = tf.Variable(tf.random_uniform([vocabulary_size, embedding_size], -1.0, 1.0))"
   ]
  },
  {
   "cell_type": "code",
   "execution_count": 14,
   "metadata": {},
   "outputs": [],
   "source": [
    "nce_weights = tf.Variable(tf.truncated_normal([vocabulary_size, embedding_size], stddev=1.0 / np.sqrt(embedding_size)))\n",
    "nce_biases = tf.Variable(tf.zeros([vocabulary_size]))"
   ]
  },
  {
   "cell_type": "code",
   "execution_count": 15,
   "metadata": {},
   "outputs": [],
   "source": [
    "x_inputs = tf.placeholder(tf.int32, shape=[batch_size, 2*window_size])\n",
    "y_target = tf.placeholder(tf.int32, shape=[batch_size, 1])\n",
    "valid_dataset = tf.constant(valid_examples, dtype=tf.int32)"
   ]
  },
  {
   "cell_type": "code",
   "execution_count": 16,
   "metadata": {},
   "outputs": [],
   "source": [
    "embed = tf.zeros([batch_size, embedding_size])\n",
    "for element in range(2*window_size):\n",
    "    embed += tf.nn.embedding_lookup(embeddings, x_inputs[:, element])"
   ]
  },
  {
   "cell_type": "code",
   "execution_count": 17,
   "metadata": {},
   "outputs": [],
   "source": [
    "loss = tf.reduce_mean(tf.nn.nce_loss(weights=nce_weights,\n",
    "                                     biases=nce_biases,\n",
    "                                     labels=y_target,\n",
    "                                     inputs=embed,\n",
    "                                     num_sampled=num_sampled,\n",
    "                                     num_classes=vocabulary_size))"
   ]
  },
  {
   "cell_type": "code",
   "execution_count": 18,
   "metadata": {},
   "outputs": [],
   "source": [
    "optimizer = tf.train.GradientDescentOptimizer(learning_rate=learning_rate).minimize(loss)"
   ]
  },
  {
   "cell_type": "code",
   "execution_count": 19,
   "metadata": {},
   "outputs": [
    {
     "name": "stdout",
     "output_type": "stream",
     "text": [
      "WARNING:tensorflow:From <ipython-input-19-77b32e8e5488>:1: calling reduce_sum (from tensorflow.python.ops.math_ops) with keep_dims is deprecated and will be removed in a future version.\n",
      "Instructions for updating:\n",
      "keep_dims is deprecated, use keepdims instead\n"
     ]
    }
   ],
   "source": [
    "norm = tf.sqrt(tf.reduce_sum(tf.square(embeddings), 1, keep_dims=True))\n",
    "normalized_embeddings = embeddings / norm\n",
    "valid_embeddings = tf.nn.embedding_lookup(normalized_embeddings, valid_dataset)\n",
    "similarity = tf.matmul(valid_embeddings, normalized_embeddings, transpose_b=True)"
   ]
  },
  {
   "cell_type": "code",
   "execution_count": 20,
   "metadata": {},
   "outputs": [],
   "source": [
    "saver = tf.train.Saver({\"embeddings\": embeddings})"
   ]
  },
  {
   "cell_type": "code",
   "execution_count": 21,
   "metadata": {},
   "outputs": [],
   "source": [
    "sess = tf.Session()\n",
    "init_op = tf.global_variables_initializer()\n",
    "sess.run(init_op)"
   ]
  },
  {
   "cell_type": "code",
   "execution_count": 22,
   "metadata": {},
   "outputs": [
    {
     "name": "stdout",
     "output_type": "stream",
     "text": [
      "Model Training ... \n",
      "Model saved in file: C:/Users/Test.PPMUMCPU0034/Desktop/Predictive Analytics/Section 6/temp\\cbow_movie_embeddings.ckpt\n"
     ]
    }
   ],
   "source": [
    "print('Model Training ... ')\n",
    "loss_vec = []\n",
    "loss_x_vec = []\n",
    "for i in range(iterations):\n",
    "    batch_inputs, batch_labels = preprocessor.generate_batch_data(text_data, batch_size, window_size, method='cbow')\n",
    "    feed_dict = {x_inputs : batch_inputs, y_target : batch_labels}\n",
    "\n",
    "    # Run the train step\n",
    "    sess.run(optimizer, feed_dict=feed_dict)\n",
    "            \n",
    "    # Save dictionary + embeddings\n",
    "    if (i+1) % save_embeddings_every == 0:\n",
    "        # Save vocabulary dictionary\n",
    "        with open(os.path.join(data_folder_name,'movie_vocab.pkl'), 'wb') as f:\n",
    "            pickle.dump(word_dictionary, f)\n",
    "        \n",
    "        # Save embeddings\n",
    "        model_checkpoint_path = os.path.join(os.getcwd(),data_folder_name,'cbow_movie_embeddings.ckpt')\n",
    "        save_path = saver.save(sess, model_checkpoint_path)\n",
    "        print('Model saved in file: {}'.format(save_path))"
   ]
  },
  {
   "cell_type": "markdown",
   "metadata": {},
   "source": [
    "Reusing CBOW for predicting sentiment"
   ]
  },
  {
   "cell_type": "code",
   "execution_count": 23,
   "metadata": {},
   "outputs": [],
   "source": [
    "import pickle"
   ]
  },
  {
   "cell_type": "code",
   "execution_count": 24,
   "metadata": {},
   "outputs": [],
   "source": [
    "batch_size = 500\n",
    "embedding_size = 200\n",
    "vocabulary_size = 15000\n",
    "generations = 100000\n",
    "model_learning_rate = 0.001\n",
    "max_words = 100"
   ]
  },
  {
   "cell_type": "code",
   "execution_count": 25,
   "metadata": {},
   "outputs": [
    {
     "name": "stdout",
     "output_type": "stream",
     "text": [
      "Loading Data... \n"
     ]
    }
   ],
   "source": [
    "print('Loading Data... ')\n",
    "data_folder_name = 'C:/Users/Test.PPMUMCPU0034/Desktop/Predictive Analytics/Section 6/temp/'\n",
    "texts, target = preprocessor.load_movie_data()"
   ]
  },
  {
   "cell_type": "code",
   "execution_count": 26,
   "metadata": {},
   "outputs": [],
   "source": [
    "stops = stopwords.words('english')"
   ]
  },
  {
   "cell_type": "code",
   "execution_count": 27,
   "metadata": {},
   "outputs": [
    {
     "name": "stdout",
     "output_type": "stream",
     "text": [
      "Normalizing Text Data... \n"
     ]
    }
   ],
   "source": [
    "print('Normalizing Text Data... ')\n",
    "texts = preprocessor.normalize_text(texts, stops)"
   ]
  },
  {
   "cell_type": "code",
   "execution_count": 28,
   "metadata": {},
   "outputs": [],
   "source": [
    "target = [target[ix] for ix, x in enumerate(texts) if len(x.split()) > 3]\n",
    "texts = [x for x in texts if len(x.split()) > 3]"
   ]
  },
  {
   "cell_type": "code",
   "execution_count": 29,
   "metadata": {},
   "outputs": [],
   "source": [
    "train_indices = np.random.choice(len(target), round(0.75*len(target)), replace=False)\n",
    "test_indices = np.array(list(set(range(len(target))) - set(train_indices)))\n",
    "\n",
    "texts_train = [x for ix, x in enumerate(texts) if ix in train_indices]\n",
    "texts_test = [x for ix, x in enumerate(texts) if ix in test_indices]\n",
    "\n",
    "target_train = np.array([x for ix, x in enumerate(target) if ix in train_indices])\n",
    "target_test = np.array([x for ix, x in enumerate(target) if ix in test_indices])"
   ]
  },
  {
   "cell_type": "code",
   "execution_count": 30,
   "metadata": {},
   "outputs": [],
   "source": [
    "dict_file = 'C:/Users/Test.PPMUMCPU0034/Desktop/Predictive Analytics/Section 6/temp/movie_vocab.pkl'\n",
    "word_dictionary = pickle.load(open(dict_file, 'rb'))"
   ]
  },
  {
   "cell_type": "code",
   "execution_count": 31,
   "metadata": {},
   "outputs": [],
   "source": [
    "text_data_train = np.array(preprocessor.text_to_numbers(texts_train, word_dictionary))\n",
    "text_data_test = np.array(preprocessor.text_to_numbers(texts_test, word_dictionary))\n",
    "\n",
    "text_data_train = np.array([x[0:max_words] for x in [y+[0]*max_words for y in text_data_train]])\n",
    "text_data_test = np.array([x[0:max_words] for x in [y+[0]*max_words for y in text_data_test]])"
   ]
  },
  {
   "cell_type": "code",
   "execution_count": 32,
   "metadata": {},
   "outputs": [
    {
     "name": "stdout",
     "output_type": "stream",
     "text": [
      "Creating Model... \n"
     ]
    }
   ],
   "source": [
    "print('Creating Model... ')\n",
    "embeddings = tf.Variable(tf.random_uniform([vocabulary_size, embedding_size], -1.0, 1.0))"
   ]
  },
  {
   "cell_type": "code",
   "execution_count": 33,
   "metadata": {},
   "outputs": [],
   "source": [
    "A = tf.Variable(tf.random_normal(shape=[embedding_size,1]))\n",
    "b = tf.Variable(tf.random_normal(shape=[1,1]))"
   ]
  },
  {
   "cell_type": "code",
   "execution_count": 34,
   "metadata": {},
   "outputs": [],
   "source": [
    "x_data = tf.placeholder(shape=[None, max_words], dtype=tf.int32)\n",
    "y_target = tf.placeholder(shape=[None, 1], dtype=tf.float32)"
   ]
  },
  {
   "cell_type": "code",
   "execution_count": 35,
   "metadata": {},
   "outputs": [],
   "source": [
    "embed = tf.nn.embedding_lookup(embeddings, x_data)\n",
    "embed_avg = tf.reduce_mean(embed, 1)"
   ]
  },
  {
   "cell_type": "code",
   "execution_count": 36,
   "metadata": {},
   "outputs": [],
   "source": [
    "model_output = tf.add(tf.matmul(embed_avg, A), b)"
   ]
  },
  {
   "cell_type": "code",
   "execution_count": 37,
   "metadata": {},
   "outputs": [],
   "source": [
    "loss = tf.reduce_mean(tf.nn.sigmoid_cross_entropy_with_logits(logits=model_output, labels=y_target))"
   ]
  },
  {
   "cell_type": "code",
   "execution_count": 38,
   "metadata": {},
   "outputs": [],
   "source": [
    "prediction = tf.round(tf.sigmoid(model_output))\n",
    "predictions_correct = tf.cast(tf.equal(prediction, y_target), tf.float32)\n",
    "accuracy = tf.reduce_mean(predictions_correct)"
   ]
  },
  {
   "cell_type": "code",
   "execution_count": 39,
   "metadata": {},
   "outputs": [],
   "source": [
    "training_op = tf.train.GradientDescentOptimizer(0.001)\n",
    "train_step = training_op.minimize(loss)"
   ]
  },
  {
   "cell_type": "code",
   "execution_count": 40,
   "metadata": {},
   "outputs": [],
   "source": [
    "init_op = tf.global_variables_initializer()\n",
    "sess.run(init_op)"
   ]
  },
  {
   "cell_type": "code",
   "execution_count": 41,
   "metadata": {},
   "outputs": [
    {
     "name": "stdout",
     "output_type": "stream",
     "text": [
      "INFO:tensorflow:Restoring parameters from C:/Users/Test.PPMUMCPU0034/Desktop/Predictive Analytics/Section 6/temp/cbow_movie_embeddings.ckpt\n"
     ]
    }
   ],
   "source": [
    "model_checkpoint_path = 'C:/Users/Test.PPMUMCPU0034/Desktop/Predictive Analytics/Section 6/temp/cbow_movie_embeddings.ckpt'\n",
    "saver = tf.train.Saver({\"embeddings\": embeddings})\n",
    "saver.restore(sess, model_checkpoint_path)"
   ]
  },
  {
   "cell_type": "code",
   "execution_count": 42,
   "metadata": {},
   "outputs": [
    {
     "name": "stdout",
     "output_type": "stream",
     "text": [
      "Starting Model Training... \n",
      "Iteration # 500. Train Loss (Test Loss): 0.71 (0.71). Train Acc (Test Acc): 0.51 (0.48)\n",
      "Iteration # 1000. Train Loss (Test Loss): 0.71 (0.70). Train Acc (Test Acc): 0.49 (0.49)\n",
      "Iteration # 1500. Train Loss (Test Loss): 0.71 (0.70). Train Acc (Test Acc): 0.48 (0.48)\n",
      "Iteration # 2000. Train Loss (Test Loss): 0.71 (0.70). Train Acc (Test Acc): 0.47 (0.48)\n",
      "Iteration # 2500. Train Loss (Test Loss): 0.71 (0.71). Train Acc (Test Acc): 0.47 (0.48)\n",
      "Iteration # 3000. Train Loss (Test Loss): 0.72 (0.71). Train Acc (Test Acc): 0.47 (0.48)\n",
      "Iteration # 3500. Train Loss (Test Loss): 0.71 (0.70). Train Acc (Test Acc): 0.46 (0.49)\n",
      "Iteration # 4000. Train Loss (Test Loss): 0.71 (0.71). Train Acc (Test Acc): 0.48 (0.48)\n",
      "Iteration # 4500. Train Loss (Test Loss): 0.71 (0.70). Train Acc (Test Acc): 0.50 (0.48)\n",
      "Iteration # 5000. Train Loss (Test Loss): 0.71 (0.71). Train Acc (Test Acc): 0.49 (0.48)\n",
      "Iteration # 5500. Train Loss (Test Loss): 0.70 (0.70). Train Acc (Test Acc): 0.49 (0.48)\n",
      "Iteration # 6000. Train Loss (Test Loss): 0.71 (0.70). Train Acc (Test Acc): 0.50 (0.48)\n",
      "Iteration # 6500. Train Loss (Test Loss): 0.70 (0.70). Train Acc (Test Acc): 0.51 (0.49)\n",
      "Iteration # 7000. Train Loss (Test Loss): 0.72 (0.70). Train Acc (Test Acc): 0.47 (0.49)\n",
      "Iteration # 7500. Train Loss (Test Loss): 0.71 (0.71). Train Acc (Test Acc): 0.49 (0.48)\n",
      "Iteration # 8000. Train Loss (Test Loss): 0.71 (0.70). Train Acc (Test Acc): 0.49 (0.48)\n",
      "Iteration # 8500. Train Loss (Test Loss): 0.73 (0.71). Train Acc (Test Acc): 0.44 (0.48)\n",
      "Iteration # 9000. Train Loss (Test Loss): 0.73 (0.70). Train Acc (Test Acc): 0.43 (0.49)\n",
      "Iteration # 9500. Train Loss (Test Loss): 0.71 (0.70). Train Acc (Test Acc): 0.48 (0.48)\n",
      "Iteration # 10000. Train Loss (Test Loss): 0.70 (0.70). Train Acc (Test Acc): 0.52 (0.48)\n",
      "\n",
      "Overall accuracy on test set (%): 48.557278513908386\n"
     ]
    }
   ],
   "source": [
    "print('Starting Model Training... ')\n",
    "train_loss = [] \n",
    "test_loss = []\n",
    "train_acc = []\n",
    "test_acc = []\n",
    "i_data = []\n",
    "for i in range(10000):\n",
    "    rand_index = np.random.choice(text_data_train.shape[0], size=batch_size)\n",
    "    rand_x = text_data_train[rand_index]\n",
    "    rand_y = np.transpose([target_train[rand_index]])\n",
    "    sess.run(train_step, feed_dict={x_data: rand_x, y_target: rand_y})\n",
    "    \n",
    "    # Only record loss and accuracy every 100 generations\n",
    "    if (i+1)%100==0:\n",
    "        i_data.append(i+1)\n",
    "        train_loss_temp = sess.run(loss, feed_dict={x_data: rand_x, y_target: rand_y})\n",
    "        train_loss.append(train_loss_temp)\n",
    "        \n",
    "        test_loss_temp = sess.run(loss, feed_dict={x_data: text_data_test, y_target: np.transpose([target_test])})\n",
    "        test_loss.append(test_loss_temp)\n",
    "        \n",
    "        train_acc_temp = sess.run(accuracy, feed_dict={x_data: rand_x, y_target: rand_y})\n",
    "        train_acc.append(train_acc_temp)\n",
    "    \n",
    "        test_acc_temp = sess.run(accuracy, feed_dict={x_data: text_data_test, y_target: np.transpose([target_test])})\n",
    "        test_acc.append(test_acc_temp)\n",
    "    if (i+1)%500==0:\n",
    "        acc_and_loss = [i+1, train_loss_temp, test_loss_temp, train_acc_temp, test_acc_temp]\n",
    "        acc_and_loss = [np.round(x,2) for x in acc_and_loss]\n",
    "        print('Iteration # {}. Train Loss (Test Loss): {:.2f} ({:.2f}). Train Acc (Test Acc): {:.2f} ({:.2f})'.format(*acc_and_loss))\n",
    "\n",
    "print('\\nOverall accuracy on test set (%): {}'.format(np.mean(test_acc)*100.0))"
   ]
  },
  {
   "cell_type": "code",
   "execution_count": 43,
   "metadata": {},
   "outputs": [
    {
     "data": {
      "image/png": "[encoded data removed]",
      "text/plain": [
       "<Figure size 432x288 with 1 Axes>"
      ]
     },
     "metadata": {},
     "output_type": "display_data"
    }
   ],
   "source": [
    "plt.plot(i_data, train_loss, 'k-', label='Training loss')\n",
    "plt.plot(i_data, test_loss, 'r--', label='Test loss', linewidth=4)\n",
    "plt.title('Cross entropy loss per iteration')\n",
    "plt.xlabel('Iteration')\n",
    "plt.ylabel('Cross entropy loss')\n",
    "plt.legend(loc='upper right')\n",
    "plt.show()"
   ]
  },
  {
   "cell_type": "code",
   "execution_count": 44,
   "metadata": {},
   "outputs": [
    {
     "data": {
      "image/png": "[encoded data removed]",
      "text/plain": [
       "<Figure size 432x288 with 1 Axes>"
      ]
     },
     "metadata": {},
     "output_type": "display_data"
    }
   ],
   "source": [
    "plt.plot(i_data, train_acc, 'k-', label='Accuracy on the training set')\n",
    "plt.plot(i_data, test_acc, 'r--', label='Accuracy on the test set', linewidth=4)\n",
    "plt.title('Accuracy on the train and test set')\n",
    "plt.xlabel('Generation')\n",
    "plt.ylabel('Accuracy')\n",
    "plt.legend(loc='lower right')\n",
    "plt.show()"
   ]
  },
  {
   "cell_type": "code",
   "execution_count": null,
   "metadata": {},
   "outputs": [],
   "source": []
  }
 ],
 "metadata": {
  "kernelspec": {
   "display_name": "Python 3",
   "language": "python",
   "name": "python3"
  },
  "language_info": {
   "codemirror_mode": {
    "name": "ipython",
    "version": 3
   },
   "file_extension": ".py",
   "mimetype": "text/x-python",
   "name": "python",
   "nbconvert_exporter": "python",
   "pygments_lexer": "ipython3",
   "version": "3.6.5"
  }
 },
 "nbformat": 4,
 "nbformat_minor": 2
}
