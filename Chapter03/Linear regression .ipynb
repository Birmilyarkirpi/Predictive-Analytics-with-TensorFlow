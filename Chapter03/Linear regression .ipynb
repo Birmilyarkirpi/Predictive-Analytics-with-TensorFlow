{
 "cells": [
  {
   "cell_type": "code",
   "execution_count": 1,
   "metadata": {},
   "outputs": [],
   "source": [
    "import warnings\n",
    "import os\n",
    "warnings.filterwarnings(\"ignore\")\n",
    "os.environ['TF_CPP_MIN_LOG_LEVEL'] = '3'"
   ]
  },
  {
   "cell_type": "code",
   "execution_count": 2,
   "metadata": {},
   "outputs": [],
   "source": [
    "import tensorflow as tf\n",
    "import numpy as np\n",
    "import matplotlib.pyplot as plt\n",
    "num_points = 1000\n",
    "vectors_set = []\n",
    "for i in range(num_points):\n",
    "    W = 0.1\n",
    "    b = 0.4\n",
    "    x1 = np.random.normal(0.0, 1.0)\n",
    "    nd = np.random.normal(0.0, 0.05)\n",
    "    y1 = W * x1 + b\n",
    "    y1 = y1+nd\n",
    "    vectors_set.append([x1, y1])"
   ]
  },
  {
   "cell_type": "code",
   "execution_count": 3,
   "metadata": {},
   "outputs": [],
   "source": [
    "x_data = [v[0] for v in vectors_set]\n",
    "y_data = [v[1] for v in vectors_set]"
   ]
  },
  {
   "cell_type": "code",
   "execution_count": 4,
   "metadata": {},
   "outputs": [
    {
     "data": {
      "image/png": "[encoded data removed]",
      "text/plain": [
       "<Figure size 432x288 with 1 Axes>"
      ]
     },
     "metadata": {},
     "output_type": "display_data"
    }
   ],
   "source": [
    "plt.plot(x_data, y_data, 'r*', label='Original data')\n",
    "plt.legend()\n",
    "plt.show()"
   ]
  },
  {
   "cell_type": "code",
   "execution_count": 5,
   "metadata": {},
   "outputs": [],
   "source": [
    "W = tf.Variable(tf.random_uniform([1], -1.0, 1.0))\n",
    "b = tf.Variable(tf.zeros([1]))\n",
    "y = W * x_data + b"
   ]
  },
  {
   "cell_type": "code",
   "execution_count": 6,
   "metadata": {},
   "outputs": [],
   "source": [
    "loss = tf.reduce_mean(tf.square(y - y_data))"
   ]
  },
  {
   "cell_type": "code",
   "execution_count": 7,
   "metadata": {},
   "outputs": [],
   "source": [
    "optimizer = tf.train.GradientDescentOptimizer(0.6)\n",
    "train = optimizer.minimize(loss)"
   ]
  },
  {
   "cell_type": "code",
   "execution_count": 8,
   "metadata": {},
   "outputs": [],
   "source": [
    "init = tf.global_variables_initializer()\n",
    "sess = tf.Session()\n",
    "sess.run(init)"
   ]
  },
  {
   "cell_type": "code",
   "execution_count": 9,
   "metadata": {},
   "outputs": [
    {
     "name": "stdout",
     "output_type": "stream",
     "text": [
      "0 [0.0377185] [0.4737493] 0.011392744\n",
      "1 [0.11006928] [0.38940156] 0.0028306204\n",
      "2 [0.09919644] [0.40467134] 0.0025878863\n",
      "3 [0.10077305] [0.4018578] 0.0025807386\n",
      "4 [0.10055768] [0.40238565] 0.0025805167\n",
      "5 [0.10058393] [0.40228483] 0.0025805095\n",
      "6 [0.10058154] [0.40230444] 0.002580509\n",
      "7 [0.10058153] [0.40230057] 0.0025805093\n",
      "8 [0.10058162] [0.40230134] 0.002580509\n",
      "9 [0.10058158] [0.40230116] 0.0025805093\n",
      "10 [0.10058159] [0.40230122] 0.0025805095\n",
      "11 [0.10058159] [0.4023012] 0.0025805095\n",
      "12 [0.10058159] [0.4023012] 0.0025805095\n",
      "13 [0.10058159] [0.4023012] 0.0025805095\n",
      "14 [0.10058159] [0.4023012] 0.0025805095\n",
      "15 [0.10058159] [0.4023012] 0.0025805095\n"
     ]
    }
   ],
   "source": [
    "for i in range(16):\n",
    "    sess.run(train)\n",
    "    print(i, sess.run(W), sess.run(b), sess.run(loss))"
   ]
  },
  {
   "cell_type": "code",
   "execution_count": null,
   "metadata": {},
   "outputs": [],
   "source": []
  }
 ],
 "metadata": {
  "kernelspec": {
   "display_name": "Python 3",
   "language": "python",
   "name": "python3"
  },
  "language_info": {
   "codemirror_mode": {
    "name": "ipython",
    "version": 3
   },
   "file_extension": ".py",
   "mimetype": "text/x-python",
   "name": "python",
   "nbconvert_exporter": "python",
   "pygments_lexer": "ipython3",
   "version": "3.6.5"
  }
 },
 "nbformat": 4,
 "nbformat_minor": 2
}
