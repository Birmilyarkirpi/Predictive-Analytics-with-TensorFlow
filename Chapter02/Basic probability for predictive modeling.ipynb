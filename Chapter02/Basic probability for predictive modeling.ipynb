{
 "cells": [
  {
   "cell_type": "markdown",
   "metadata": {},
   "source": [
    "Generating random numbers and setting the\n",
    "seed"
   ]
  },
  {
   "cell_type": "code",
   "execution_count": 1,
   "metadata": {},
   "outputs": [
    {
     "name": "stdout",
     "output_type": "stream",
     "text": [
      "[1.7862746894042913, 2.3589837922715517, 5.998996754569413]\n"
     ]
    }
   ],
   "source": [
    "import random\n",
    "print([random.uniform(0, 10) for x in range(3)])"
   ]
  },
  {
   "cell_type": "code",
   "execution_count": 2,
   "metadata": {},
   "outputs": [
    {
     "name": "stdout",
     "output_type": "stream",
     "text": [
      "[8.019634020446128, 2.239452819496891, 9.127820938633732]\n"
     ]
    }
   ],
   "source": [
    "print([random.uniform(0, 10) for x in range(3)])"
   ]
  },
  {
   "cell_type": "code",
   "execution_count": 3,
   "metadata": {},
   "outputs": [
    {
     "name": "stdout",
     "output_type": "stream",
     "text": [
      "[4.166198725453412, 0.10169169457068361, 8.252065092537432]\n"
     ]
    }
   ],
   "source": [
    "random.seed(12345)\n",
    "print([random.uniform(0, 10) for x in range(3)])"
   ]
  },
  {
   "cell_type": "code",
   "execution_count": 4,
   "metadata": {},
   "outputs": [
    {
     "name": "stdout",
     "output_type": "stream",
     "text": [
      "[4.166198725453412, 0.10169169457068361, 8.252065092537432]\n"
     ]
    }
   ],
   "source": [
    "random.seed(12345)\n",
    "print([random.uniform(0, 10) for x in range(3)])"
   ]
  },
  {
   "cell_type": "code",
   "execution_count": null,
   "metadata": {},
   "outputs": [],
   "source": []
  }
 ],
 "metadata": {
  "kernelspec": {
   "display_name": "Python 3",
   "language": "python",
   "name": "python3"
  },
  "language_info": {
   "codemirror_mode": {
    "name": "ipython",
    "version": 3
   },
   "file_extension": ".py",
   "mimetype": "text/x-python",
   "name": "python",
   "nbconvert_exporter": "python",
   "pygments_lexer": "ipython3",
   "version": "3.6.5"
  }
 },
 "nbformat": 4,
 "nbformat_minor": 2
}
