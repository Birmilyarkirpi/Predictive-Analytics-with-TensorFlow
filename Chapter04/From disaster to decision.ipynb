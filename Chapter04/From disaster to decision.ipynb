{
 "cells": [
  {
   "cell_type": "code",
   "execution_count": 1,
   "metadata": {},
   "outputs": [],
   "source": [
    "import warnings\n",
    "warnings.filterwarnings(\"ignore\")"
   ]
  },
  {
   "cell_type": "code",
   "execution_count": 2,
   "metadata": {},
   "outputs": [],
   "source": [
    "import os\n",
    "import pandas as pd\n",
    "import numpy as np\n",
    "import seaborn as sns\n",
    "import matplotlib.pyplot as plt\n",
    "from sklearn.model_selection import train_test_split\n",
    "from sklearn.metrics import classification_report\n",
    "from pylab import *\n",
    "import shutil"
   ]
  },
  {
   "cell_type": "code",
   "execution_count": 3,
   "metadata": {},
   "outputs": [
    {
     "name": "stdout",
     "output_type": "stream",
     "text": [
      "Information about the data\n",
      "<class 'pandas.core.frame.DataFrame'>\n",
      "RangeIndex: 891 entries, 0 to 890\n",
      "Data columns (total 12 columns):\n",
      "PassengerId    891 non-null int64\n",
      "Survived       891 non-null int64\n",
      "Pclass         891 non-null int64\n",
      "Name           891 non-null object\n",
      "Sex            891 non-null object\n",
      "Age            714 non-null float64\n",
      "SibSp          891 non-null int64\n",
      "Parch          891 non-null int64\n",
      "Ticket         891 non-null object\n",
      "Fare           891 non-null float64\n",
      "Cabin          204 non-null object\n",
      "Embarked       889 non-null object\n",
      "dtypes: float64(2), int64(5), object(5)\n",
      "memory usage: 83.6+ KB\n",
      "None\n"
     ]
    }
   ],
   "source": [
    "train = pd.read_csv(os.path.join('data', 'train.csv'))\n",
    "test = pd.read_csv(os.path.join('data', 'test.csv'))\n",
    "print(\"Information about the data\")\n",
    "print(train.info())"
   ]
  },
  {
   "cell_type": "code",
   "execution_count": 4,
   "metadata": {},
   "outputs": [
    {
     "name": "stdout",
     "output_type": "stream",
     "text": [
      "How many have survived?\n",
      "0    0.616162\n",
      "1    0.383838\n",
      "Name: Survived, dtype: float64\n"
     ]
    },
    {
     "data": {
      "image/png": "[encoded data removed]",
      "text/plain": [
       "<Figure size 432x288 with 1 Axes>"
      ]
     },
     "metadata": {},
     "output_type": "display_data"
    }
   ],
   "source": [
    "%matplotlib inline\n",
    "print(\"How many have survived?\")\n",
    "print(train.Survived.value_counts(normalize=True))\n",
    "count_plot = sns.countplot(train.Survived)\n",
    "count_plot.get_figure().savefig(\"survived_count.png\")"
   ]
  },
  {
   "cell_type": "code",
   "execution_count": 5,
   "metadata": {},
   "outputs": [
    {
     "name": "stdout",
     "output_type": "stream",
     "text": [
      "Title count\n",
      "Mr.          517\n",
      "Miss.        182\n",
      "Mrs.         125\n",
      "Master.       40\n",
      "Dr.            7\n",
      "Rev.           6\n",
      "Major.         2\n",
      "Col.           2\n",
      "Mlle.          2\n",
      "Lady.          1\n",
      "Sir.           1\n",
      "Ms.            1\n",
      "Don.           1\n",
      "the            1\n",
      "Capt.          1\n",
      "Jonkheer.      1\n",
      "Mme.           1\n",
      "Name: Name_Title, dtype: int64\n",
      "Survived by title\n",
      "Name_Title\n",
      "Capt.        0.000000\n",
      "Col.         0.500000\n",
      "Don.         0.000000\n",
      "Dr.          0.428571\n",
      "Jonkheer.    0.000000\n",
      "Lady.        1.000000\n",
      "Major.       0.500000\n",
      "Master.      0.575000\n",
      "Miss.        0.697802\n",
      "Mlle.        1.000000\n",
      "Mme.         1.000000\n",
      "Mr.          0.156673\n",
      "Mrs.         0.792000\n",
      "Ms.          1.000000\n",
      "Rev.         0.000000\n",
      "Sir.         1.000000\n",
      "the          1.000000\n",
      "Name: Survived, dtype: float64\n"
     ]
    }
   ],
   "source": [
    "train['Name_Title'] = train['Name'].apply(lambda x: x.split(',')[1]).apply(lambda x: x.split()[0])\n",
    "print('Title count')\n",
    "print(train['Name_Title'].value_counts())\n",
    "print('Survived by title')\n",
    "print(train['Survived'].groupby(train['Name_Title']).mean())"
   ]
  },
  {
   "cell_type": "code",
   "execution_count": 6,
   "metadata": {},
   "outputs": [
    {
     "name": "stdout",
     "output_type": "stream",
     "text": [
      "Survived by name length\n",
      "Name_Len\n",
      "(11.999, 19.0]    0.220588\n",
      "(19.0, 23.0]      0.301282\n",
      "(23.0, 27.0]      0.319797\n",
      "(27.0, 32.0]      0.442424\n",
      "(32.0, 82.0]      0.674556\n",
      "Name: Survived, dtype: float64\n"
     ]
    }
   ],
   "source": [
    "train['Name_Len'] = train['Name'].apply(lambda x: len(x))\n",
    "print('Survived by name length')\n",
    "print(train['Survived'].groupby(pd.qcut(train['Name_Len'],5)).mean())"
   ]
  },
  {
   "cell_type": "code",
   "execution_count": 7,
   "metadata": {},
   "outputs": [
    {
     "name": "stdout",
     "output_type": "stream",
     "text": [
      "Survived by sex\n",
      "Sex\n",
      "female    0.742038\n",
      "male      0.188908\n",
      "Name: Survived, dtype: float64\n"
     ]
    }
   ],
   "source": [
    "print('Survived by sex')\n",
    "print(train['Survived'].groupby(train['Sex']).mean())"
   ]
  },
  {
   "cell_type": "code",
   "execution_count": 8,
   "metadata": {},
   "outputs": [
    {
     "name": "stdout",
     "output_type": "stream",
     "text": [
      "Survived by Cabin_Letter\n",
      "Cabin_Letter\n",
      "A    0.466667\n",
      "B    0.744681\n",
      "C    0.593220\n",
      "D    0.757576\n",
      "E    0.750000\n",
      "F    0.615385\n",
      "G    0.500000\n",
      "T    0.000000\n",
      "n    0.299854\n",
      "Name: Survived, dtype: float64\n"
     ]
    }
   ],
   "source": [
    "train['Cabin_Letter'] = train['Cabin'].apply(lambda x: str(x)[0])\n",
    "print('Survived by Cabin_Letter')\n",
    "print(train['Survived'].groupby(train['Cabin_Letter']).mean())"
   ]
  },
  {
   "cell_type": "code",
   "execution_count": 9,
   "metadata": {},
   "outputs": [
    {
     "name": "stdout",
     "output_type": "stream",
     "text": [
      "Survived by Embarked\n",
      "Embarked\n",
      "C    0.553571\n",
      "Q    0.389610\n",
      "S    0.336957\n",
      "Name: Survived, dtype: float64\n"
     ]
    },
    {
     "data": {
      "image/png": "[encoded data removed]",
      "text/plain": [
       "<Figure size 432x288 with 1 Axes>"
      ]
     },
     "metadata": {},
     "output_type": "display_data"
    }
   ],
   "source": [
    "print('Survived by Embarked')\n",
    "print(train['Survived'].groupby(train['Embarked']).mean())\n",
    "count_plot = sns.countplot(train['Embarked'], hue=train['Pclass'])\n",
    "count_plot.get_figure().savefig(\"survived_count_by_embarked.png\")"
   ]
  },
  {
   "cell_type": "markdown",
   "metadata": {},
   "source": [
    "Feature engineering"
   ]
  },
  {
   "cell_type": "code",
   "execution_count": 10,
   "metadata": {},
   "outputs": [],
   "source": [
    "def create_name_feat(train, test):\n",
    "    for i in [train, test]:\n",
    "        i['Name_Len'] = i['Name'].apply(lambda x: len(x))\n",
    "        i['Name_Title'] = i['Name'].apply(lambda x: x.split(',')[1]).apply(lambda x: x.split()[0])\n",
    "        del i['Name']\n",
    "    return train, test"
   ]
  },
  {
   "cell_type": "code",
   "execution_count": 11,
   "metadata": {},
   "outputs": [],
   "source": [
    "def age_impute(train, test):\n",
    "    for i in [train, test]:\n",
    "        i['Age_Null_Flag'] = i['Age'].apply(lambda x: 1 if pd.isnull(x) else 0)\n",
    "        data = train.groupby(['Name_Title', 'Pclass'])['Age']\n",
    "        i['Age'] = data.transform(lambda x: x.fillna(x.mean()))\n",
    "    return train, test"
   ]
  },
  {
   "cell_type": "code",
   "execution_count": 12,
   "metadata": {},
   "outputs": [],
   "source": [
    "def fam_size(train, test):\n",
    "    for i in [train, test]:\n",
    "        i['Fam_Size'] = np.where((i['SibSp']+i['Parch']) == 0, 'One',\n",
    "                                 np.where((i['SibSp']+i['Parch']) <= 3,'Small', 'Big'))\n",
    "        del i['SibSp']\n",
    "        del i['Parch']\n",
    "    return train, test"
   ]
  },
  {
   "cell_type": "code",
   "execution_count": 13,
   "metadata": {},
   "outputs": [],
   "source": [
    "def ticket_grouped(train, test):\n",
    "    for i in [train, test]:\n",
    "        i['Ticket_Letr'] = i['Ticket'].apply(lambda x: str(x)[0])\n",
    "        i['Ticket_Letr'] = i['Ticket_Letr'].apply(lambda x: str(x))\n",
    "        i['Ticket_Letr'] = np.where((i['Ticket_Letr']).isin(['1', '2','3', 'S', 'P', 'C', 'A']),\n",
    "                                    i['Ticket_Letr'],np.where((i['Ticket_Letr']).\n",
    "                                                              isin(['W', '4', '7', '6', 'L', '5', '8']),'Low_ticket', 'Other_ticket'))\n",
    "        i['Ticket_Len'] = i['Ticket'].apply(lambda x: len(x))\n",
    "        del i['Ticket']\n",
    "    return train, test"
   ]
  },
  {
   "cell_type": "code",
   "execution_count": 14,
   "metadata": {},
   "outputs": [],
   "source": [
    "def cabin(train, test):\n",
    "    for i in [train, test]:\n",
    "        i['Cabin_Letter'] = i['Cabin'].apply(lambda x: str(x)[0])\n",
    "        del i['Cabin']\n",
    "    return train, test"
   ]
  },
  {
   "cell_type": "code",
   "execution_count": 15,
   "metadata": {},
   "outputs": [],
   "source": [
    "def embarked_impute(train, test):\n",
    "    for i in [train, test]:\n",
    "        i['Embarked'] = i['Embarked'].fillna('S')\n",
    "    return train, test"
   ]
  },
  {
   "cell_type": "code",
   "execution_count": 16,
   "metadata": {},
   "outputs": [],
   "source": [
    "def dummies(train, test, columns = ['Pclass', 'Sex', 'Embarked', 'Ticket_Letr', \n",
    "                                    'Cabin_Letter', 'Name_Title', 'Fam_Size']):\n",
    "    for column in columns:\n",
    "        train[column] = train[column].apply(lambda x: str(x))\n",
    "        test[column] = test[column].apply(lambda x: str(x))\n",
    "        good_cols = [column+'_'+i for i in train[column].unique() if i in test[column].unique()]\n",
    "        train = pd.concat((train, pd.get_dummies(train[column], prefix=column)[good_cols]), axis=1)\n",
    "        test = pd.concat((test, pd.get_dummies(test[column], prefix=column)[good_cols]), axis=1)\n",
    "        del train[column]\n",
    "        del test[column]\n",
    "    return train, test"
   ]
  },
  {
   "cell_type": "code",
   "execution_count": 17,
   "metadata": {},
   "outputs": [],
   "source": [
    "def PrepareTarget(data):\n",
    "    return np.array(data.Survived, dtype='int8').reshape(-1, 1)"
   ]
  },
  {
   "cell_type": "markdown",
   "metadata": {},
   "source": [
    "Logistic regression for survival prediction"
   ]
  },
  {
   "cell_type": "raw",
   "metadata": {},
   "source": [
    "tf.contrib.learn.BaseEstimator\n",
    "tf.contrib.learn.Estimator\n",
    "tf.contrib.learn.Trainable\n",
    "tf.contrib.learn.Evaluable\n",
    "tf.contrib.learn.KMeansClustering\n",
    "tf.contrib.learn.ModeKeys\n",
    "tf.contrib.learn.ModelFnOps\n",
    "tf.contrib.learn.MetricSpec\n",
    "tf.contrib.learn.PredictionKey\n",
    "tf.contrib.learn.DNNClassifier\n",
    "tf.contrib.learn.DNNRegressor\n",
    "tf.contrib.learn.DNNLinearCombinedRegressor\n",
    "tf.contrib.learn.DNNLinearCombinedClassifier\n",
    "tf.contrib.learn.LinearClassifier\n",
    "tf.contrib.learn.LinearRegressor\n",
    "tf.contrib.learn.LogisticRegressor"
   ]
  },
  {
   "cell_type": "raw",
   "metadata": {},
   "source": [
    "nn = tf.contrib.learn.Estimator(model_fn=model_fn, params=model_params)"
   ]
  },
  {
   "cell_type": "raw",
   "metadata": {},
   "source": [
    "model_params = {\"learning_rate\": LEARNING_RATE}"
   ]
  },
  {
   "cell_type": "code",
   "execution_count": 18,
   "metadata": {},
   "outputs": [],
   "source": [
    "import os\n",
    "import shutil\n",
    "import random\n",
    "import pandas as pd\n",
    "import numpy as np\n",
    "import seaborn as sns\n",
    "import matplotlib.pyplot as plt\n",
    "from sklearn.model_selection import train_test_split\n",
    "from sklearn.metrics import classification_report\n",
    "from sklearn.metrics import confusion_matrix\n",
    "from feature import *\n",
    "import tensorflow as tf\n",
    "from tensorflow.contrib.learn.python.learn.estimators import estimator\n",
    "from tensorflow.contrib import learn\n",
    "from tensorflow.python.framework import ops"
   ]
  },
  {
   "cell_type": "code",
   "execution_count": 19,
   "metadata": {},
   "outputs": [],
   "source": [
    "random.seed(1985)\n",
    "train = pd.read_csv(os.path.join('data', 'train.csv'))\n",
    "test = pd.read_csv(os.path.join('data', 'test.csv'))"
   ]
  },
  {
   "cell_type": "code",
   "execution_count": 20,
   "metadata": {},
   "outputs": [
    {
     "name": "stdout",
     "output_type": "stream",
     "text": [
      "   PassengerId  Survived  Pclass     Sex   Age  SibSp  Parch  \\\n",
      "0            1         0       3    male  22.0      1      0   \n",
      "1            2         1       1  female  38.0      1      0   \n",
      "2            3         1       3  female  26.0      0      0   \n",
      "3            4         1       1  female  35.0      1      0   \n",
      "4            5         0       3    male  35.0      0      0   \n",
      "\n",
      "             Ticket     Fare Cabin Embarked  Name_Len Name_Title  \n",
      "0         A/5 21171   7.2500   NaN        S        23        Mr.  \n",
      "1          PC 17599  71.2833   C85        C        51       Mrs.  \n",
      "2  STON/O2. 3101282   7.9250   NaN        S        22      Miss.  \n",
      "3            113803  53.1000  C123        S        44       Mrs.  \n",
      "4            373450   8.0500   NaN        S        24        Mr.  \n"
     ]
    }
   ],
   "source": [
    "train, test = create_name_feat(train, test)\n",
    "print(train.head())\n",
    "train, test = age_impute(train, test)\n",
    "train, test = cabin(train, test)\n",
    "train, test = embarked_impute(train, test)\n",
    "train, test = fam_size(train, test)\n",
    "test['Fare'].fillna(train['Fare'].mean(), inplace=True)\n",
    "train, test = ticket_grouped(train, test)"
   ]
  },
  {
   "cell_type": "code",
   "execution_count": 21,
   "metadata": {},
   "outputs": [],
   "source": [
    "train, test = dummies(train, test, columns=['Pclass', 'Sex', 'Embarked', \n",
    "                                            'Ticket_Letr', 'Cabin_Letter', 'Name_Title', 'Fam_Size'])"
   ]
  },
  {
   "cell_type": "code",
   "execution_count": 22,
   "metadata": {},
   "outputs": [],
   "source": [
    "TEST = True\n",
    "if TEST:\n",
    "    train, test = train_test_split(train, test_size=0.2, random_state=10)\n",
    "    train = train.sort_values('PassengerId')\n",
    "    test = test.sort_values('PassengerId')\n",
    "train['PassengerId'] = train['PassengerId'].astype(str)\n",
    "test['PassengerId'] = test['PassengerId'].astype(str)\n",
    "x_train = train.iloc[:, 1:]\n",
    "x_test = test.iloc[:, 1:]"
   ]
  },
  {
   "cell_type": "code",
   "execution_count": 23,
   "metadata": {},
   "outputs": [],
   "source": [
    "x_train = np.array(x_train.iloc[:, 1:], dtype='float32')\n",
    "if TEST:\n",
    "    x_test = np.array(x_test.iloc[:, 1:], dtype='float32')\n",
    "else:\n",
    "    x_test = np.array(x_test, dtype='float32')"
   ]
  },
  {
   "cell_type": "code",
   "execution_count": 24,
   "metadata": {},
   "outputs": [],
   "source": [
    "y_train = PrepareTarget(train)"
   ]
  },
  {
   "cell_type": "code",
   "execution_count": 25,
   "metadata": {},
   "outputs": [],
   "source": [
    "feature_count = x_train.shape[1]"
   ]
  },
  {
   "cell_type": "code",
   "execution_count": 26,
   "metadata": {},
   "outputs": [],
   "source": [
    "def build_lr_estimator(model_dir, feature_count):\n",
    "    return estimator.SKCompat(learn.LinearClassifier(\n",
    "        feature_columns=[tf.contrib.layers.real_valued_column(\"\", dimension=feature_count)],\n",
    "        n_classes=2, model_dir=model_dir))"
   ]
  },
  {
   "cell_type": "code",
   "execution_count": 27,
   "metadata": {},
   "outputs": [
    {
     "name": "stdout",
     "output_type": "stream",
     "text": [
      "Training...\n",
      "WARNING:tensorflow:From C:\\ProgramData\\Anaconda3\\lib\\site-packages\\tensorflow\\contrib\\learn\\python\\learn\\estimators\\linear.py:467: multi_class_head (from tensorflow.contrib.learn.python.learn.estimators.head) is deprecated and will be removed in a future version.\n",
      "Instructions for updating:\n",
      "Please switch to tf.contrib.estimator.*_head.\n",
      "WARNING:tensorflow:From C:\\ProgramData\\Anaconda3\\lib\\site-packages\\tensorflow\\contrib\\learn\\python\\learn\\estimators\\estimator.py:1179: BaseEstimator.__init__ (from tensorflow.contrib.learn.python.learn.estimators.estimator) is deprecated and will be removed in a future version.\n",
      "Instructions for updating:\n",
      "Please replace uses of any Estimator from tf.contrib.learn with an Estimator from tf.estimator.*\n",
      "WARNING:tensorflow:From C:\\ProgramData\\Anaconda3\\lib\\site-packages\\tensorflow\\contrib\\learn\\python\\learn\\estimators\\estimator.py:427: RunConfig.__init__ (from tensorflow.contrib.learn.python.learn.estimators.run_config) is deprecated and will be removed in a future version.\n",
      "Instructions for updating:\n",
      "When switching to tf.estimator.Estimator, use tf.estimator.RunConfig instead.\n",
      "INFO:tensorflow:Using default config.\n",
      "INFO:tensorflow:Using config: {'_task_type': None, '_task_id': 0, '_cluster_spec': <tensorflow.python.training.server_lib.ClusterSpec object at 0x0000000009815198>, '_master': '', '_num_ps_replicas': 0, '_num_worker_replicas': 0, '_environment': 'local', '_is_chief': True, '_evaluation_master': '', '_train_distribute': None, '_tf_config': gpu_options {\n",
      "  per_process_gpu_memory_fraction: 1\n",
      "}\n",
      ", '_tf_random_seed': None, '_save_summary_steps': 100, '_save_checkpoints_secs': 600, '_log_step_count_steps': 100, '_session_config': None, '_save_checkpoints_steps': None, '_keep_checkpoint_max': 5, '_keep_checkpoint_every_n_hours': 10000, '_model_dir': 'lr/'}\n",
      "WARNING:tensorflow:From <ipython-input-26-c64227e26ac2>:4: SKCompat.__init__ (from tensorflow.contrib.learn.python.learn.estimators.estimator) is deprecated and will be removed in a future version.\n",
      "Instructions for updating:\n",
      "Please switch to the Estimator interface.\n",
      "WARNING:tensorflow:From C:\\ProgramData\\Anaconda3\\lib\\site-packages\\tensorflow\\contrib\\learn\\python\\learn\\estimators\\estimator.py:142: setup_train_data_feeder (from tensorflow.contrib.learn.python.learn.learn_io.data_feeder) is deprecated and will be removed in a future version.\n",
      "Instructions for updating:\n",
      "Please use tensorflow/transform or tf.data.\n",
      "WARNING:tensorflow:From C:\\ProgramData\\Anaconda3\\lib\\site-packages\\tensorflow\\contrib\\learn\\python\\learn\\learn_io\\data_feeder.py:96: extract_dask_data (from tensorflow.contrib.learn.python.learn.learn_io.dask_io) is deprecated and will be removed in a future version.\n",
      "Instructions for updating:\n",
      "Please feed input to tf.data to support dask.\n",
      "WARNING:tensorflow:From C:\\ProgramData\\Anaconda3\\lib\\site-packages\\tensorflow\\contrib\\learn\\python\\learn\\learn_io\\data_feeder.py:98: extract_dask_labels (from tensorflow.contrib.learn.python.learn.learn_io.dask_io) is deprecated and will be removed in a future version.\n",
      "Instructions for updating:\n",
      "Please feed input to tf.data to support dask.\n",
      "WARNING:tensorflow:From C:\\ProgramData\\Anaconda3\\lib\\site-packages\\tensorflow\\contrib\\learn\\python\\learn\\learn_io\\data_feeder.py:100: extract_pandas_data (from tensorflow.contrib.learn.python.learn.learn_io.pandas_io) is deprecated and will be removed in a future version.\n",
      "Instructions for updating:\n",
      "Please access pandas data directly.\n",
      "WARNING:tensorflow:From C:\\ProgramData\\Anaconda3\\lib\\site-packages\\tensorflow\\contrib\\learn\\python\\learn\\learn_io\\data_feeder.py:102: extract_pandas_labels (from tensorflow.contrib.learn.python.learn.learn_io.pandas_io) is deprecated and will be removed in a future version.\n",
      "Instructions for updating:\n",
      "Please access pandas data directly.\n",
      "WARNING:tensorflow:From C:\\ProgramData\\Anaconda3\\lib\\site-packages\\tensorflow\\contrib\\learn\\python\\learn\\learn_io\\data_feeder.py:159: DataFeeder.__init__ (from tensorflow.contrib.learn.python.learn.learn_io.data_feeder) is deprecated and will be removed in a future version.\n",
      "Instructions for updating:\n",
      "Please use tensorflow/transform or tf.data.\n",
      "WARNING:tensorflow:From C:\\ProgramData\\Anaconda3\\lib\\site-packages\\tensorflow\\contrib\\learn\\python\\learn\\learn_io\\data_feeder.py:340: check_array (from tensorflow.contrib.learn.python.learn.learn_io.data_feeder) is deprecated and will be removed in a future version.\n",
      "Instructions for updating:\n",
      "Please convert numpy dtypes explicitly.\n",
      "WARNING:tensorflow:Casting <dtype: 'int8'> labels to bool.\n",
      "WARNING:tensorflow:Casting <dtype: 'int8'> labels to bool.\n",
      "WARNING:tensorflow:Trapezoidal rule is known to produce incorrect PR-AUCs; please switch to \"careful_interpolation\" instead.\n",
      "WARNING:tensorflow:Trapezoidal rule is known to produce incorrect PR-AUCs; please switch to \"careful_interpolation\" instead.\n",
      "WARNING:tensorflow:From C:\\ProgramData\\Anaconda3\\lib\\site-packages\\tensorflow\\contrib\\learn\\python\\learn\\estimators\\head.py:678: ModelFnOps.__new__ (from tensorflow.contrib.learn.python.learn.estimators.model_fn) is deprecated and will be removed in a future version.\n",
      "Instructions for updating:\n",
      "When switching to tf.estimator.Estimator, use tf.estimator.EstimatorSpec. You can use the `estimator_spec` method to create an equivalent one.\n",
      "INFO:tensorflow:Create CheckpointSaverHook.\n",
      "INFO:tensorflow:Graph was finalized.\n",
      "INFO:tensorflow:Running local_init_op.\n",
      "INFO:tensorflow:Done running local_init_op.\n",
      "INFO:tensorflow:Saving checkpoints for 1 into lr/model.ckpt.\n",
      "INFO:tensorflow:loss = 0.6931475, step = 1\n",
      "INFO:tensorflow:Saving checkpoints for 100 into lr/model.ckpt.\n",
      "INFO:tensorflow:Loss for final step: 0.41459614.\n",
      "INFO:tensorflow:Graph was finalized.\n",
      "INFO:tensorflow:Restoring parameters from lr/model.ckpt-100\n",
      "INFO:tensorflow:Running local_init_op.\n",
      "INFO:tensorflow:Done running local_init_op.\n"
     ]
    }
   ],
   "source": [
    "print(\"Training...\")\n",
    "try:\n",
    "    shutil.rmtree('lr/')\n",
    "except OSError:\n",
    "    pass\n",
    "lr = build_lr_estimator('lr/', feature_count)\n",
    "lr.fit(x_train, y_train, steps=100)\n",
    "lr_pred = lr.predict(x_test)\n",
    "lr_pred = lr_pred['classes']"
   ]
  },
  {
   "cell_type": "code",
   "execution_count": 28,
   "metadata": {},
   "outputs": [
    {
     "name": "stdout",
     "output_type": "stream",
     "text": [
      "Logistic Regression Report\n",
      "              precision    recall  f1-score   support\n",
      "\n",
      "Not Survived       0.90      0.81      0.86       117\n",
      "    Survived       0.70      0.84      0.76        62\n",
      "\n",
      " avg / total       0.83      0.82      0.82       179\n",
      "\n",
      "Logistic Regression Confusion Matrix\n"
     ]
    }
   ],
   "source": [
    "if TEST:\n",
    "    target_names = ['Not Survived', 'Survived']\n",
    "\n",
    "    print(\"Logistic Regression Report\")\n",
    "    print(classification_report(test['Survived'], lr_pred, target_names=target_names))\n",
    "    print(\"Logistic Regression Confusion Matrix\")"
   ]
  },
  {
   "cell_type": "code",
   "execution_count": 29,
   "metadata": {},
   "outputs": [
    {
     "name": "stdout",
     "output_type": "stream",
     "text": [
      "Logistic Regression Report\n",
      "              precision    recall  f1-score   support\n",
      "\n",
      "Not Survived       0.90      0.81      0.86       117\n",
      "    Survived       0.70      0.84      0.76        62\n",
      "\n",
      " avg / total       0.83      0.82      0.82       179\n",
      "\n",
      "Logistic Regression Confusion Matrix\n",
      "              Not Survived  Survived\n",
      "Not Survived            95        22\n",
      "Survived                10        52\n"
     ]
    }
   ],
   "source": [
    "if TEST:\n",
    "    target_names = ['Not Survived', 'Survived']\n",
    "\n",
    "    print(\"Logistic Regression Report\")\n",
    "    print(classification_report(test['Survived'], lr_pred, target_names=target_names))\n",
    "    print(\"Logistic Regression Confusion Matrix\")\n",
    "    cm = confusion_matrix(test['Survived'], lr_pred)\n",
    "    df_cm = pd.DataFrame(cm, index=[i for i in ['Not Survived', 'Survived']],\n",
    "                         columns=[i for i in ['Not Survived', 'Survived']])\n",
    "    print(df_cm)"
   ]
  },
  {
   "cell_type": "code",
   "execution_count": 30,
   "metadata": {},
   "outputs": [
    {
     "data": {
      "image/png": "[encoded data removed]",
      "text/plain": [
       "<Figure size 432x288 with 1 Axes>"
      ]
     },
     "metadata": {},
     "output_type": "display_data"
    }
   ],
   "source": [
    "sol = pd.DataFrame()\n",
    "sol['PassengerId'] = test['PassengerId']\n",
    "sol['Survived'] = pd.Series(lr_pred.reshape(-1)).map({True:1, False:0}).values\n",
    "sol.to_csv('submission_lr.csv', index=False)\n",
    "plt.suptitle(\"Predicted Survived LR\")\n",
    "count_plot = sns.countplot(sol.Survived)\n",
    "count_plot.get_figure().savefig(\"survived_count_lr_prd.png\")"
   ]
  },
  {
   "cell_type": "code",
   "execution_count": 31,
   "metadata": {},
   "outputs": [
    {
     "name": "stdout",
     "output_type": "stream",
     "text": [
      "Predicted Counts\n",
      "0    105\n",
      "1     74\n",
      "Name: Survived, dtype: int64\n"
     ]
    }
   ],
   "source": [
    "print(\"Predicted Counts\")\n",
    "print(sol.Survived.value_counts())"
   ]
  },
  {
   "cell_type": "markdown",
   "metadata": {},
   "source": [
    "Linear SVM for survival prediction"
   ]
  },
  {
   "cell_type": "code",
   "execution_count": 32,
   "metadata": {},
   "outputs": [],
   "source": [
    "import os\n",
    "import shutil\n",
    "import random\n",
    "import pandas as pd\n",
    "import seaborn as sns\n",
    "import matplotlib.pyplot as plt\n",
    "from sklearn.model_selection import train_test_split\n",
    "from sklearn.metrics import classification_report\n",
    "from sklearn.metrics import confusion_matrix\n",
    "from feature import *\n",
    "import tensorflow as tf\n",
    "from tensorflow.contrib.learn.python.learn.estimators import svm\n",
    "from tensorflow.python.framework import ops"
   ]
  },
  {
   "cell_type": "code",
   "execution_count": 33,
   "metadata": {},
   "outputs": [],
   "source": [
    "random.seed(1985)\n",
    "train = pd.read_csv(os.path.join('data', 'train.csv'))\n",
    "test = pd.read_csv(os.path.join('data', 'test.csv'))\n",
    "\n",
    "train, test = create_name_feat(train, test)\n",
    "train, test = age_impute(train, test)\n",
    "train, test = cabin(train, test)\n",
    "train, test = embarked_impute(train, test)\n",
    "train, test = fam_size(train, test)\n",
    "test['Fare'].fillna(train['Fare'].mean(), inplace=True)\n",
    "train, test = ticket_grouped(train, test)\n",
    "\n",
    "train, test = dummies(train, test, columns=['Pclass', 'Sex', 'Embarked', 'Ticket_Letr', 'Cabin_Letter', 'Name_Title', 'Fam_Size'])\n",
    "\n",
    "TEST = True\n",
    "if TEST:\n",
    "    train, test = train_test_split(train, test_size=0.2, random_state=10)\n",
    "    train = train.sort_values('PassengerId')\n",
    "    test = test.sort_values('PassengerId')\n",
    "\n",
    "train['PassengerId'] = train['PassengerId'].astype(str)\n",
    "test['PassengerId'] = test['PassengerId'].astype(str)"
   ]
  },
  {
   "cell_type": "code",
   "execution_count": 34,
   "metadata": {},
   "outputs": [],
   "source": [
    "def train_input_fn():\n",
    "    continuous_cols = {k: tf.expand_dims(tf.constant(train[k].values), 1)\n",
    "                       for k in list(train) if k not in ['Survived', 'PassengerId']}\n",
    "    id_col = {'PassengerId' : tf.constant(train['PassengerId'].values)}\n",
    "    feature_cols = continuous_cols.copy()\n",
    "    feature_cols.update(id_col)\n",
    "    label = tf.constant(train[\"Survived\"].values)\n",
    "    return feature_cols, label"
   ]
  },
  {
   "cell_type": "code",
   "execution_count": 35,
   "metadata": {},
   "outputs": [],
   "source": [
    "def predict_input_fn():\n",
    "    continuous_cols = {k: tf.expand_dims(tf.constant(test[k].values), 1)\n",
    "                       for k in list(test) if k not in ['Survived', 'PassengerId']}\n",
    "    id_col = {'PassengerId' : tf.constant(test['PassengerId'].values)}\n",
    "    feature_cols = continuous_cols.copy()\n",
    "    feature_cols.update(id_col)\n",
    "    return feature_cols"
   ]
  },
  {
   "cell_type": "code",
   "execution_count": 36,
   "metadata": {},
   "outputs": [
    {
     "name": "stdout",
     "output_type": "stream",
     "text": [
      "WARNING:tensorflow:From C:\\ProgramData\\Anaconda3\\lib\\site-packages\\tensorflow\\contrib\\learn\\python\\learn\\estimators\\svm.py:153: binary_svm_head (from tensorflow.contrib.learn.python.learn.estimators.head) is deprecated and will be removed in a future version.\n",
      "Instructions for updating:\n",
      "Please switch to tf.contrib.estimator.*_head.\n",
      "INFO:tensorflow:Using default config.\n",
      "INFO:tensorflow:Using config: {'_task_type': None, '_task_id': 0, '_cluster_spec': <tensorflow.python.training.server_lib.ClusterSpec object at 0x0000000013A14860>, '_master': '', '_num_ps_replicas': 0, '_num_worker_replicas': 0, '_environment': 'local', '_is_chief': True, '_evaluation_master': '', '_train_distribute': None, '_tf_config': gpu_options {\n",
      "  per_process_gpu_memory_fraction: 1\n",
      "}\n",
      ", '_tf_random_seed': None, '_save_summary_steps': 100, '_save_checkpoints_secs': 600, '_log_step_count_steps': 100, '_session_config': None, '_save_checkpoints_steps': None, '_keep_checkpoint_max': 5, '_keep_checkpoint_every_n_hours': 10000, '_model_dir': 'svm/'}\n",
      "INFO:tensorflow:Created variable linear/bias_weight:0, with device=\n",
      "INFO:tensorflow:Create CheckpointSaverHook.\n",
      "INFO:tensorflow:Graph was finalized.\n",
      "INFO:tensorflow:Running local_init_op.\n",
      "INFO:tensorflow:Done running local_init_op.\n",
      "INFO:tensorflow:Saving checkpoints for 1 into svm/model.ckpt.\n",
      "INFO:tensorflow:loss = 1.0, step = 1\n",
      "INFO:tensorflow:Saving checkpoints for 100 into svm/model.ckpt.\n",
      "INFO:tensorflow:Loss for final step: 0.5159848.\n",
      "INFO:tensorflow:Created variable linear/bias_weight:0, with device=\n",
      "INFO:tensorflow:Graph was finalized.\n",
      "INFO:tensorflow:Restoring parameters from svm/model.ckpt-100\n",
      "INFO:tensorflow:Running local_init_op.\n",
      "INFO:tensorflow:Done running local_init_op.\n"
     ]
    }
   ],
   "source": [
    "try:\n",
    "    shutil.rmtree('svm/')\n",
    "except OSError:\n",
    "    pass\n",
    "svm_model = svm.SVM(example_id_column=\"PassengerId\",\n",
    "                    feature_columns=[tf.contrib.layers.real_valued_column(k) for k in list(train)\n",
    "                                     if k not in ['Survived', 'PassengerId']],\n",
    "                    model_dir=\"svm/\")\n",
    "svm_model.fit(input_fn=train_input_fn, steps=100)\n",
    "svm_pred = list(svm_model.predict_classes(input_fn=predict_input_fn))"
   ]
  },
  {
   "cell_type": "code",
   "execution_count": 37,
   "metadata": {},
   "outputs": [
    {
     "name": "stdout",
     "output_type": "stream",
     "text": [
      "SVM Report\n",
      "              precision    recall  f1-score   support\n",
      "\n",
      "Not Survived       0.89      0.84      0.86       117\n",
      "    Survived       0.72      0.81      0.76        62\n",
      "\n",
      " avg / total       0.83      0.83      0.83       179\n",
      "\n"
     ]
    }
   ],
   "source": [
    "if TEST:\n",
    "    target_names = ['Not Survived', 'Survived']\n",
    "    print(\"SVM Report\")\n",
    "    print(classification_report(test['Survived'], svm_pred, target_names=target_names))"
   ]
  },
  {
   "cell_type": "code",
   "execution_count": 38,
   "metadata": {},
   "outputs": [
    {
     "name": "stdout",
     "output_type": "stream",
     "text": [
      "SVM Report\n",
      "              precision    recall  f1-score   support\n",
      "\n",
      "Not Survived       0.89      0.84      0.86       117\n",
      "    Survived       0.72      0.81      0.76        62\n",
      "\n",
      " avg / total       0.83      0.83      0.83       179\n",
      "\n",
      "SVM Confusion Matrix\n",
      "              Not Survived  Survived\n",
      "Not Survived            98        19\n",
      "Survived                12        50\n"
     ]
    }
   ],
   "source": [
    "if TEST:\n",
    "    target_names = ['Not Survived', 'Survived']\n",
    "    print(\"SVM Report\")\n",
    "    print(classification_report(test['Survived'], svm_pred, target_names=target_names))\n",
    "\n",
    "    print(\"SVM Confusion Matrix\")\n",
    "    cm = confusion_matrix(test['Survived'], svm_pred)\n",
    "    df_cm = pd.DataFrame(cm, index=[i for i in ['Not Survived', 'Survived']],\n",
    "                         columns=[i for i in ['Not Survived', 'Survived']])\n",
    "    print(df_cm)"
   ]
  },
  {
   "cell_type": "code",
   "execution_count": 39,
   "metadata": {},
   "outputs": [
    {
     "data": {
      "image/png": "[encoded data removed]",
      "text/plain": [
       "<Figure size 432x288 with 1 Axes>"
      ]
     },
     "metadata": {},
     "output_type": "display_data"
    }
   ],
   "source": [
    "sol = pd.DataFrame()\n",
    "sol['PassengerId'] = test['PassengerId']\n",
    "sol['Survived'] = pd.Series(svm_pred).values\n",
    "sol.to_csv('submission_svm.csv', index=False)\n",
    "plt.suptitle(\"Predicted Survived SVM\")\n",
    "count_plot = sns.countplot(sol.Survived)\n",
    "count_plot.get_figure().savefig(\"survived_count_svm_prd.png\")"
   ]
  },
  {
   "cell_type": "code",
   "execution_count": 40,
   "metadata": {},
   "outputs": [
    {
     "name": "stdout",
     "output_type": "stream",
     "text": [
      "Predicted Counts\n",
      "0    110\n",
      "1     69\n",
      "Name: Survived, dtype: int64\n"
     ]
    }
   ],
   "source": [
    "print(\"Predicted Counts\")\n",
    "print(sol.Survived.value_counts())"
   ]
  },
  {
   "cell_type": "markdown",
   "metadata": {},
   "source": [
    "Ensemble method for survival prediction"
   ]
  },
  {
   "cell_type": "code",
   "execution_count": 41,
   "metadata": {},
   "outputs": [],
   "source": [
    "import os\n",
    "import shutil\n",
    "import random\n",
    "import pandas as pd\n",
    "import numpy as np\n",
    "import seaborn as sns\n",
    "import matplotlib.pyplot as plt\n",
    "from sklearn.model_selection import train_test_split\n",
    "from sklearn.metrics import classification_report\n",
    "from sklearn.metrics import confusion_matrix\n",
    "from feature import *\n",
    "\n",
    "import tensorflow as tf\n",
    "from tensorflow.contrib.learn.python.learn.estimators import estimator\n",
    "from tensorflow.contrib.tensor_forest.client import random_forest\n",
    "from tensorflow.contrib.tensor_forest.python import tensor_forest\n",
    "\n",
    "from tensorflow.python.framework import ops"
   ]
  },
  {
   "cell_type": "code",
   "execution_count": 42,
   "metadata": {},
   "outputs": [],
   "source": [
    "random.seed(1985)\n",
    "\n",
    "def build_rf_estimator(model_dir, feature_count):\n",
    "    params = tensor_forest.ForestHParams(\n",
    "        num_classes=2,\n",
    "        num_features=feature_count,\n",
    "        num_trees=1000,\n",
    "        max_nodes=1000,\n",
    "        min_split_samples=10)\n",
    "    \n",
    "    graph_builder_class = tensor_forest.RandomForestGraphs\n",
    "    return estimator.SKCompat(random_forest.TensorForestEstimator(\n",
    "        params, graph_builder_class=graph_builder_class,\n",
    "        model_dir=model_dir))"
   ]
  },
  {
   "cell_type": "code",
   "execution_count": 43,
   "metadata": {},
   "outputs": [
    {
     "name": "stdout",
     "output_type": "stream",
     "text": [
      "(712, 41)\n",
      "(179, 41)\n",
      "Training...\n"
     ]
    }
   ],
   "source": [
    "train = pd.read_csv(os.path.join('input', 'train.csv'))\n",
    "test = pd.read_csv(os.path.join('input', 'test.csv'))\n",
    "\n",
    "train, test = create_name_feat(train, test)\n",
    "train, test = age_impute(train, test)\n",
    "train, test = cabin(train, test)\n",
    "train, test = embarked_impute(train, test)\n",
    "train, test = fam_size(train, test)\n",
    "test['Fare'].fillna(train['Fare'].mean(), inplace=True)\n",
    "train, test = ticket_grouped(train, test)\n",
    "\n",
    "train, test = dummies(train, test, columns=['Pclass', 'Sex', 'Embarked', 'Ticket_Letr', 'Cabin_Letter', 'Name_Title', 'Fam_Size'])\n",
    "\n",
    "TEST = True\n",
    "if TEST:\n",
    "    train, test = train_test_split(train, test_size=0.2, random_state=10)\n",
    "    train = train.sort_values('PassengerId')\n",
    "    test = test.sort_values('PassengerId')\n",
    "\n",
    "train['PassengerId'] = train['PassengerId'].astype(str)\n",
    "test['PassengerId'] = test['PassengerId'].astype(str)\n",
    "\n",
    "x_train = train.iloc[:, 1:]\n",
    "x_test = test.iloc[:, 1:]\n",
    "\n",
    "x_train = np.array(x_train.iloc[:, 1:], dtype='float32')\n",
    "if TEST:\n",
    "    x_test = np.array(x_test.iloc[:, 1:], dtype='float32')\n",
    "else:\n",
    "    x_test = np.array(x_test, dtype='float32')\n",
    "\n",
    "y_train = PrepareTarget(train)\n",
    "feature_count = x_train.shape[1]\n",
    "\n",
    "print(x_train.shape)\n",
    "print(x_test.shape)\n",
    "\n",
    "print(\"Training...\")\n",
    "\n",
    "try:\n",
    "    shutil.rmtree('rf/')\n",
    "except OSError:\n",
    "    pass\n"
   ]
  },
  {
   "cell_type": "code",
   "execution_count": 44,
   "metadata": {},
   "outputs": [
    {
     "name": "stdout",
     "output_type": "stream",
     "text": [
      "INFO:tensorflow:Using default config.\n",
      "INFO:tensorflow:Using config: {'_task_type': None, '_task_id': 0, '_cluster_spec': <tensorflow.python.training.server_lib.ClusterSpec object at 0x00000000177E5C88>, '_master': '', '_num_ps_replicas': 0, '_num_worker_replicas': 0, '_environment': 'local', '_is_chief': True, '_evaluation_master': '', '_train_distribute': None, '_tf_config': gpu_options {\n",
      "  per_process_gpu_memory_fraction: 1\n",
      "}\n",
      ", '_tf_random_seed': None, '_save_summary_steps': 100, '_save_checkpoints_secs': 600, '_log_step_count_steps': 100, '_session_config': None, '_save_checkpoints_steps': None, '_keep_checkpoint_max': 5, '_keep_checkpoint_every_n_hours': 10000, '_model_dir': 'rf/'}\n",
      "INFO:tensorflow:Constructing forest with params = \n",
      "INFO:tensorflow:{'num_trees': 1000, 'max_nodes': 1000, 'bagging_fraction': 1.0, 'feature_bagging_fraction': 1.0, 'num_splits_to_consider': 10, 'max_fertile_nodes': 0, 'split_after_samples': 250, 'valid_leaf_threshold': 1, 'dominate_method': 'bootstrap', 'dominate_fraction': 0.99, 'model_name': 'all_dense', 'split_finish_name': 'basic', 'split_pruning_name': 'none', 'collate_examples': False, 'checkpoint_stats': False, 'use_running_stats_method': False, 'initialize_average_splits': False, 'inference_tree_paths': False, 'param_file': None, 'split_name': 'less_or_equal', 'early_finish_check_every_samples': 0, 'prune_every_samples': 0, 'num_classes': 2, 'num_features': 41, 'min_split_samples': 10, 'bagged_num_features': 41, 'bagged_features': None, 'regression': False, 'num_outputs': 1, 'num_output_columns': 3, 'base_random_seed': 0, 'leaf_model_type': 0, 'stats_model_type': 0, 'finish_type': 0, 'pruning_type': 0, 'split_type': 0}\n",
      "INFO:tensorflow:dense_features_size: 41 dense: [{name: features original_type: 0 size: 41}] sparse: []\n",
      "INFO:tensorflow:dense_features_size: 41 dense: [{name: features original_type: 0 size: 41}] sparse: []\n",
      "WARNING:tensorflow:Casting <dtype: 'int8'> labels to bool.\n",
      "WARNING:tensorflow:Casting <dtype: 'int8'> labels to bool.\n",
      "WARNING:tensorflow:Trapezoidal rule is known to produce incorrect PR-AUCs; please switch to \"careful_interpolation\" instead.\n",
      "WARNING:tensorflow:Trapezoidal rule is known to produce incorrect PR-AUCs; please switch to \"careful_interpolation\" instead.\n",
      "INFO:tensorflow:Create CheckpointSaverHook.\n",
      "WARNING:tensorflow:Error encountered when serializing resources.\n",
      "Type is unsupported, or the types of the items don't match field type in CollectionDef.\n",
      "'_Resource' object has no attribute 'name'\n",
      "INFO:tensorflow:Graph was finalized.\n",
      "INFO:tensorflow:Running local_init_op.\n",
      "INFO:tensorflow:Done running local_init_op.\n",
      "WARNING:tensorflow:Error encountered when serializing resources.\n",
      "Type is unsupported, or the types of the items don't match field type in CollectionDef.\n",
      "'_Resource' object has no attribute 'name'\n",
      "INFO:tensorflow:Saving checkpoints for 1 into rf/model.ckpt.\n",
      "WARNING:tensorflow:Error encountered when serializing resources.\n",
      "Type is unsupported, or the types of the items don't match field type in CollectionDef.\n",
      "'_Resource' object has no attribute 'name'\n",
      "INFO:tensorflow:loss = 5.5262055, step = 1\n",
      "INFO:tensorflow:TensorForestLossHook resetting last_step.\n",
      "INFO:tensorflow:global_step/sec: 7.9106\n",
      "INFO:tensorflow:loss = 0.284242, step = 101 (12.647 sec)\n",
      "INFO:tensorflow:global_step/sec: 14.4599\n",
      "INFO:tensorflow:loss = 0.44902188, step = 201 (6.921 sec)\n",
      "INFO:tensorflow:TensorForestLossHook requesting stop.\n",
      "INFO:tensorflow:Saving checkpoints for 236 into rf/model.ckpt.\n",
      "WARNING:tensorflow:Error encountered when serializing resources.\n",
      "Type is unsupported, or the types of the items don't match field type in CollectionDef.\n",
      "'_Resource' object has no attribute 'name'\n",
      "INFO:tensorflow:9: clean up resources: None\n",
      "INFO:tensorflow:Loss for final step: 0.38148454.\n",
      "INFO:tensorflow:Constructing forest with params = \n",
      "INFO:tensorflow:{'num_trees': 1000, 'max_nodes': 1000, 'bagging_fraction': 1.0, 'feature_bagging_fraction': 1.0, 'num_splits_to_consider': 10, 'max_fertile_nodes': 0, 'split_after_samples': 250, 'valid_leaf_threshold': 1, 'dominate_method': 'bootstrap', 'dominate_fraction': 0.99, 'model_name': 'all_dense', 'split_finish_name': 'basic', 'split_pruning_name': 'none', 'collate_examples': False, 'checkpoint_stats': False, 'use_running_stats_method': False, 'initialize_average_splits': False, 'inference_tree_paths': False, 'param_file': None, 'split_name': 'less_or_equal', 'early_finish_check_every_samples': 0, 'prune_every_samples': 0, 'num_classes': 2, 'num_features': 41, 'min_split_samples': 10, 'bagged_num_features': 41, 'bagged_features': None, 'regression': False, 'num_outputs': 1, 'num_output_columns': 3, 'base_random_seed': 0, 'leaf_model_type': 0, 'stats_model_type': 0, 'finish_type': 0, 'pruning_type': 0, 'split_type': 0, 'params_proto': pruning_type {\n",
      "  prune_every_samples {\n",
      "    constant_value: 0\n",
      "  }\n",
      "}\n",
      "finish_type {\n",
      "  check_every_steps {\n",
      "    constant_value: 0\n",
      "  }\n",
      "}\n",
      "num_trees: 1000\n",
      "max_nodes: 1000\n",
      "num_outputs: 2\n",
      "num_splits_to_consider {\n",
      "  constant_value: 10\n",
      "}\n",
      "split_after_samples {\n",
      "  constant_value: 250\n",
      "}\n",
      "dominate_fraction {\n",
      "  constant_value: 0.99\n",
      "}\n",
      "num_features: 41\n",
      ", 'serialized_params_proto': b'\"\\x07\\n\\x05\\r\\x00\\x00\\x00\\x00*\\x07\\n\\x05\\r\\x00\\x00\\x00\\x000\\xe8\\x078\\xe8\\x07`\\x02j\\x05\\r\\x00\\x00 Ar\\x05\\r\\x00\\x00zCz\\x05\\r\\xa4p}?\\xa8\\x01)'}\n",
      "INFO:tensorflow:dense_features_size: 41 dense: [{name: features original_type: 0 size: 41}] sparse: []\n",
      "INFO:tensorflow:Graph was finalized.\n",
      "INFO:tensorflow:Restoring parameters from rf/model.ckpt-236\n",
      "INFO:tensorflow:Running local_init_op.\n",
      "INFO:tensorflow:Done running local_init_op.\n"
     ]
    }
   ],
   "source": [
    "rf = build_rf_estimator('rf/', feature_count)\n",
    "rf.fit(x_train, y_train, batch_size=50)\n",
    "rf_pred = rf.predict(x_test)\n",
    "rf_pred = rf_pred['classes']"
   ]
  },
  {
   "cell_type": "code",
   "execution_count": 45,
   "metadata": {},
   "outputs": [
    {
     "name": "stdout",
     "output_type": "stream",
     "text": [
      "RandomForest Report\n",
      "              precision    recall  f1-score   support\n",
      "\n",
      "Not Survived       0.90      0.88      0.89       117\n",
      "    Survived       0.78      0.82      0.80        62\n",
      "\n",
      " avg / total       0.86      0.86      0.86       179\n",
      "\n"
     ]
    }
   ],
   "source": [
    "target_names = ['Not Survived', 'Survived']\n",
    "print(\"RandomForest Report\")\n",
    "print(classification_report(test['Survived'], rf_pred, target_names=target_names))"
   ]
  },
  {
   "cell_type": "code",
   "execution_count": 46,
   "metadata": {},
   "outputs": [
    {
     "name": "stdout",
     "output_type": "stream",
     "text": [
      "Random Forest Confusion Matrix\n",
      "              Not Survived  Survived\n",
      "Not Survived           103        14\n",
      "Survived                11        51\n"
     ]
    }
   ],
   "source": [
    "print(\"Random Forest Confusion Matrix\")\n",
    "cm = confusion_matrix(test['Survived'], rf_pred)\n",
    "df_cm = pd.DataFrame(cm, index=[i for i in ['Not Survived','Survived']],\n",
    "                     columns=[i for i in ['Not Survived','Survived']])\n",
    "print(df_cm)"
   ]
  },
  {
   "cell_type": "code",
   "execution_count": 47,
   "metadata": {},
   "outputs": [
    {
     "data": {
      "image/png": "[encoded data removed]",
      "text/plain": [
       "<Figure size 432x288 with 1 Axes>"
      ]
     },
     "metadata": {},
     "output_type": "display_data"
    }
   ],
   "source": [
    "sol = pd.DataFrame()\n",
    "sol['PassengerId'] = test['PassengerId']\n",
    "sol['Survived'] = pd.Series(svm_pred).values\n",
    "plt.suptitle(\"Titanic Survival prediction using RF with TensorFlow\")\n",
    "count_plot = sns.countplot(sol.Survived)"
   ]
  },
  {
   "cell_type": "code",
   "execution_count": 48,
   "metadata": {},
   "outputs": [
    {
     "name": "stdout",
     "output_type": "stream",
     "text": [
      "Predicted Counts\n",
      "0    110\n",
      "1     69\n",
      "Name: Survived, dtype: int64\n"
     ]
    }
   ],
   "source": [
    "print(\"Predicted Counts\")\n",
    "print(sol.Survived.value_counts())"
   ]
  },
  {
   "cell_type": "code",
   "execution_count": null,
   "metadata": {},
   "outputs": [],
   "source": []
  }
 ],
 "metadata": {
  "kernelspec": {
   "display_name": "Python 3",
   "language": "python",
   "name": "python3"
  },
  "language_info": {
   "codemirror_mode": {
    "name": "ipython",
    "version": 3
   },
   "file_extension": ".py",
   "mimetype": "text/x-python",
   "name": "python",
   "nbconvert_exporter": "python",
   "pygments_lexer": "ipython3",
   "version": "3.6.5"
  }
 },
 "nbformat": 4,
 "nbformat_minor": 2
}
