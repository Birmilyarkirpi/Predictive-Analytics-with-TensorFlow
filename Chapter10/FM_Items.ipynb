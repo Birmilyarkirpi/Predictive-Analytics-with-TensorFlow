{
 "cells": [
  {
   "cell_type": "code",
   "execution_count": 1,
   "metadata": {},
   "outputs": [],
   "source": [
    "import warnings\n",
    "\n",
    "warnings.filterwarnings(\"ignore\")"
   ]
  },
  {
   "cell_type": "code",
   "execution_count": 2,
   "metadata": {},
   "outputs": [],
   "source": [
    "import tensorflow as tf\n",
    "import pandas as pd\n",
    "from collections import Counter\n",
    "from tffm import TFFMClassifier\n",
    "from sklearn.metrics import mean_squared_error\n",
    "from sklearn.model_selection import train_test_split\n",
    "import numpy as np\n",
    "from sklearn.metrics import accuracy_score\n",
    "import os\n",
    "from tensorflow.python.framework import ops"
   ]
  },
  {
   "cell_type": "code",
   "execution_count": 3,
   "metadata": {},
   "outputs": [],
   "source": [
    "buys = open('yoochoose-buys.dat', 'r')\n",
    "clicks = open('yoochoose-clicks.dat', 'r')"
   ]
  },
  {
   "cell_type": "code",
   "execution_count": 4,
   "metadata": {},
   "outputs": [
    {
     "name": "stdout",
     "output_type": "stream",
     "text": [
      "Reading datasets...\n",
      "Preprocessing data..\n"
     ]
    }
   ],
   "source": [
    "print(\"Reading datasets...\")\n",
    "initial_buys_df = pd.read_csv(buys, names=['Session ID', 'Timestamp', 'Item ID', 'Category', 'Quantity'],\n",
    "                              dtype={'Session ID': 'float32', 'Timestamp': 'str', 'Item ID': 'int32',\n",
    "                                     'Category': 'str'}) \n",
    "\n",
    "initial_clicks_df = pd.read_csv(clicks, names=['Session ID', 'Timestamp', 'Item ID', 'Category'],\n",
    "                                dtype={'Item ID': 'int32','Category': 'str'})\n",
    "\n",
    "print(\"Preprocessing data..\")\n"
   ]
  },
  {
   "cell_type": "code",
   "execution_count": 5,
   "metadata": {},
   "outputs": [],
   "source": [
    "initial_buys_df.set_index('Session ID', inplace=True)\n",
    "initial_clicks_df.set_index('Session ID', inplace=True)"
   ]
  },
  {
   "cell_type": "code",
   "execution_count": 6,
   "metadata": {},
   "outputs": [],
   "source": [
    "initial_buys_df = initial_buys_df.drop('Timestamp', 1)\n",
    "initial_clicks_df = initial_clicks_df.drop('Timestamp', 1)"
   ]
  },
  {
   "cell_type": "code",
   "execution_count": 7,
   "metadata": {},
   "outputs": [],
   "source": [
    "x = Counter(initial_buys_df.index).most_common(10000) \n",
    "top_k = dict(x).keys()                                \n",
    "\n",
    "initial_buys_df = initial_buys_df[initial_buys_df.index.isin(top_k)]  \n",
    "initial_clicks_df = initial_clicks_df[initial_clicks_df.index.isin(top_k)]"
   ]
  },
  {
   "cell_type": "code",
   "execution_count": 8,
   "metadata": {},
   "outputs": [],
   "source": [
    "initial_buys_df['_Session ID'] = initial_buys_df.index\n"
   ]
  },
  {
   "cell_type": "code",
   "execution_count": 9,
   "metadata": {},
   "outputs": [],
   "source": [
    "transformed_buys = pd.get_dummies(initial_buys_df)\n",
    "transformed_clicks = pd.get_dummies(initial_clicks_df)"
   ]
  },
  {
   "cell_type": "code",
   "execution_count": 10,
   "metadata": {},
   "outputs": [],
   "source": [
    "filtered_buys = transformed_buys.filter(regex=\"Item.*|Category.*\")\n",
    "filtered_clicks = transformed_clicks.filter(regex=\"Item.*|Category.*\")\n",
    "historical_buy_data = filtered_buys.groupby(filtered_buys.index).sum()\n",
    "historical_buy_data = historical_buy_data.rename(columns=lambda column_name: 'buy history:' + column_name)\n",
    "historical_click_data = filtered_clicks.groupby(filtered_clicks.index).sum()\n",
    "historical_click_data = historical_click_data.rename(columns=lambda column_name: 'click history:' + column_name)"
   ]
  },
  {
   "cell_type": "code",
   "execution_count": 11,
   "metadata": {},
   "outputs": [],
   "source": [
    "merged1 = pd.merge(transformed_buys, historical_buy_data, left_index=True, right_index=True)\n",
    "merged2 = pd.merge(merged1, historical_click_data, left_index=True, right_index=True)"
   ]
  },
  {
   "cell_type": "code",
   "execution_count": 12,
   "metadata": {},
   "outputs": [],
   "source": [
    "y = np.array(merged2['Quantity'].as_matrix())"
   ]
  },
  {
   "cell_type": "code",
   "execution_count": 13,
   "metadata": {},
   "outputs": [],
   "source": [
    "for i in range(y.shape[0]):\n",
    "    if y[i]!=0:\n",
    "        y[i]=1\n",
    "    else:\n",
    "        y[i]=0"
   ]
  },
  {
   "cell_type": "code",
   "execution_count": 14,
   "metadata": {},
   "outputs": [],
   "source": [
    "X_tr, X_te, y_tr, y_te = train_test_split(merged2, y, test_size=0.2)"
   ]
  },
  {
   "cell_type": "code",
   "execution_count": 15,
   "metadata": {},
   "outputs": [],
   "source": [
    "X_te, X_te_cs, y_te, y_te_cs = train_test_split(X_te, y_te, test_size=0.5)"
   ]
  },
  {
   "cell_type": "code",
   "execution_count": 16,
   "metadata": {},
   "outputs": [],
   "source": [
    "test_x = pd.DataFrame(X_te, columns = ['Item ID'])\n",
    "test_x_cs = pd.DataFrame(X_te_cs, columns = ['Item ID'])"
   ]
  },
  {
   "cell_type": "code",
   "execution_count": 17,
   "metadata": {},
   "outputs": [],
   "source": [
    "X_tr.drop(['Item ID', '_Session ID', 'click history:Item ID', 'buy history:Item ID', 'Quantity'], 1, inplace=True)\n",
    "X_te.drop(['Item ID', '_Session ID', 'click history:Item ID', 'buy history:Item ID', 'Quantity'], 1, inplace=True)\n",
    "X_te_cs.drop(['Item ID', '_Session ID', 'click history:Item ID', 'buy history:Item ID', 'Quantity'], 1, inplace=True)"
   ]
  },
  {
   "cell_type": "code",
   "execution_count": 18,
   "metadata": {},
   "outputs": [],
   "source": [
    "ax_tr = np.array(X_tr)\n",
    "ax_te = np.array(X_te)\n",
    "ax_te_cs = np.array(X_te_cs)"
   ]
  },
  {
   "cell_type": "code",
   "execution_count": 19,
   "metadata": {},
   "outputs": [],
   "source": [
    "ax_tr = np.nan_to_num(ax_tr)\n",
    "ax_te = np.nan_to_num(ax_te)\n",
    "ax_te_cs = np.nan_to_num(ax_te_cs)"
   ]
  },
  {
   "cell_type": "code",
   "execution_count": 20,
   "metadata": {},
   "outputs": [],
   "source": [
    "model = TFFMClassifier(\n",
    "        order=2, \n",
    "        rank=7, \n",
    "        optimizer=tf.train.AdamOptimizer(learning_rate=0.001), \n",
    "        n_epochs=100, \n",
    "        batch_size=1024,\n",
    "        init_std=0.001,\n",
    "        reg=0.01,\n",
    "        input_type='dense',\n",
    "        log_dir = 'logs/',\n",
    "        verbose=1,\n",
    "        seed=12345\n",
    "    )"
   ]
  },
  {
   "cell_type": "code",
   "execution_count": 21,
   "metadata": {},
   "outputs": [],
   "source": [
    "cold_start = pd.DataFrame(ax_te_cs, columns=X_tr.columns)"
   ]
  },
  {
   "cell_type": "code",
   "execution_count": 22,
   "metadata": {},
   "outputs": [],
   "source": [
    "for column in cold_start.columns:\n",
    "    if ('buy' in column or 'click' in column) and ('Category' not in column):\n",
    "        cold_start[column] = 0"
   ]
  },
  {
   "cell_type": "code",
   "execution_count": 23,
   "metadata": {},
   "outputs": [
    {
     "name": "stdout",
     "output_type": "stream",
     "text": [
      "WARNING:tensorflow:Variable += will be deprecated. Use variable.assign_add if you want assignment to the variable value or 'x = x + y' if you want a new python Tensor object.\n",
      "Initialize logs, use: \n",
      "tensorboard --logdir=C:\\Users\\Test.PPMUMCPU0034\\Desktop\\Predictive Analytics\\Section 10\\logs\n"
     ]
    },
    {
     "name": "stderr",
     "output_type": "stream",
     "text": [
      "100%|████████████████████████████████████| 100/100 [08:02<00:00,  4.82s/epoch]\n"
     ]
    }
   ],
   "source": [
    "model.fit(ax_tr, y_tr, show_progress=True)"
   ]
  },
  {
   "cell_type": "code",
   "execution_count": 24,
   "metadata": {},
   "outputs": [
    {
     "name": "stdout",
     "output_type": "stream",
     "text": [
      "accuracy: 1.0\n",
      "Cold-start accuracy: 1.0\n"
     ]
    }
   ],
   "source": [
    "predictions = model.predict(ax_te)\n",
    "print('accuracy: {}'.format(accuracy_score(y_te, predictions)))\n",
    "\n",
    "cold_start_predictions = model.predict(ax_te_cs)\n",
    "print('Cold-start accuracy: {}'.format(accuracy_score(y_te_cs, cold_start_predictions)))"
   ]
  },
  {
   "cell_type": "code",
   "execution_count": 25,
   "metadata": {},
   "outputs": [],
   "source": [
    "test_x[\"Predicted\"] = predictions\n",
    "test_x_cs[\"Predicted\"] = cold_start_predictions"
   ]
  },
  {
   "cell_type": "code",
   "execution_count": 26,
   "metadata": {},
   "outputs": [
    {
     "name": "stdout",
     "output_type": "stream",
     "text": [
      "writing the results into .dat file....\n"
     ]
    }
   ],
   "source": [
    "sess = list(set(test_x.index))\n",
    "fout = open(\"solution.dat\", \"w\")\n",
    "print(\"writing the results into .dat file....\")\n",
    "for i in sess:\n",
    "    if test_x.loc[i][\"Predicted\"].any()!= 0:\n",
    "        fout.write(str(i)+\";\"+','.join(s for s in str(test_x.loc[i][\"Item ID\"].tolist()).strip('[]').split(','))+'\\n')\n",
    "\n",
    "fout.close()"
   ]
  },
  {
   "cell_type": "code",
   "execution_count": 27,
   "metadata": {},
   "outputs": [
    {
     "name": "stdout",
     "output_type": "stream",
     "text": [
      "writing the cold start results into .dat file....\n",
      "completed..!!\n"
     ]
    }
   ],
   "source": [
    "sess_cs = list(set(test_x_cs.index))\n",
    "fout = open(\"solution_cs.dat\", \"w\")\n",
    "print(\"writing the cold start results into .dat file....\")\n",
    "for i in sess_cs:\n",
    "    if test_x_cs.loc[i][\"Predicted\"].any()!= 0:\n",
    "        fout.write(str(i)+\";\"+','.join(s for s in str(test_x_cs.loc[i][\"Item ID\"].tolist()).strip('[]').split(','))+'\\n')\n",
    "\n",
    "fout.close()\n",
    "print(\"completed..!!\")"
   ]
  }
 ],
 "metadata": {
  "kernelspec": {
   "display_name": "Python 3",
   "language": "python",
   "name": "python3"
  },
  "language_info": {
   "codemirror_mode": {
    "name": "ipython",
    "version": 3
   },
   "file_extension": ".py",
   "mimetype": "text/x-python",
   "name": "python",
   "nbconvert_exporter": "python",
   "pygments_lexer": "ipython3",
   "version": "3.6.5"
  }
 },
 "nbformat": 4,
 "nbformat_minor": 2
}
