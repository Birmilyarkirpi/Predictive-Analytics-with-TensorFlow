{
 "cells": [
  {
   "cell_type": "code",
   "execution_count": 1,
   "metadata": {},
   "outputs": [],
   "source": [
    "import warnings\n",
    "warnings.filterwarnings(\"ignore\")"
   ]
  },
  {
   "cell_type": "code",
   "execution_count": 2,
   "metadata": {},
   "outputs": [],
   "source": [
    "from __future__ import print_function\n",
    "import tensorflow as tf\n",
    "from tensorflow.contrib import rnn\n",
    "import matplotlib.pyplot as plt\n",
    "import numpy as np\n",
    "from tensorflow.python.framework import ops\n",
    "import random\n",
    "import os"
   ]
  },
  {
   "cell_type": "code",
   "execution_count": 3,
   "metadata": {},
   "outputs": [
    {
     "name": "stdout",
     "output_type": "stream",
     "text": [
      "WARNING:tensorflow:From <ipython-input-3-c3d55fec490c>:2: read_data_sets (from tensorflow.contrib.learn.python.learn.datasets.mnist) is deprecated and will be removed in a future version.\n",
      "Instructions for updating:\n",
      "Please use alternatives such as official/mnist/dataset.py from tensorflow/models.\n",
      "WARNING:tensorflow:From C:\\ProgramData\\Anaconda3\\lib\\site-packages\\tensorflow\\contrib\\learn\\python\\learn\\datasets\\mnist.py:260: maybe_download (from tensorflow.contrib.learn.python.learn.datasets.base) is deprecated and will be removed in a future version.\n",
      "Instructions for updating:\n",
      "Please write your own downloading logic.\n",
      "WARNING:tensorflow:From C:\\ProgramData\\Anaconda3\\lib\\site-packages\\tensorflow\\contrib\\learn\\python\\learn\\datasets\\mnist.py:262: extract_images (from tensorflow.contrib.learn.python.learn.datasets.mnist) is deprecated and will be removed in a future version.\n",
      "Instructions for updating:\n",
      "Please use tf.data to implement this functionality.\n",
      "Extracting /tmp/data/train-images-idx3-ubyte.gz\n",
      "WARNING:tensorflow:From C:\\ProgramData\\Anaconda3\\lib\\site-packages\\tensorflow\\contrib\\learn\\python\\learn\\datasets\\mnist.py:267: extract_labels (from tensorflow.contrib.learn.python.learn.datasets.mnist) is deprecated and will be removed in a future version.\n",
      "Instructions for updating:\n",
      "Please use tf.data to implement this functionality.\n",
      "Extracting /tmp/data/train-labels-idx1-ubyte.gz\n",
      "WARNING:tensorflow:From C:\\ProgramData\\Anaconda3\\lib\\site-packages\\tensorflow\\contrib\\learn\\python\\learn\\datasets\\mnist.py:110: dense_to_one_hot (from tensorflow.contrib.learn.python.learn.datasets.mnist) is deprecated and will be removed in a future version.\n",
      "Instructions for updating:\n",
      "Please use tf.one_hot on tensors.\n",
      "Extracting /tmp/data/t10k-images-idx3-ubyte.gz\n",
      "Extracting /tmp/data/t10k-labels-idx1-ubyte.gz\n",
      "WARNING:tensorflow:From C:\\ProgramData\\Anaconda3\\lib\\site-packages\\tensorflow\\contrib\\learn\\python\\learn\\datasets\\mnist.py:290: DataSet.__init__ (from tensorflow.contrib.learn.python.learn.datasets.mnist) is deprecated and will be removed in a future version.\n",
      "Instructions for updating:\n",
      "Please use alternatives such as official/mnist/dataset.py from tensorflow/models.\n"
     ]
    }
   ],
   "source": [
    "from tensorflow.examples.tutorials.mnist import input_data\n",
    "mnist = input_data.read_data_sets(\"/tmp/data/\", one_hot=True)"
   ]
  },
  {
   "cell_type": "code",
   "execution_count": 4,
   "metadata": {},
   "outputs": [],
   "source": [
    "learning_rate = 0.001\n",
    "training_steps = 10000\n",
    "batch_size = 256\n",
    "display_step = 200"
   ]
  },
  {
   "cell_type": "code",
   "execution_count": 5,
   "metadata": {},
   "outputs": [],
   "source": [
    "num_input = 28 \n",
    "timesteps = 28 \n",
    "num_hidden = 128 \n",
    "num_classes = 10"
   ]
  },
  {
   "cell_type": "code",
   "execution_count": 6,
   "metadata": {},
   "outputs": [],
   "source": [
    "X = tf.placeholder(\"float\", [None, timesteps, num_input])\n",
    "Y = tf.placeholder(\"float\", [None, num_classes])"
   ]
  },
  {
   "cell_type": "code",
   "execution_count": 7,
   "metadata": {},
   "outputs": [],
   "source": [
    "weights = {\n",
    "    'out': tf.Variable(tf.random_normal([2*num_hidden, num_classes]))\n",
    "}"
   ]
  },
  {
   "cell_type": "code",
   "execution_count": 8,
   "metadata": {},
   "outputs": [],
   "source": [
    "biases = {\n",
    "    'out': tf.Variable(tf.random_normal([num_classes]))\n",
    "}"
   ]
  },
  {
   "cell_type": "code",
   "execution_count": 9,
   "metadata": {},
   "outputs": [],
   "source": [
    "def BiRNN(x, weights, biases):\n",
    "    x = tf.transpose(x, [1, 0, 2])\n",
    "    x = tf.reshape(x, [-1, num_input])\n",
    "    x = tf.split(axis=0, num_or_size_splits=timesteps, value=x)\n",
    "    lstm_fw_cell = rnn.BasicLSTMCell(num_hidden, forget_bias=1.0)\n",
    "    lstm_bw_cell = rnn.BasicLSTMCell(num_hidden, forget_bias=1.0)\n",
    "\n",
    "    try:\n",
    "        outputs, _, _ = rnn.static_bidirectional_rnn(lstm_fw_cell, lstm_bw_cell, x,\n",
    "                                              dtype=tf.float32)\n",
    "    except Exception: \n",
    "        outputs = rnn.static_bidirectional_rnn(lstm_fw_cell, lstm_bw_cell, x,\n",
    "                                        dtype=tf.float32)\n",
    "    return tf.matmul(outputs[-1], weights['out']) + biases['out']\n"
   ]
  },
  {
   "cell_type": "code",
   "execution_count": 10,
   "metadata": {},
   "outputs": [],
   "source": [
    "logits = BiRNN(X, weights, biases)\n",
    "prediction = tf.nn.softmax(logits)"
   ]
  },
  {
   "cell_type": "code",
   "execution_count": 11,
   "metadata": {},
   "outputs": [
    {
     "name": "stdout",
     "output_type": "stream",
     "text": [
      "WARNING:tensorflow:From <ipython-input-11-8745bd9410de>:1: softmax_cross_entropy_with_logits (from tensorflow.python.ops.nn_ops) is deprecated and will be removed in a future version.\n",
      "Instructions for updating:\n",
      "\n",
      "Future major versions of TensorFlow will allow gradients to flow\n",
      "into the labels input on backprop by default.\n",
      "\n",
      "See @{tf.nn.softmax_cross_entropy_with_logits_v2}.\n",
      "\n"
     ]
    }
   ],
   "source": [
    "loss_op = tf.reduce_mean(tf.nn.softmax_cross_entropy_with_logits(logits=logits, labels=Y))"
   ]
  },
  {
   "cell_type": "code",
   "execution_count": 12,
   "metadata": {},
   "outputs": [],
   "source": [
    "optimizer = tf.train.AdamOptimizer(learning_rate=learning_rate)\n",
    "train_op = optimizer.minimize(loss_op)"
   ]
  },
  {
   "cell_type": "code",
   "execution_count": 13,
   "metadata": {},
   "outputs": [],
   "source": [
    "correct_pred = tf.equal(tf.argmax(prediction, 1), tf.argmax(Y, 1))\n",
    "accuracy = tf.reduce_mean(tf.cast(correct_pred, tf.float32))"
   ]
  },
  {
   "cell_type": "code",
   "execution_count": 14,
   "metadata": {},
   "outputs": [],
   "source": [
    "init_op = tf.global_variables_initializer()"
   ]
  },
  {
   "cell_type": "code",
   "execution_count": 15,
   "metadata": {},
   "outputs": [],
   "source": [
    "loss_list = []\n",
    "accuracy_list = []\n",
    "step_list = []"
   ]
  },
  {
   "cell_type": "code",
   "execution_count": 16,
   "metadata": {},
   "outputs": [
    {
     "name": "stdout",
     "output_type": "stream",
     "text": [
      "Optimization started!\n",
      "Step 1, Minibatch Loss= 2.5016, Training Accuracy= 0.211\n",
      "Step 200, Minibatch Loss= 0.2118, Training Accuracy= 0.910\n",
      "Step 400, Minibatch Loss= 0.0755, Training Accuracy= 0.980\n",
      "Step 600, Minibatch Loss= 0.0805, Training Accuracy= 0.973\n",
      "Step 800, Minibatch Loss= 0.0833, Training Accuracy= 0.980\n",
      "Step 1000, Minibatch Loss= 0.0497, Training Accuracy= 0.988\n",
      "Step 1200, Minibatch Loss= 0.0462, Training Accuracy= 0.984\n",
      "Step 1400, Minibatch Loss= 0.0388, Training Accuracy= 0.984\n",
      "Step 1600, Minibatch Loss= 0.0655, Training Accuracy= 0.965\n",
      "Step 1800, Minibatch Loss= 0.0441, Training Accuracy= 0.984\n",
      "Step 2000, Minibatch Loss= 0.0137, Training Accuracy= 0.996\n",
      "Step 2200, Minibatch Loss= 0.0320, Training Accuracy= 0.988\n",
      "Step 2400, Minibatch Loss= 0.0053, Training Accuracy= 1.000\n",
      "Step 2600, Minibatch Loss= 0.0132, Training Accuracy= 0.992\n",
      "Step 2800, Minibatch Loss= 0.0166, Training Accuracy= 0.996\n",
      "Step 3000, Minibatch Loss= 0.0487, Training Accuracy= 0.984\n",
      "Step 3200, Minibatch Loss= 0.0093, Training Accuracy= 0.996\n",
      "Step 3400, Minibatch Loss= 0.0148, Training Accuracy= 0.992\n",
      "Step 3600, Minibatch Loss= 0.0120, Training Accuracy= 0.996\n",
      "Step 3800, Minibatch Loss= 0.0154, Training Accuracy= 0.996\n",
      "Step 4000, Minibatch Loss= 0.0049, Training Accuracy= 1.000\n",
      "Step 4200, Minibatch Loss= 0.0034, Training Accuracy= 1.000\n",
      "Step 4400, Minibatch Loss= 0.0031, Training Accuracy= 1.000\n",
      "Step 4600, Minibatch Loss= 0.0101, Training Accuracy= 0.996\n",
      "Step 4800, Minibatch Loss= 0.0015, Training Accuracy= 1.000\n",
      "Step 5000, Minibatch Loss= 0.0025, Training Accuracy= 1.000\n",
      "Step 5200, Minibatch Loss= 0.0067, Training Accuracy= 1.000\n",
      "Step 5400, Minibatch Loss= 0.0163, Training Accuracy= 0.996\n",
      "Step 5600, Minibatch Loss= 0.0005, Training Accuracy= 1.000\n",
      "Step 5800, Minibatch Loss= 0.0093, Training Accuracy= 0.996\n",
      "Step 6000, Minibatch Loss= 0.0022, Training Accuracy= 1.000\n",
      "Step 6200, Minibatch Loss= 0.0345, Training Accuracy= 0.988\n",
      "Step 6400, Minibatch Loss= 0.0004, Training Accuracy= 1.000\n",
      "Step 6600, Minibatch Loss= 0.0011, Training Accuracy= 1.000\n",
      "Step 6800, Minibatch Loss= 0.0016, Training Accuracy= 1.000\n",
      "Step 7000, Minibatch Loss= 0.0078, Training Accuracy= 1.000\n",
      "Step 7200, Minibatch Loss= 0.0016, Training Accuracy= 1.000\n",
      "Step 7400, Minibatch Loss= 0.0261, Training Accuracy= 0.992\n",
      "Step 7600, Minibatch Loss= 0.0015, Training Accuracy= 1.000\n",
      "Step 7800, Minibatch Loss= 0.0090, Training Accuracy= 0.996\n",
      "Step 8000, Minibatch Loss= 0.0010, Training Accuracy= 1.000\n",
      "Step 8200, Minibatch Loss= 0.0047, Training Accuracy= 1.000\n",
      "Step 8400, Minibatch Loss= 0.0033, Training Accuracy= 1.000\n",
      "Step 8600, Minibatch Loss= 0.0005, Training Accuracy= 1.000\n",
      "Step 8800, Minibatch Loss= 0.0007, Training Accuracy= 1.000\n",
      "Step 9000, Minibatch Loss= 0.0048, Training Accuracy= 0.996\n",
      "Step 9200, Minibatch Loss= 0.0004, Training Accuracy= 1.000\n",
      "Step 9400, Minibatch Loss= 0.0001, Training Accuracy= 1.000\n",
      "Step 9600, Minibatch Loss= 0.0021, Training Accuracy= 1.000\n",
      "Step 9800, Minibatch Loss= 0.0008, Training Accuracy= 1.000\n",
      "Step 10000, Minibatch Loss= 0.0009, Training Accuracy= 1.000\n",
      "Optimization Finished!\n",
      "Testing Accuracy: 0.984375\n"
     ]
    }
   ],
   "source": [
    "with tf.Session() as sess:\n",
    "    sess.run(init_op)\n",
    "    print(\"Optimization started!\")\n",
    "    for step in range(1, training_steps+1):\n",
    "        batch_x, batch_y = mnist.train.next_batch(batch_size)\n",
    "        batch_x = batch_x.reshape((batch_size, timesteps, num_input))\n",
    "        sess.run(train_op, feed_dict={X: batch_x, Y: batch_y})\n",
    "        if step % display_step == 0 or step == 1:\n",
    "            loss, acc = sess.run([loss_op, accuracy], feed_dict={X: batch_x, Y: batch_y})\n",
    "            print(\"Step \" + str(step) + \", Minibatch Loss= \" + \\\n",
    "                  \"{:.4f}\".format(loss) + \", Training Accuracy= \" + \\\n",
    "                  \"{:.3f}\".format(acc))\n",
    "            loss_list.append(loss)\n",
    "            accuracy_list.append(acc)\n",
    "            step_list.append(step)\n",
    "    print(\"Optimization Finished!\")\n",
    "    test_len = 128\n",
    "    test_data = mnist.test.images[:test_len].reshape((-1, timesteps, num_input))\n",
    "    test_label = mnist.test.labels[:test_len]\n",
    "    print(\"Testing Accuracy:\", \\\n",
    "        sess.run(accuracy, feed_dict={X: test_data, Y: test_label}))\n"
   ]
  },
  {
   "cell_type": "code",
   "execution_count": 17,
   "metadata": {},
   "outputs": [
    {
     "data": {
      "image/png": "[encoded data removed]",
      "text/plain": [
       "<Figure size 432x288 with 1 Axes>"
      ]
     },
     "metadata": {},
     "output_type": "display_data"
    }
   ],
   "source": [
    "plt.plot(step_list, loss_list, 'r--', label='BRNN minibatch loss per iteration', linewidth=4)\n",
    "plt.title('BRNN minibatch loss per iteration')\n",
    "plt.xlabel('Iteration')\n",
    "plt.ylabel('BRNN minibatch loss')\n",
    "plt.legend(loc='upper right')\n",
    "plt.show()"
   ]
  },
  {
   "cell_type": "code",
   "execution_count": 18,
   "metadata": {},
   "outputs": [
    {
     "data": {
      "image/png": "[encoded data removed]",
      "text/plain": [
       "<Figure size 432x288 with 1 Axes>"
      ]
     },
     "metadata": {},
     "output_type": "display_data"
    }
   ],
   "source": [
    "plt.plot(step_list, accuracy_list, 'r--', label='BRNN training accuracy per iteration', linewidth=4)\n",
    "plt.title('BRNN training accuracy per iteration')\n",
    "plt.xlabel('Iteration')\n",
    "plt.ylabel('BRNN training accuracy')\n",
    "plt.legend(loc='upper left')\n",
    "plt.show()"
   ]
  },
  {
   "cell_type": "code",
   "execution_count": null,
   "metadata": {},
   "outputs": [],
   "source": []
  }
 ],
 "metadata": {
  "kernelspec": {
   "display_name": "Python 3",
   "language": "python",
   "name": "python3"
  },
  "language_info": {
   "codemirror_mode": {
    "name": "ipython",
    "version": 3
   },
   "file_extension": ".py",
   "mimetype": "text/x-python",
   "name": "python",
   "nbconvert_exporter": "python",
   "pygments_lexer": "ipython3",
   "version": "3.6.5"
  }
 },
 "nbformat": 4,
 "nbformat_minor": 2
}
