{
 "cells": [
  {
   "cell_type": "markdown",
   "metadata": {},
   "source": [
    "Vectors"
   ]
  },
  {
   "cell_type": "code",
   "execution_count": 1,
   "metadata": {},
   "outputs": [],
   "source": [
    "import numpy as np\n",
    "from vectors import Point, Vector\n",
    "import functools\n",
    "\n",
    "v1 = Vector(1, 2, 3)\n",
    "v2 = Vector(10, 20, 30)"
   ]
  },
  {
   "cell_type": "code",
   "execution_count": 2,
   "metadata": {},
   "outputs": [
    {
     "name": "stdout",
     "output_type": "stream",
     "text": [
      "Vector(11.0, 12.0, 13.0)\n"
     ]
    }
   ],
   "source": [
    "print(v1.add(10))"
   ]
  },
  {
   "cell_type": "code",
   "execution_count": 3,
   "metadata": {},
   "outputs": [
    {
     "name": "stdout",
     "output_type": "stream",
     "text": [
      "Vector(11.0, 22.0, 33.0)\n"
     ]
    }
   ],
   "source": [
    "print(v1.sum(v2))"
   ]
  },
  {
   "cell_type": "code",
   "execution_count": 4,
   "metadata": {},
   "outputs": [
    {
     "name": "stdout",
     "output_type": "stream",
     "text": [
      "Vector(4.0, 8.0, 12.0)\n"
     ]
    }
   ],
   "source": [
    "print(v1.multiply(4))"
   ]
  },
  {
   "cell_type": "code",
   "execution_count": 5,
   "metadata": {},
   "outputs": [
    {
     "data": {
      "text/plain": [
       "Vector(0, 0, 0)"
      ]
     },
     "execution_count": 5,
     "metadata": {},
     "output_type": "execute_result"
    }
   ],
   "source": [
    "v1.cross(v2)"
   ]
  },
  {
   "cell_type": "markdown",
   "metadata": {},
   "source": [
    "Matrices"
   ]
  },
  {
   "cell_type": "code",
   "execution_count": 6,
   "metadata": {},
   "outputs": [],
   "source": [
    "import numpy as np\n",
    "A = np.matrix(\n",
    " [[3, 2],\n",
    " [4, 6]])\n",
    "B = np.matrix(\n",
    " [[1, 4],\n",
    " [2, 0]])"
   ]
  },
  {
   "cell_type": "code",
   "execution_count": 7,
   "metadata": {},
   "outputs": [
    {
     "name": "stdout",
     "output_type": "stream",
     "text": [
      "[[4 6]\n",
      " [6 6]]\n"
     ]
    }
   ],
   "source": [
    "C = A + B\n",
    "print(C)"
   ]
  },
  {
   "cell_type": "code",
   "execution_count": 8,
   "metadata": {},
   "outputs": [
    {
     "name": "stdout",
     "output_type": "stream",
     "text": [
      "[[-6 13]\n",
      " [-2  3]]\n"
     ]
    }
   ],
   "source": [
    "import numpy as np\n",
    "A = np.matrix(\n",
    "    [[1, 4],\n",
    "     [2, 9]])\n",
    "\n",
    "B = np.matrix(\n",
    "    [[7, -9],\n",
    "     [4, 6]])\n",
    "\n",
    "C = A - B\n",
    "print(C)"
   ]
  },
  {
   "cell_type": "code",
   "execution_count": 9,
   "metadata": {},
   "outputs": [],
   "source": [
    "import numpy as np\n",
    "A = np.matrix(\n",
    "    [[1, 4],\n",
    "     [2, 0]])\n",
    "\n",
    "B = np.matrix(\n",
    "    [[3, 2],\n",
    "     [4, 6]])"
   ]
  },
  {
   "cell_type": "code",
   "execution_count": 10,
   "metadata": {},
   "outputs": [
    {
     "name": "stdout",
     "output_type": "stream",
     "text": [
      "[[19 26]\n",
      " [ 6  4]]\n"
     ]
    }
   ],
   "source": [
    "C = A * B\n",
    "print(C)"
   ]
  },
  {
   "cell_type": "code",
   "execution_count": 11,
   "metadata": {},
   "outputs": [
    {
     "name": "stdout",
     "output_type": "stream",
     "text": [
      "[[ 9 12]\n",
      " [10  8]]\n"
     ]
    }
   ],
   "source": [
    "B = A + 8\n",
    "print(B)"
   ]
  },
  {
   "cell_type": "code",
   "execution_count": 12,
   "metadata": {},
   "outputs": [
    {
     "name": "stdout",
     "output_type": "stream",
     "text": [
      "10.000000000000002\n"
     ]
    }
   ],
   "source": [
    "A = np.matrix(\n",
    " [[3, 2],\n",
    " [4, 6]])\n",
    "deter = np.linalg.det(A)\n",
    "print(deter)"
   ]
  },
  {
   "cell_type": "code",
   "execution_count": 13,
   "metadata": {},
   "outputs": [
    {
     "name": "stdout",
     "output_type": "stream",
     "text": [
      "[[3 2 5]\n",
      " [6 7 8]\n",
      " [7 9 6]]\n"
     ]
    }
   ],
   "source": [
    "import numpy as np\n",
    "matrix = np.matrix(\n",
    "    [[3, 6, 7],\n",
    "     [2, 7, 9],\n",
    "     [5, 8, 6]])\n",
    "\n",
    "transpose = np.transpose(matrix)\n",
    "print(transpose)"
   ]
  },
  {
   "cell_type": "code",
   "execution_count": 14,
   "metadata": {},
   "outputs": [
    {
     "name": "stdout",
     "output_type": "stream",
     "text": [
      "[[ 1.2  -0.8  -0.2 ]\n",
      " [-1.32  0.68  0.52]\n",
      " [ 0.76 -0.24 -0.36]]\n"
     ]
    }
   ],
   "source": [
    "matrix = np.matrix(\n",
    "    [[3, 6, 7],\n",
    "     [2, 7, 9],\n",
    "     [5, 8, 6]])\n",
    "\n",
    "inverse = np.linalg.inv(matrix)\n",
    "print(inverse)"
   ]
  },
  {
   "cell_type": "markdown",
   "metadata": {},
   "source": [
    "Solving simultaneous linear equations"
   ]
  },
  {
   "cell_type": "code",
   "execution_count": 15,
   "metadata": {},
   "outputs": [],
   "source": [
    "A = np.matrix(\n",
    " [[1, 4],\n",
    " [2, 0]])\n",
    "\n",
    "B = np.matrix(\n",
    " [[3, 2],\n",
    " [4, 6]])"
   ]
  },
  {
   "cell_type": "code",
   "execution_count": 16,
   "metadata": {},
   "outputs": [
    {
     "name": "stdout",
     "output_type": "stream",
     "text": [
      "[[ 2.    3.  ]\n",
      " [ 0.25 -0.25]]\n"
     ]
    }
   ],
   "source": [
    "X = np.linalg.solve(A, B)\n",
    "print(X)"
   ]
  },
  {
   "cell_type": "markdown",
   "metadata": {},
   "source": [
    "Eigenvalues and eigenvectors"
   ]
  },
  {
   "cell_type": "code",
   "execution_count": 17,
   "metadata": {},
   "outputs": [
    {
     "name": "stdout",
     "output_type": "stream",
     "text": [
      "(array([18.03062661,  0.53948277, -2.57010939]), matrix([[-0.52213277, -0.69701957, -0.23035157],\n",
      "        [-0.59400273,  0.64684805, -0.6406727 ],\n",
      "        [-0.6119952 , -0.3094371 ,  0.73244566]]))\n"
     ]
    }
   ],
   "source": [
    "matrix = np.matrix(\n",
    "    [[3, 6, 7],\n",
    "     [2, 7, 9],\n",
    "     [5, 8, 6]])\n",
    "\n",
    "eigvals = np.linalg.eig(matrix)\n",
    "print(eigvals)"
   ]
  },
  {
   "cell_type": "code",
   "execution_count": null,
   "metadata": {},
   "outputs": [],
   "source": []
  }
 ],
 "metadata": {
  "kernelspec": {
   "display_name": "Python 3",
   "language": "python",
   "name": "python3"
  },
  "language_info": {
   "codemirror_mode": {
    "name": "ipython",
    "version": 3
   },
   "file_extension": ".py",
   "mimetype": "text/x-python",
   "name": "python",
   "nbconvert_exporter": "python",
   "pygments_lexer": "ipython3",
   "version": "3.6.5"
  }
 },
 "nbformat": 4,
 "nbformat_minor": 2
}
