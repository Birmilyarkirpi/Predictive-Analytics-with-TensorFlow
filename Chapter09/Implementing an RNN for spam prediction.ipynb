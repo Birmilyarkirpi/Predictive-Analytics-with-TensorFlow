{
 "cells": [
  {
   "cell_type": "code",
   "execution_count": 1,
   "metadata": {},
   "outputs": [],
   "source": [
    "import warnings\n",
    "warnings.filterwarnings(\"ignore\")"
   ]
  },
  {
   "cell_type": "code",
   "execution_count": 2,
   "metadata": {},
   "outputs": [],
   "source": [
    "import os\n",
    "import re\n",
    "import io\n",
    "import requests\n",
    "import numpy as np\n",
    "import matplotlib.pyplot as plt\n",
    "import tensorflow as tf\n",
    "from zipfile import ZipFile\n",
    "from tensorflow.python.framework import ops"
   ]
  },
  {
   "cell_type": "code",
   "execution_count": 3,
   "metadata": {},
   "outputs": [],
   "source": [
    "sess = tf.Session()"
   ]
  },
  {
   "cell_type": "code",
   "execution_count": 4,
   "metadata": {},
   "outputs": [],
   "source": [
    "epochs = 300\n",
    "batch_size = 250\n",
    "max_sequence_length = 25\n",
    "rnn_size = 10\n",
    "embedding_size = 50\n",
    "min_word_frequency = 10\n",
    "learning_rate = 0.0001\n",
    "dropout_keep_prob = tf.placeholder(tf.float32)"
   ]
  },
  {
   "cell_type": "code",
   "execution_count": 5,
   "metadata": {},
   "outputs": [],
   "source": [
    "data_dir = 'temp'\n",
    "data_file = 'text_data.txt'\n",
    "if not os.path.exists(data_dir):\n",
    "    os.makedirs(data_dir)"
   ]
  },
  {
   "cell_type": "code",
   "execution_count": 6,
   "metadata": {},
   "outputs": [],
   "source": [
    "if not os.path.isfile(os.path.join(data_dir, data_file)):\n",
    "    zip_url = 'http://archive.ics.uci.edu/ml/machine-learning-databases/00228/smsspamcollection.zip'\n",
    "    r = requests.get(zip_url)\n",
    "    z = ZipFile(io.BytesIO(r.content))\n",
    "    file = z.read('SMSSpamCollection')\n",
    "    \n",
    "    text_data = file.decode()\n",
    "    text_data = text_data.encode('ascii',errors='ignore')\n",
    "    text_data = text_data.decode().split('\\n')\n",
    "\n",
    "    \n",
    "    with open(os.path.join(data_dir, data_file), 'w') as file_conn:\n",
    "        for text in text_data:\n",
    "            file_conn.write(\"{}\\n\".format(text))\n",
    "else:\n",
    "    \n",
    "    text_data = []\n",
    "    with open(os.path.join(data_dir, data_file), 'r') as file_conn:\n",
    "        for row in file_conn:\n",
    "            text_data.append(row)\n",
    "    text_data = text_data[:-1]"
   ]
  },
  {
   "cell_type": "code",
   "execution_count": 7,
   "metadata": {},
   "outputs": [],
   "source": [
    "text_data = [x.split('\\t') for x in text_data if len(x)>=1]\n",
    "[text_data_target, text_data_train] = [list(x) for x in zip(*text_data)]"
   ]
  },
  {
   "cell_type": "code",
   "execution_count": 8,
   "metadata": {},
   "outputs": [],
   "source": [
    "def clean_text(text_string):\n",
    " text_string = re.sub(r'([^\\s\\w]|_|[0-9])+', '', text_string)\n",
    " text_string = \" \".join(text_string.split())\n",
    " text_string = text_string.lower()\n",
    " return(text_string)"
   ]
  },
  {
   "cell_type": "code",
   "execution_count": 9,
   "metadata": {},
   "outputs": [],
   "source": [
    "text_data_train = [clean_text(x) for x in text_data_train]"
   ]
  },
  {
   "cell_type": "code",
   "execution_count": 10,
   "metadata": {},
   "outputs": [
    {
     "name": "stdout",
     "output_type": "stream",
     "text": [
      "WARNING:tensorflow:From <ipython-input-10-56f86c8d0845>:1: VocabularyProcessor.__init__ (from tensorflow.contrib.learn.python.learn.preprocessing.text) is deprecated and will be removed in a future version.\n",
      "Instructions for updating:\n",
      "Please use tensorflow/transform or tf.data.\n",
      "WARNING:tensorflow:From C:\\ProgramData\\Anaconda3\\lib\\site-packages\\tensorflow\\contrib\\learn\\python\\learn\\preprocessing\\text.py:154: CategoricalVocabulary.__init__ (from tensorflow.contrib.learn.python.learn.preprocessing.categorical_vocabulary) is deprecated and will be removed in a future version.\n",
      "Instructions for updating:\n",
      "Please use tensorflow/transform or tf.data.\n",
      "WARNING:tensorflow:From C:\\ProgramData\\Anaconda3\\lib\\site-packages\\tensorflow\\contrib\\learn\\python\\learn\\preprocessing\\text.py:170: tokenizer (from tensorflow.contrib.learn.python.learn.preprocessing.text) is deprecated and will be removed in a future version.\n",
      "Instructions for updating:\n",
      "Please use tensorflow/transform or tf.data.\n"
     ]
    }
   ],
   "source": [
    "vocab_processor = tf.contrib.learn.preprocessing.VocabularyProcessor(max_sequence_length, min_frequency=min_word_frequency)\n",
    "text_processed = np.array(list(vocab_processor.fit_transform(text_data_train)))"
   ]
  },
  {
   "cell_type": "code",
   "execution_count": 11,
   "metadata": {},
   "outputs": [],
   "source": [
    "text_processed = np.array(text_processed)\n",
    "text_data_target = np.array([1 if x=='ham' else 0 for x in text_data_target])\n",
    "shuffled_ix = np.random.permutation(np.arange(len(text_data_target)))\n",
    "x_shuffled = text_processed[shuffled_ix]\n",
    "y_shuffled = text_data_target[shuffled_ix]"
   ]
  },
  {
   "cell_type": "code",
   "execution_count": 12,
   "metadata": {},
   "outputs": [
    {
     "name": "stdout",
     "output_type": "stream",
     "text": [
      "Vocabulary size: 933\n",
      "Training set size: 4180\n",
      "Test set size: 1394\n"
     ]
    }
   ],
   "source": [
    "ix_cutoff = int(len(y_shuffled)*0.75)\n",
    "x_train, x_test = x_shuffled[:ix_cutoff], x_shuffled[ix_cutoff:]\n",
    "y_train, y_test = y_shuffled[:ix_cutoff], y_shuffled[ix_cutoff:]\n",
    "vocab_size = len(vocab_processor.vocabulary_)\n",
    "print(\"Vocabulary size: {:d}\".format(vocab_size))\n",
    "print(\"Training set size: {:d}\".format(len(y_train)))\n",
    "print(\"Test set size: {:d}\".format(len(y_test)))"
   ]
  },
  {
   "cell_type": "code",
   "execution_count": 13,
   "metadata": {},
   "outputs": [],
   "source": [
    "x_data = tf.placeholder(tf.int32, [None, max_sequence_length])\n",
    "y_output = tf.placeholder(tf.int32, [None])"
   ]
  },
  {
   "cell_type": "code",
   "execution_count": 14,
   "metadata": {},
   "outputs": [],
   "source": [
    "embedding_mat = tf.Variable(tf.random_uniform([vocab_size, embedding_size], -1.0, 1.0))\n",
    "embedding_output = tf.nn.embedding_lookup(embedding_mat, x_data)"
   ]
  },
  {
   "cell_type": "code",
   "execution_count": 15,
   "metadata": {},
   "outputs": [],
   "source": [
    "cell = tf.nn.rnn_cell.BasicRNNCell(num_units = rnn_size)\n",
    "output, state = tf.nn.dynamic_rnn(cell, embedding_output, dtype=tf.float32)\n",
    "output = tf.nn.dropout(output, dropout_keep_prob)\n",
    "output = tf.transpose(output, [1, 0, 2])\n",
    "last = tf.gather(output, int(output.get_shape()[0]) - 1)"
   ]
  },
  {
   "cell_type": "code",
   "execution_count": 16,
   "metadata": {},
   "outputs": [],
   "source": [
    "weight = tf.Variable(tf.truncated_normal([rnn_size, 2], stddev=0.1))\n",
    "bias = tf.Variable(tf.constant(0.1, shape=[2]))\n",
    "logits_out = tf.nn.softmax(tf.matmul(last, weight) + bias)"
   ]
  },
  {
   "cell_type": "code",
   "execution_count": 17,
   "metadata": {},
   "outputs": [],
   "source": [
    "losses = tf.nn.sparse_softmax_cross_entropy_with_logits(logits=logits_out, labels=y_output)\n",
    "loss = tf.reduce_mean(losses)"
   ]
  },
  {
   "cell_type": "code",
   "execution_count": 18,
   "metadata": {},
   "outputs": [],
   "source": [
    "accuracy = tf.reduce_mean(tf.cast(tf.equal(tf.argmax(logits_out, 1), tf.cast(y_output, tf.int64)), tf.float32))"
   ]
  },
  {
   "cell_type": "code",
   "execution_count": 19,
   "metadata": {},
   "outputs": [],
   "source": [
    "optimizer = tf.train.RMSPropOptimizer(learning_rate)\n",
    "train_step = optimizer.minimize(loss)"
   ]
  },
  {
   "cell_type": "code",
   "execution_count": 20,
   "metadata": {},
   "outputs": [],
   "source": [
    "init_op = tf.global_variables_initializer()\n",
    "sess.run(init_op)"
   ]
  },
  {
   "cell_type": "code",
   "execution_count": 21,
   "metadata": {},
   "outputs": [],
   "source": [
    "train_loss = []\n",
    "test_loss = []\n",
    "train_accuracy = []\n",
    "test_accuracy = []"
   ]
  },
  {
   "cell_type": "code",
   "execution_count": 22,
   "metadata": {},
   "outputs": [
    {
     "name": "stdout",
     "output_type": "stream",
     "text": [
      "Epoch: 1, Test Loss: 0.7, Test Acc: 0.18\n",
      "Epoch: 2, Test Loss: 0.7, Test Acc: 0.18\n",
      "Epoch: 3, Test Loss: 0.69, Test Acc: 0.81\n",
      "Epoch: 4, Test Loss: 0.69, Test Acc: 0.82\n",
      "Epoch: 5, Test Loss: 0.68, Test Acc: 0.82\n",
      "Epoch: 6, Test Loss: 0.67, Test Acc: 0.82\n",
      "Epoch: 7, Test Loss: 0.66, Test Acc: 0.82\n",
      "Epoch: 8, Test Loss: 0.65, Test Acc: 0.82\n",
      "Epoch: 9, Test Loss: 0.65, Test Acc: 0.82\n",
      "Epoch: 10, Test Loss: 0.64, Test Acc: 0.82\n",
      "Epoch: 11, Test Loss: 0.63, Test Acc: 0.83\n",
      "Epoch: 12, Test Loss: 0.62, Test Acc: 0.83\n",
      "Epoch: 13, Test Loss: 0.61, Test Acc: 0.83\n",
      "Epoch: 14, Test Loss: 0.61, Test Acc: 0.83\n",
      "Epoch: 15, Test Loss: 0.6, Test Acc: 0.83\n",
      "Epoch: 16, Test Loss: 0.59, Test Acc: 0.83\n",
      "Epoch: 17, Test Loss: 0.59, Test Acc: 0.84\n",
      "Epoch: 18, Test Loss: 0.58, Test Acc: 0.84\n",
      "Epoch: 19, Test Loss: 0.58, Test Acc: 0.84\n",
      "Epoch: 20, Test Loss: 0.57, Test Acc: 0.84\n",
      "Epoch: 21, Test Loss: 0.57, Test Acc: 0.84\n",
      "Epoch: 22, Test Loss: 0.56, Test Acc: 0.84\n",
      "Epoch: 23, Test Loss: 0.56, Test Acc: 0.84\n",
      "Epoch: 24, Test Loss: 0.55, Test Acc: 0.84\n",
      "Epoch: 25, Test Loss: 0.55, Test Acc: 0.84\n",
      "Epoch: 26, Test Loss: 0.55, Test Acc: 0.84\n",
      "Epoch: 27, Test Loss: 0.54, Test Acc: 0.84\n",
      "Epoch: 28, Test Loss: 0.54, Test Acc: 0.84\n",
      "Epoch: 29, Test Loss: 0.53, Test Acc: 0.84\n",
      "Epoch: 30, Test Loss: 0.53, Test Acc: 0.84\n",
      "Epoch: 31, Test Loss: 0.53, Test Acc: 0.84\n",
      "Epoch: 32, Test Loss: 0.53, Test Acc: 0.84\n",
      "Epoch: 33, Test Loss: 0.52, Test Acc: 0.85\n",
      "Epoch: 34, Test Loss: 0.52, Test Acc: 0.85\n",
      "Epoch: 35, Test Loss: 0.52, Test Acc: 0.85\n",
      "Epoch: 36, Test Loss: 0.51, Test Acc: 0.85\n",
      "Epoch: 37, Test Loss: 0.51, Test Acc: 0.85\n",
      "Epoch: 38, Test Loss: 0.51, Test Acc: 0.85\n",
      "Epoch: 39, Test Loss: 0.51, Test Acc: 0.85\n",
      "Epoch: 40, Test Loss: 0.51, Test Acc: 0.85\n",
      "Epoch: 41, Test Loss: 0.5, Test Acc: 0.85\n",
      "Epoch: 42, Test Loss: 0.5, Test Acc: 0.85\n",
      "Epoch: 43, Test Loss: 0.5, Test Acc: 0.85\n",
      "Epoch: 44, Test Loss: 0.5, Test Acc: 0.85\n",
      "Epoch: 45, Test Loss: 0.5, Test Acc: 0.86\n",
      "Epoch: 46, Test Loss: 0.49, Test Acc: 0.86\n",
      "Epoch: 47, Test Loss: 0.49, Test Acc: 0.86\n",
      "Epoch: 48, Test Loss: 0.49, Test Acc: 0.86\n",
      "Epoch: 49, Test Loss: 0.49, Test Acc: 0.86\n",
      "Epoch: 50, Test Loss: 0.49, Test Acc: 0.86\n",
      "Epoch: 51, Test Loss: 0.49, Test Acc: 0.86\n",
      "Epoch: 52, Test Loss: 0.49, Test Acc: 0.86\n",
      "Epoch: 53, Test Loss: 0.48, Test Acc: 0.86\n",
      "Epoch: 54, Test Loss: 0.48, Test Acc: 0.86\n",
      "Epoch: 55, Test Loss: 0.48, Test Acc: 0.86\n",
      "Epoch: 56, Test Loss: 0.48, Test Acc: 0.86\n",
      "Epoch: 57, Test Loss: 0.48, Test Acc: 0.86\n",
      "Epoch: 58, Test Loss: 0.48, Test Acc: 0.86\n",
      "Epoch: 59, Test Loss: 0.48, Test Acc: 0.86\n",
      "Epoch: 60, Test Loss: 0.48, Test Acc: 0.86\n",
      "Epoch: 61, Test Loss: 0.47, Test Acc: 0.86\n",
      "Epoch: 62, Test Loss: 0.47, Test Acc: 0.86\n",
      "Epoch: 63, Test Loss: 0.47, Test Acc: 0.86\n",
      "Epoch: 64, Test Loss: 0.47, Test Acc: 0.87\n",
      "Epoch: 65, Test Loss: 0.47, Test Acc: 0.87\n",
      "Epoch: 66, Test Loss: 0.47, Test Acc: 0.87\n",
      "Epoch: 67, Test Loss: 0.47, Test Acc: 0.87\n",
      "Epoch: 68, Test Loss: 0.47, Test Acc: 0.87\n",
      "Epoch: 69, Test Loss: 0.47, Test Acc: 0.87\n",
      "Epoch: 70, Test Loss: 0.47, Test Acc: 0.87\n",
      "Epoch: 71, Test Loss: 0.46, Test Acc: 0.87\n",
      "Epoch: 72, Test Loss: 0.46, Test Acc: 0.87\n",
      "Epoch: 73, Test Loss: 0.46, Test Acc: 0.87\n",
      "Epoch: 74, Test Loss: 0.46, Test Acc: 0.87\n",
      "Epoch: 75, Test Loss: 0.46, Test Acc: 0.87\n",
      "Epoch: 76, Test Loss: 0.46, Test Acc: 0.87\n",
      "Epoch: 77, Test Loss: 0.46, Test Acc: 0.87\n",
      "Epoch: 78, Test Loss: 0.46, Test Acc: 0.87\n",
      "Epoch: 79, Test Loss: 0.46, Test Acc: 0.87\n",
      "Epoch: 80, Test Loss: 0.46, Test Acc: 0.87\n",
      "Epoch: 81, Test Loss: 0.46, Test Acc: 0.87\n",
      "Epoch: 82, Test Loss: 0.46, Test Acc: 0.87\n",
      "Epoch: 83, Test Loss: 0.46, Test Acc: 0.87\n",
      "Epoch: 84, Test Loss: 0.45, Test Acc: 0.87\n",
      "Epoch: 85, Test Loss: 0.45, Test Acc: 0.87\n",
      "Epoch: 86, Test Loss: 0.45, Test Acc: 0.87\n",
      "Epoch: 87, Test Loss: 0.45, Test Acc: 0.87\n",
      "Epoch: 88, Test Loss: 0.45, Test Acc: 0.87\n",
      "Epoch: 89, Test Loss: 0.45, Test Acc: 0.87\n",
      "Epoch: 90, Test Loss: 0.45, Test Acc: 0.87\n",
      "Epoch: 91, Test Loss: 0.45, Test Acc: 0.87\n",
      "Epoch: 92, Test Loss: 0.45, Test Acc: 0.87\n",
      "Epoch: 93, Test Loss: 0.45, Test Acc: 0.87\n",
      "Epoch: 94, Test Loss: 0.45, Test Acc: 0.87\n",
      "Epoch: 95, Test Loss: 0.45, Test Acc: 0.87\n",
      "Epoch: 96, Test Loss: 0.45, Test Acc: 0.87\n",
      "Epoch: 97, Test Loss: 0.45, Test Acc: 0.87\n",
      "Epoch: 98, Test Loss: 0.45, Test Acc: 0.87\n",
      "Epoch: 99, Test Loss: 0.45, Test Acc: 0.87\n",
      "Epoch: 100, Test Loss: 0.45, Test Acc: 0.87\n",
      "Epoch: 101, Test Loss: 0.45, Test Acc: 0.87\n",
      "Epoch: 102, Test Loss: 0.45, Test Acc: 0.87\n",
      "Epoch: 103, Test Loss: 0.45, Test Acc: 0.87\n",
      "Epoch: 104, Test Loss: 0.45, Test Acc: 0.87\n",
      "Epoch: 105, Test Loss: 0.45, Test Acc: 0.87\n",
      "Epoch: 106, Test Loss: 0.45, Test Acc: 0.87\n",
      "Epoch: 107, Test Loss: 0.45, Test Acc: 0.87\n",
      "Epoch: 108, Test Loss: 0.44, Test Acc: 0.88\n",
      "Epoch: 109, Test Loss: 0.44, Test Acc: 0.88\n",
      "Epoch: 110, Test Loss: 0.44, Test Acc: 0.88\n",
      "Epoch: 111, Test Loss: 0.44, Test Acc: 0.88\n",
      "Epoch: 112, Test Loss: 0.44, Test Acc: 0.88\n",
      "Epoch: 113, Test Loss: 0.44, Test Acc: 0.88\n",
      "Epoch: 114, Test Loss: 0.44, Test Acc: 0.88\n",
      "Epoch: 115, Test Loss: 0.44, Test Acc: 0.88\n",
      "Epoch: 116, Test Loss: 0.44, Test Acc: 0.88\n",
      "Epoch: 117, Test Loss: 0.44, Test Acc: 0.88\n",
      "Epoch: 118, Test Loss: 0.44, Test Acc: 0.88\n",
      "Epoch: 119, Test Loss: 0.44, Test Acc: 0.88\n",
      "Epoch: 120, Test Loss: 0.44, Test Acc: 0.88\n",
      "Epoch: 121, Test Loss: 0.44, Test Acc: 0.88\n",
      "Epoch: 122, Test Loss: 0.44, Test Acc: 0.88\n",
      "Epoch: 123, Test Loss: 0.44, Test Acc: 0.88\n",
      "Epoch: 124, Test Loss: 0.44, Test Acc: 0.88\n",
      "Epoch: 125, Test Loss: 0.44, Test Acc: 0.88\n",
      "Epoch: 126, Test Loss: 0.44, Test Acc: 0.88\n",
      "Epoch: 127, Test Loss: 0.44, Test Acc: 0.88\n",
      "Epoch: 128, Test Loss: 0.44, Test Acc: 0.88\n",
      "Epoch: 129, Test Loss: 0.44, Test Acc: 0.88\n",
      "Epoch: 130, Test Loss: 0.44, Test Acc: 0.88\n",
      "Epoch: 131, Test Loss: 0.44, Test Acc: 0.88\n",
      "Epoch: 132, Test Loss: 0.44, Test Acc: 0.88\n",
      "Epoch: 133, Test Loss: 0.44, Test Acc: 0.88\n",
      "Epoch: 134, Test Loss: 0.44, Test Acc: 0.88\n",
      "Epoch: 135, Test Loss: 0.44, Test Acc: 0.88\n",
      "Epoch: 136, Test Loss: 0.44, Test Acc: 0.88\n",
      "Epoch: 137, Test Loss: 0.44, Test Acc: 0.88\n",
      "Epoch: 138, Test Loss: 0.44, Test Acc: 0.88\n",
      "Epoch: 139, Test Loss: 0.44, Test Acc: 0.88\n",
      "Epoch: 140, Test Loss: 0.44, Test Acc: 0.88\n",
      "Epoch: 141, Test Loss: 0.44, Test Acc: 0.88\n",
      "Epoch: 142, Test Loss: 0.44, Test Acc: 0.88\n",
      "Epoch: 143, Test Loss: 0.44, Test Acc: 0.88\n",
      "Epoch: 144, Test Loss: 0.44, Test Acc: 0.88\n",
      "Epoch: 145, Test Loss: 0.44, Test Acc: 0.88\n",
      "Epoch: 146, Test Loss: 0.44, Test Acc: 0.88\n",
      "Epoch: 147, Test Loss: 0.44, Test Acc: 0.88\n",
      "Epoch: 148, Test Loss: 0.44, Test Acc: 0.88\n",
      "Epoch: 149, Test Loss: 0.44, Test Acc: 0.88\n",
      "Epoch: 150, Test Loss: 0.44, Test Acc: 0.88\n",
      "Epoch: 151, Test Loss: 0.44, Test Acc: 0.88\n",
      "Epoch: 152, Test Loss: 0.44, Test Acc: 0.88\n",
      "Epoch: 153, Test Loss: 0.44, Test Acc: 0.88\n",
      "Epoch: 154, Test Loss: 0.44, Test Acc: 0.88\n",
      "Epoch: 155, Test Loss: 0.44, Test Acc: 0.88\n",
      "Epoch: 156, Test Loss: 0.44, Test Acc: 0.88\n",
      "Epoch: 157, Test Loss: 0.44, Test Acc: 0.88\n",
      "Epoch: 158, Test Loss: 0.44, Test Acc: 0.88\n",
      "Epoch: 159, Test Loss: 0.44, Test Acc: 0.88\n",
      "Epoch: 160, Test Loss: 0.44, Test Acc: 0.88\n",
      "Epoch: 161, Test Loss: 0.44, Test Acc: 0.88\n",
      "Epoch: 162, Test Loss: 0.44, Test Acc: 0.88\n",
      "Epoch: 163, Test Loss: 0.44, Test Acc: 0.88\n",
      "Epoch: 164, Test Loss: 0.44, Test Acc: 0.88\n",
      "Epoch: 165, Test Loss: 0.44, Test Acc: 0.88\n",
      "Epoch: 166, Test Loss: 0.44, Test Acc: 0.88\n",
      "Epoch: 167, Test Loss: 0.44, Test Acc: 0.88\n",
      "Epoch: 168, Test Loss: 0.44, Test Acc: 0.88\n",
      "Epoch: 169, Test Loss: 0.44, Test Acc: 0.88\n",
      "Epoch: 170, Test Loss: 0.44, Test Acc: 0.88\n",
      "Epoch: 171, Test Loss: 0.44, Test Acc: 0.88\n",
      "Epoch: 172, Test Loss: 0.44, Test Acc: 0.88\n",
      "Epoch: 173, Test Loss: 0.44, Test Acc: 0.88\n",
      "Epoch: 174, Test Loss: 0.44, Test Acc: 0.88\n",
      "Epoch: 175, Test Loss: 0.44, Test Acc: 0.88\n",
      "Epoch: 176, Test Loss: 0.44, Test Acc: 0.88\n",
      "Epoch: 177, Test Loss: 0.44, Test Acc: 0.88\n",
      "Epoch: 178, Test Loss: 0.44, Test Acc: 0.88\n",
      "Epoch: 179, Test Loss: 0.44, Test Acc: 0.88\n",
      "Epoch: 180, Test Loss: 0.44, Test Acc: 0.88\n",
      "Epoch: 181, Test Loss: 0.44, Test Acc: 0.88\n",
      "Epoch: 182, Test Loss: 0.44, Test Acc: 0.88\n",
      "Epoch: 183, Test Loss: 0.44, Test Acc: 0.88\n",
      "Epoch: 184, Test Loss: 0.44, Test Acc: 0.88\n",
      "Epoch: 185, Test Loss: 0.44, Test Acc: 0.88\n",
      "Epoch: 186, Test Loss: 0.44, Test Acc: 0.88\n",
      "Epoch: 187, Test Loss: 0.43, Test Acc: 0.88\n",
      "Epoch: 188, Test Loss: 0.43, Test Acc: 0.88\n",
      "Epoch: 189, Test Loss: 0.43, Test Acc: 0.88\n"
     ]
    },
    {
     "name": "stdout",
     "output_type": "stream",
     "text": [
      "Epoch: 190, Test Loss: 0.43, Test Acc: 0.88\n",
      "Epoch: 191, Test Loss: 0.43, Test Acc: 0.88\n",
      "Epoch: 192, Test Loss: 0.43, Test Acc: 0.88\n",
      "Epoch: 193, Test Loss: 0.43, Test Acc: 0.88\n",
      "Epoch: 194, Test Loss: 0.43, Test Acc: 0.88\n",
      "Epoch: 195, Test Loss: 0.43, Test Acc: 0.88\n",
      "Epoch: 196, Test Loss: 0.43, Test Acc: 0.88\n",
      "Epoch: 197, Test Loss: 0.43, Test Acc: 0.88\n",
      "Epoch: 198, Test Loss: 0.43, Test Acc: 0.88\n",
      "Epoch: 199, Test Loss: 0.43, Test Acc: 0.88\n",
      "Epoch: 200, Test Loss: 0.43, Test Acc: 0.88\n",
      "Epoch: 201, Test Loss: 0.43, Test Acc: 0.88\n",
      "Epoch: 202, Test Loss: 0.43, Test Acc: 0.88\n",
      "Epoch: 203, Test Loss: 0.43, Test Acc: 0.88\n",
      "Epoch: 204, Test Loss: 0.43, Test Acc: 0.88\n",
      "Epoch: 205, Test Loss: 0.43, Test Acc: 0.88\n",
      "Epoch: 206, Test Loss: 0.43, Test Acc: 0.88\n",
      "Epoch: 207, Test Loss: 0.43, Test Acc: 0.88\n",
      "Epoch: 208, Test Loss: 0.43, Test Acc: 0.88\n",
      "Epoch: 209, Test Loss: 0.43, Test Acc: 0.88\n",
      "Epoch: 210, Test Loss: 0.43, Test Acc: 0.88\n",
      "Epoch: 211, Test Loss: 0.43, Test Acc: 0.88\n",
      "Epoch: 212, Test Loss: 0.43, Test Acc: 0.88\n",
      "Epoch: 213, Test Loss: 0.43, Test Acc: 0.88\n",
      "Epoch: 214, Test Loss: 0.43, Test Acc: 0.88\n",
      "Epoch: 215, Test Loss: 0.43, Test Acc: 0.88\n",
      "Epoch: 216, Test Loss: 0.43, Test Acc: 0.88\n",
      "Epoch: 217, Test Loss: 0.43, Test Acc: 0.88\n",
      "Epoch: 218, Test Loss: 0.43, Test Acc: 0.88\n",
      "Epoch: 219, Test Loss: 0.43, Test Acc: 0.88\n",
      "Epoch: 220, Test Loss: 0.43, Test Acc: 0.88\n",
      "Epoch: 221, Test Loss: 0.43, Test Acc: 0.88\n",
      "Epoch: 222, Test Loss: 0.43, Test Acc: 0.88\n",
      "Epoch: 223, Test Loss: 0.42, Test Acc: 0.88\n",
      "Epoch: 224, Test Loss: 0.42, Test Acc: 0.88\n",
      "Epoch: 225, Test Loss: 0.42, Test Acc: 0.89\n",
      "Epoch: 226, Test Loss: 0.42, Test Acc: 0.89\n",
      "Epoch: 227, Test Loss: 0.42, Test Acc: 0.89\n",
      "Epoch: 228, Test Loss: 0.42, Test Acc: 0.89\n",
      "Epoch: 229, Test Loss: 0.41, Test Acc: 0.89\n",
      "Epoch: 230, Test Loss: 0.41, Test Acc: 0.89\n",
      "Epoch: 231, Test Loss: 0.41, Test Acc: 0.89\n",
      "Epoch: 232, Test Loss: 0.41, Test Acc: 0.89\n",
      "Epoch: 233, Test Loss: 0.41, Test Acc: 0.89\n",
      "Epoch: 234, Test Loss: 0.41, Test Acc: 0.89\n",
      "Epoch: 235, Test Loss: 0.41, Test Acc: 0.89\n",
      "Epoch: 236, Test Loss: 0.41, Test Acc: 0.89\n",
      "Epoch: 237, Test Loss: 0.41, Test Acc: 0.89\n",
      "Epoch: 238, Test Loss: 0.4, Test Acc: 0.89\n",
      "Epoch: 239, Test Loss: 0.4, Test Acc: 0.89\n",
      "Epoch: 240, Test Loss: 0.4, Test Acc: 0.9\n",
      "Epoch: 241, Test Loss: 0.4, Test Acc: 0.9\n",
      "Epoch: 242, Test Loss: 0.4, Test Acc: 0.9\n",
      "Epoch: 243, Test Loss: 0.4, Test Acc: 0.9\n",
      "Epoch: 244, Test Loss: 0.4, Test Acc: 0.9\n",
      "Epoch: 245, Test Loss: 0.4, Test Acc: 0.9\n",
      "Epoch: 246, Test Loss: 0.4, Test Acc: 0.9\n",
      "Epoch: 247, Test Loss: 0.39, Test Acc: 0.91\n",
      "Epoch: 248, Test Loss: 0.39, Test Acc: 0.91\n",
      "Epoch: 249, Test Loss: 0.39, Test Acc: 0.91\n",
      "Epoch: 250, Test Loss: 0.39, Test Acc: 0.91\n",
      "Epoch: 251, Test Loss: 0.39, Test Acc: 0.92\n",
      "Epoch: 252, Test Loss: 0.39, Test Acc: 0.92\n",
      "Epoch: 253, Test Loss: 0.39, Test Acc: 0.92\n",
      "Epoch: 254, Test Loss: 0.39, Test Acc: 0.92\n",
      "Epoch: 255, Test Loss: 0.39, Test Acc: 0.92\n",
      "Epoch: 256, Test Loss: 0.39, Test Acc: 0.92\n",
      "Epoch: 257, Test Loss: 0.39, Test Acc: 0.93\n",
      "Epoch: 258, Test Loss: 0.38, Test Acc: 0.93\n",
      "Epoch: 259, Test Loss: 0.38, Test Acc: 0.93\n",
      "Epoch: 260, Test Loss: 0.38, Test Acc: 0.93\n",
      "Epoch: 261, Test Loss: 0.38, Test Acc: 0.93\n",
      "Epoch: 262, Test Loss: 0.38, Test Acc: 0.93\n",
      "Epoch: 263, Test Loss: 0.38, Test Acc: 0.93\n",
      "Epoch: 264, Test Loss: 0.38, Test Acc: 0.93\n",
      "Epoch: 265, Test Loss: 0.38, Test Acc: 0.94\n",
      "Epoch: 266, Test Loss: 0.38, Test Acc: 0.94\n",
      "Epoch: 267, Test Loss: 0.38, Test Acc: 0.94\n",
      "Epoch: 268, Test Loss: 0.38, Test Acc: 0.94\n",
      "Epoch: 269, Test Loss: 0.38, Test Acc: 0.94\n",
      "Epoch: 270, Test Loss: 0.38, Test Acc: 0.95\n",
      "Epoch: 271, Test Loss: 0.37, Test Acc: 0.95\n",
      "Epoch: 272, Test Loss: 0.37, Test Acc: 0.95\n",
      "Epoch: 273, Test Loss: 0.37, Test Acc: 0.95\n",
      "Epoch: 274, Test Loss: 0.37, Test Acc: 0.95\n",
      "Epoch: 275, Test Loss: 0.37, Test Acc: 0.95\n",
      "Epoch: 276, Test Loss: 0.37, Test Acc: 0.95\n",
      "Epoch: 277, Test Loss: 0.37, Test Acc: 0.95\n",
      "Epoch: 278, Test Loss: 0.37, Test Acc: 0.95\n",
      "Epoch: 279, Test Loss: 0.37, Test Acc: 0.95\n",
      "Epoch: 280, Test Loss: 0.37, Test Acc: 0.95\n",
      "Epoch: 281, Test Loss: 0.37, Test Acc: 0.95\n",
      "Epoch: 282, Test Loss: 0.37, Test Acc: 0.95\n",
      "Epoch: 283, Test Loss: 0.37, Test Acc: 0.95\n",
      "Epoch: 284, Test Loss: 0.37, Test Acc: 0.95\n",
      "Epoch: 285, Test Loss: 0.37, Test Acc: 0.95\n",
      "Epoch: 286, Test Loss: 0.37, Test Acc: 0.95\n",
      "Epoch: 287, Test Loss: 0.37, Test Acc: 0.95\n",
      "Epoch: 288, Test Loss: 0.37, Test Acc: 0.95\n",
      "Epoch: 289, Test Loss: 0.37, Test Acc: 0.95\n",
      "Epoch: 290, Test Loss: 0.37, Test Acc: 0.95\n",
      "Epoch: 291, Test Loss: 0.37, Test Acc: 0.95\n",
      "Epoch: 292, Test Loss: 0.37, Test Acc: 0.95\n",
      "Epoch: 293, Test Loss: 0.37, Test Acc: 0.95\n",
      "Epoch: 294, Test Loss: 0.37, Test Acc: 0.95\n",
      "Epoch: 295, Test Loss: 0.37, Test Acc: 0.95\n",
      "Epoch: 296, Test Loss: 0.37, Test Acc: 0.95\n",
      "Epoch: 297, Test Loss: 0.37, Test Acc: 0.95\n",
      "Epoch: 298, Test Loss: 0.36, Test Acc: 0.95\n",
      "Epoch: 299, Test Loss: 0.37, Test Acc: 0.95\n",
      "Epoch: 300, Test Loss: 0.37, Test Acc: 0.95\n",
      "\n",
      "Overall accuracy on test set (%): 94.97848153114319\n"
     ]
    }
   ],
   "source": [
    "for epoch in range(epochs):\n",
    "    shuffled_ix = np.random.permutation(np.arange(len(x_train)))\n",
    "    x_train = x_train[shuffled_ix]\n",
    "    y_train = y_train[shuffled_ix]\n",
    "    num_batches = int(len(x_train)/batch_size) + 1\n",
    "\n",
    "    for i in range(num_batches):\n",
    "        min_ix = i * batch_size\n",
    "        max_ix = np.min([len(x_train), ((i+1) * batch_size)])\n",
    "        x_train_batch = x_train[min_ix:max_ix]\n",
    "        y_train_batch = y_train[min_ix:max_ix]\n",
    "\n",
    "        train_dict = {x_data: x_train_batch, y_output: y_train_batch, dropout_keep_prob:0.5}\n",
    "        sess.run(train_step, feed_dict=train_dict)\n",
    "\n",
    "    temp_train_loss, temp_train_acc = sess.run([loss, accuracy], feed_dict=train_dict)\n",
    "    train_loss.append(temp_train_loss)\n",
    "    train_accuracy.append(temp_train_acc)\n",
    "\n",
    "    test_dict = {x_data: x_test, y_output: y_test, dropout_keep_prob:1.0}\n",
    "    temp_test_loss, temp_test_acc = sess.run([loss, accuracy], feed_dict=test_dict)\n",
    "    test_loss.append(temp_test_loss)\n",
    "    test_accuracy.append(temp_test_acc)\n",
    "    print('Epoch: {}, Test Loss: {:.2}, Test Acc: {:.2}'.format(epoch+1, temp_test_loss, temp_test_acc))\n",
    "\n",
    "print('\\nOverall accuracy on test set (%): {}'.format(np.mean(temp_test_acc)*100.0))  \n"
   ]
  },
  {
   "cell_type": "code",
   "execution_count": 23,
   "metadata": {},
   "outputs": [
    {
     "data": {
      "image/png": "[encoded data removed]",
      "text/plain": [
       "<Figure size 432x288 with 1 Axes>"
      ]
     },
     "metadata": {},
     "output_type": "display_data"
    }
   ],
   "source": [
    "epoch_seq = np.arange(1, epochs+1)\n",
    "plt.plot(epoch_seq, train_loss, 'k--', label='Train Set')\n",
    "plt.plot(epoch_seq, test_loss, 'r-', label='Test Set')\n",
    "plt.title('RNN training/test loss')\n",
    "plt.xlabel('Epochs')\n",
    "plt.ylabel('Loss')\n",
    "plt.legend(loc='upper left')\n",
    "plt.show()"
   ]
  },
  {
   "cell_type": "code",
   "execution_count": 24,
   "metadata": {},
   "outputs": [
    {
     "data": {
      "image/png": "[encoded data removed]",
      "text/plain": [
       "<Figure size 432x288 with 1 Axes>"
      ]
     },
     "metadata": {},
     "output_type": "display_data"
    }
   ],
   "source": [
    "plt.plot(epoch_seq, train_accuracy, 'k--', label='Train Set')\n",
    "plt.plot(epoch_seq, test_accuracy, 'r-', label='Test Set')\n",
    "plt.title('Test accuracy')\n",
    "plt.xlabel('Epochs')\n",
    "plt.ylabel('Accuracy')\n",
    "plt.legend(loc='upper left')\n",
    "plt.show()"
   ]
  },
  {
   "cell_type": "code",
   "execution_count": null,
   "metadata": {},
   "outputs": [],
   "source": []
  }
 ],
 "metadata": {
  "kernelspec": {
   "display_name": "Python 3",
   "language": "python",
   "name": "python3"
  },
  "language_info": {
   "codemirror_mode": {
    "name": "ipython",
    "version": 3
   },
   "file_extension": ".py",
   "mimetype": "text/x-python",
   "name": "python",
   "nbconvert_exporter": "python",
   "pygments_lexer": "ipython3",
   "version": "3.6.5"
  }
 },
 "nbformat": 4,
 "nbformat_minor": 2
}
